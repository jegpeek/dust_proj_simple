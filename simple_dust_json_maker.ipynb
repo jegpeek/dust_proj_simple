{
 "cells": [
  {
   "cell_type": "markdown",
   "metadata": {},
   "source": [
    "A notebook for making a 100-frame movie from 3D dust for Linnea as a test\n",
    "\n",
    "Two environment variables need to be set in bash: DROPBOX_ROOT, and FFMPEG_ROOT. The DROPBOX_ROOT folder is the path to the top level directory of the dust-holgrams folder shared by Josh. E.g. in bash,\n",
    "\n",
    "export DROPBOX_ROOT='/Users/catherinezucker/Dropbox/dust-holograms/'\n",
    "\n",
    "You can also set the path to the FFMPEG executable:\n",
    "\n",
    "export FFMPEG_PATH='/usr/local/bin'\n",
    "\n",
    "Ideally, you would set these in your bash_profile profile  (now called zprofile in the latest OS operating systems). Alternatively, if you want to set one of these variables locally in this notebook, you can use:\n",
    "\n",
    "```\n",
    "import os\n",
    "os.environ['DROPBOX_ROOT'] = '/Users/catherinezucker/Dropbox/dust-holograms'\n",
    "os.environ['FFMPEG_ROOT'] = '/Usr/local/bin'\n",
    "\n",
    "```"
   ]
  },
  {
   "cell_type": "markdown",
   "metadata": {},
   "source": [
    "First thing we need to do is figure out how to write some json"
   ]
  },
  {
   "cell_type": "code",
   "execution_count": 1,
   "metadata": {},
   "outputs": [],
   "source": [
    "import json\n",
    "import numpy as np\n",
    "import os\n",
    "%matplotlib inline\n",
    "#%matplotlib notebook\n",
    "from matplotlib import pyplot as plt"
   ]
  },
  {
   "cell_type": "markdown",
   "metadata": {},
   "source": [
    "Josh is having some trouble with ```.zprofile``` so:"
   ]
  },
  {
   "cell_type": "code",
   "execution_count": 2,
   "metadata": {},
   "outputs": [],
   "source": [
    "if (os.environ.keys() != 'DROPBOX_HOME'):\n",
    "    os.environ['DROPBOX_ROOT'] = '/Users/jegpeek/Dropbox/dust-holograms'\n",
    "    os.environ['FFMPEG_ROOT'] = '/Users/jegpeek/'"
   ]
  },
  {
   "cell_type": "markdown",
   "metadata": {},
   "source": [
    "Setting a variable called ```run_name``` to record everything we need about the run"
   ]
  },
  {
   "cell_type": "code",
   "execution_count": 3,
   "metadata": {},
   "outputs": [],
   "source": [
    "run_name = 'orion_run'\n",
    "if os.path.isdir(\"{}/{}/\".format(os.environ['DROPBOX_ROOT'],run_name)) == False:\n",
    "    os.mkdir(\"{}/{}/\".format(os.environ['DROPBOX_ROOT'],run_name))\n",
    "    os.mkdir(\"{}/{}/frames/\".format(os.environ['DROPBOX_ROOT'],run_name))"
   ]
  },
  {
   "cell_type": "markdown",
   "metadata": {},
   "source": [
    "This is the camera properties, which we will fix."
   ]
  },
  {
   "cell_type": "code",
   "execution_count": 4,
   "metadata": {},
   "outputs": [],
   "source": [
    "t = True\n",
    "cprops ={\n",
    "    \"projection\": \"stereographic\",\n",
    "    \"step_size\": 1,\n",
    "    \"max_dist\": 3000.0,\n",
    "    \"fov\": 45.0,\n",
    "    \"x_pix\": 60,\n",
    "    \"y_pix\": 40,\n",
    "    \"vmax\": \"auto\",\n",
    "    \"clip_mode\": \"tanh\",\n",
    "    \"fuzzy\": t,\n",
    "    \"randomize_angles\": t,\n",
    "    \"euler_convention\": \"szyz\"}"
   ]
  },
  {
   "cell_type": "markdown",
   "metadata": {},
   "source": [
    "Then we make an empty list of frames to which we can append frames"
   ]
  },
  {
   "cell_type": "code",
   "execution_count": 5,
   "metadata": {},
   "outputs": [],
   "source": [
    "fprops = []"
   ]
  },
  {
   "cell_type": "markdown",
   "metadata": {},
   "source": [
    "Linnea asked for 100 frames orbiting around a point with equal distance. We'll assume that the middle of these 100 frames is the Sun, and we'll set some sweep out angle in the Galactic Plane."
   ]
  },
  {
   "cell_type": "code",
   "execution_count": 6,
   "metadata": {},
   "outputs": [],
   "source": [
    "nframes = 10 # 100 frames\n",
    "# orion is at l = 210, distance of 400 pc\n",
    "x0 = np.cos(210*np.pi/180)*400\n",
    "y0 = np.sin(210*np.pi/180)*400\n",
    "orbit_point = np.array([x0, y0, 0]) # I think this means 500 pc toward Galactic center from the Sun...?\n",
    "angle_sweep = 45 # half of this CCW and half CW from the sun"
   ]
  },
  {
   "cell_type": "code",
   "execution_count": 7,
   "metadata": {},
   "outputs": [],
   "source": [
    "def sweep(xc, yc, angle_sweep, nframes):\n",
    "    R = np.sqrt(xc**2+ yc**2)\n",
    "    phi =np.arctan2(yc, xc)*180/np.pi\n",
    "    dangs = np.linspace(0, angle_sweep, nframes)\n",
    "    xs = xc - R*np.cos((phi-angle_sweep/2+dangs)*np.pi/180)\n",
    "    ys = yc - R*np.sin((phi-angle_sweep/2+dangs)*np.pi/180)\n",
    "    angs = (dangs-angle_sweep/2+phi)*np.pi/180 ## wait are these in RADIANs??\n",
    "    return xs, ys, angs"
   ]
  },
  {
   "cell_type": "code",
   "execution_count": 8,
   "metadata": {},
   "outputs": [],
   "source": [
    "xs, ys, angs = sweep(x0, y0, angle_sweep, nframes)"
   ]
  },
  {
   "cell_type": "code",
   "execution_count": 9,
   "metadata": {},
   "outputs": [
    {
     "data": {
      "image/png": "[encoded data removed]",
      "text/plain": [
       "<Figure size 360x360 with 1 Axes>"
      ]
     },
     "metadata": {
      "needs_background": "light"
     },
     "output_type": "display_data"
    }
   ],
   "source": [
    "plt.figure(figsize=[5, 5])\n",
    "plt.scatter(x0, y0)\n",
    "plt.scatter(0, 0, c='red')\n",
    "plt.plot(xs, ys)\n",
    "plt.xlim([-500, 500])\n",
    "plt.ylim([-500, 500])\n",
    "plt.savefig('{}/{}/arc_{}'.format(os.environ['DROPBOX_ROOT'],run_name,run_name))"
   ]
  },
  {
   "cell_type": "code",
   "execution_count": 10,
   "metadata": {},
   "outputs": [],
   "source": [
    "for i in range(nframes):\n",
    "    fprops.append({\n",
    "      \"xyz\": [xs[i], ys[i], 0.0],\n",
    "      \"angles\": [angs[i], 0.0, 0.0]\n",
    "    })"
   ]
  },
  {
   "cell_type": "code",
   "execution_count": 11,
   "metadata": {},
   "outputs": [],
   "source": [
    "allprops = {\"camera_props\": cprops,\"frame_props\":fprops }"
   ]
  },
  {
   "cell_type": "code",
   "execution_count": 12,
   "metadata": {},
   "outputs": [
    {
     "name": "stdout",
     "output_type": "stream",
     "text": [
      "{\n",
      "  \"camera_props\": {\n",
      "    \"projection\": \"stereographic\",\n",
      "    \"step_size\": 1,\n",
      "    \"max_dist\": 3000.0,\n",
      "    \"fov\": 45.0,\n",
      "    \"x_pix\": 60,\n",
      "    \"y_pix\": 40,\n",
      "    \"vmax\": \"auto\",\n",
      "    \"clip_mode\": \"tanh\",\n",
      "    \"fuzzy\": true,\n",
      "    \"randomize_angles\": true,\n",
      "    \"euler_convention\": \"szyz\"\n",
      "  },\n",
      "  \"frame_props\": [\n",
      "    {\n",
      "      \"xyz\": [\n",
      "        50.167783035748755,\n",
      "        -147.78952311197943,\n",
      "        0.0\n",
      "      ],\n",
      "      \"angles\": [\n",
      "        -3.0106929596902186,\n",
      "        0.0,\n",
      "        0.0\n",
      "      ]\n",
      "    },\n",
      "    {\n",
      "      \"xyz\": [\n",
      "        44.108241334198,\n",
      "        -113.42415442475912,\n",
      "        0.0\n",
      "      ],\n",
      "      \"angles\": [\n",
      "        -2.9234264970905026,\n",
      "        0.0,\n",
      "        0.0\n",
      "      ]\n",
      "    },\n",
      "    {\n",
      "      \"xyz\": [\n",
      "        35.07661878551545,\n",
      "        -79.71768019829088,\n",
      "        0.0\n",
      "      ],\n",
      "      \"angles\": [\n",
      "        -2.836160034490786,\n",
      "        0.0,\n",
      "        0.0\n",
      "      ]\n",
      "    },\n",
      "    {\n",
      "      \"xyz\": [\n",
      "        23.14165149073932,\n",
      "        -46.92662705396427,\n",
      "        0.0\n",
      "      ],\n",
      "      \"angles\": [\n",
      "        -2.7488935718910694,\n",
      "        0.0,\n",
      "        0.0\n",
      "      ]\n",
      "    },\n",
      "    {\n",
      "      \"xyz\": [\n",
      "        8.39417175751339,\n",
      "        -15.300554705986627,\n",
      "        0.0\n",
      "      ],\n",
      "      \"angles\": [\n",
      "        -2.661627109291353,\n",
      "        0.0,\n",
      "        0.0\n",
      "      ]\n",
      "    },\n",
      "    {\n",
      "      \"xyz\": [\n",
      "        -9.053583188621019,\n",
      "        14.919843338729294,\n",
      "        0.0\n",
      "      ],\n",
      "      \"angles\": [\n",
      "        -2.5743606466916367,\n",
      "        0.0,\n",
      "        0.0\n",
      "      ]\n",
      "    },\n",
      "    {\n",
      "      \"xyz\": [\n",
      "        -29.068825397281273,\n",
      "        43.50457160348816,\n",
      "        0.0\n",
      "      ],\n",
      "      \"angles\": [\n",
      "        -2.48709418409192,\n",
      "        0.0,\n",
      "        0.0\n",
      "      ]\n",
      "    },\n",
      "    {\n",
      "      \"xyz\": [\n",
      "        -51.49922678972575,\n",
      "        70.23608304626401,\n",
      "        0.0\n",
      "      ],\n",
      "      \"angles\": [\n",
      "        -2.3998277214922035,\n",
      "        0.0,\n",
      "        0.0\n",
      "      ]\n",
      "    },\n",
      "    {\n",
      "      \"xyz\": [\n",
      "        -76.17407846751121,\n",
      "        94.91093472404947,\n",
      "        0.0\n",
      "      ],\n",
      "      \"angles\": [\n",
      "        -2.312561258892487,\n",
      "        0.0,\n",
      "        0.0\n",
      "      ]\n",
      "    },\n",
      "    {\n",
      "      \"xyz\": [\n",
      "        -102.90558991028715,\n",
      "        117.34133611649406,\n",
      "        0.0\n",
      "      ],\n",
      "      \"angles\": [\n",
      "        -2.2252947962927703,\n",
      "        0.0,\n",
      "        0.0\n",
      "      ]\n",
      "    }\n",
      "  ]\n",
      "}\n"
     ]
    }
   ],
   "source": [
    "print(json.dumps(allprops,indent=2))"
   ]
  },
  {
   "cell_type": "code",
   "execution_count": 13,
   "metadata": {},
   "outputs": [],
   "source": [
    "with open('{}/{}/{}.json'.format(os.environ['DROPBOX_ROOT'],run_name,run_name), 'w') as outfile:\n",
    "    json.dump(allprops, outfile,indent=2)"
   ]
  },
  {
   "cell_type": "code",
   "execution_count": 14,
   "metadata": {},
   "outputs": [
    {
     "data": {
      "text/plain": [
       "0"
      ]
     },
     "execution_count": 14,
     "metadata": {},
     "output_type": "execute_result"
    }
   ],
   "source": [
    "os.system(\"python3 project_frames.py {}/{}/{}.json {}/leike2020_bayestar19_splice.npy {}/{}/frames/{}_{{:05d}}.png\"\n",
    "          .format(os.environ['DROPBOX_ROOT'],run_name,run_name,os.environ['DROPBOX_ROOT'],os.environ['DROPBOX_ROOT'],run_name, run_name))\n",
    "          \n",
    "\n",
    "os.system(\"{}/ffmpeg -r 30 -start_number 0 -i {}/{}/frames/{}_%05d.png -c:v libx264 -s 600x400 -r 30 -pix_fmt yuv420p {}/{}/{}.mp4\"\n",
    "          .format(os.environ['FFMPEG_ROOT'],os.environ['DROPBOX_ROOT'],run_name,run_name,os.environ['DROPBOX_ROOT'],run_name, run_name))\n",
    "\n"
   ]
  }
 ],
 "metadata": {
  "kernelspec": {
   "display_name": "Python 3",
   "language": "python",
   "name": "python3"
  },
  "language_info": {
   "codemirror_mode": {
    "name": "ipython",
    "version": 3
   },
   "file_extension": ".py",
   "mimetype": "text/x-python",
   "name": "python",
   "nbconvert_exporter": "python",
   "pygments_lexer": "ipython3",
   "version": "3.8.3"
  }
 },
 "nbformat": 4,
 "nbformat_minor": 4
}
