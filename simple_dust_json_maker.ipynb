{
 "cells": [
  {
   "cell_type": "markdown",
   "metadata": {},
   "source": [
    "A notebook for making a 100-frame movie from 3D dust for Linnea as a test\n",
    "\n",
    "Two environment variables need to be set in bash: DROPBOX_ROOT, and FFMPEG_ROOT. The DROPBOX_ROOT folder is the path to the top level directory of the dust-holgrams folder shared by Josh. E.g. in bash,\n",
    "\n",
    "export DROPBOX_ROOT='/Users/catherinezucker/Dropbox/dust-holograms/'\n",
    "\n",
    "You can also set the path to the FFMPEG executable:\n",
    "\n",
    "export FFMPEG_PATH='/usr/local/bin'\n",
    "\n",
    "Ideally, you would set these in your bash_profile profile  (now called zprofile in the latest OS operating systems). Alternatively, if you want to set one of these variables locally in this notebook, you can use:\n",
    "\n",
    "```\n",
    "import os\n",
    "os.environ['DROPBOX_ROOT'] = '/Users/catherinezucker/Dropbox/dust-holograms'\n",
    "os.environ['FFMPEG_ROOT'] = '/Usr/local/bin'\n",
    "\n",
    "```"
   ]
  },
  {
   "cell_type": "markdown",
   "metadata": {},
   "source": [
    "First thing we need to do is figure out how to write some json"
   ]
  },
  {
   "cell_type": "code",
   "execution_count": 1,
   "metadata": {},
   "outputs": [],
   "source": [
    "import json\n",
    "import numpy as np\n",
    "import os\n",
    "%matplotlib inline\n",
    "#%matplotlib notebook\n",
    "from matplotlib import pyplot as plt\n",
    "from astropy import table"
   ]
  },
  {
   "cell_type": "markdown",
   "metadata": {},
   "source": [
    "Josh is having some trouble with ```.zprofile``` so:"
   ]
  },
  {
   "cell_type": "code",
   "execution_count": 2,
   "metadata": {},
   "outputs": [],
   "source": [
    "if (os.environ.keys() != 'DROPBOX_HOME'):\n",
    "    os.environ['DROPBOX_ROOT'] = '/Users/jegpeek/Dropbox/dust-holograms'\n",
    "    os.environ['FFMPEG_ROOT'] = '/Users/jegpeek/'"
   ]
  },
  {
   "cell_type": "markdown",
   "metadata": {},
   "source": [
    "Using a variable called ```run_name``` to record everything we need about the run"
   ]
  },
  {
   "cell_type": "code",
   "execution_count": 3,
   "metadata": {},
   "outputs": [],
   "source": [
    "def define_paths(run_name):\n",
    "    if os.path.isdir(\"{}/{}/\".format(os.environ['DROPBOX_ROOT'],run_name)) == False:\n",
    "        os.mkdir(\"{}/{}/\".format(os.environ['DROPBOX_ROOT'],run_name))\n",
    "        os.mkdir(\"{}/{}/frames/\".format(os.environ['DROPBOX_ROOT'],run_name))"
   ]
  },
  {
   "cell_type": "markdown",
   "metadata": {},
   "source": [
    "This is the camera properties, which we will fix."
   ]
  },
  {
   "cell_type": "code",
   "execution_count": 4,
   "metadata": {},
   "outputs": [],
   "source": [
    "arc = False\n",
    "if arc:\n",
    "    ec = \"szyz\"\n",
    "if not arc:\n",
    "    ec = \"rxyz\"\n",
    "\n",
    "t = True\n",
    "cprops ={\n",
    "    \"projection\": \"stereographic\",\n",
    "    \"step_size\": 1,\n",
    "    \"max_dist\": 500.0,\n",
    "    \"fov\": 45.0,\n",
    "    \"x_pix\": 60,\n",
    "    \"y_pix\": 40,\n",
    "    \"vmax\": \"auto\",\n",
    "    \"clip_mode\": \"tanh\",\n",
    "    \"fuzzy\": t,\n",
    "    \"randomize_angles\": t,\n",
    "    \"euler_convention\": ec}"
   ]
  },
  {
   "cell_type": "code",
   "execution_count": 5,
   "metadata": {},
   "outputs": [
    {
     "name": "stdout",
     "output_type": "stream",
     "text": [
      "{'projection': 'stereographic', 'step_size': 1, 'max_dist': 500.0, 'fov': 45.0, 'x_pix': 60, 'y_pix': 40, 'vmax': 'auto', 'clip_mode': 'tanh', 'fuzzy': True, 'randomize_angles': True, 'euler_convention': 'rxyz'}\n"
     ]
    }
   ],
   "source": [
    "print(cprops)"
   ]
  },
  {
   "cell_type": "markdown",
   "metadata": {},
   "source": [
    "_In arc mode_ Linnea asked for 100 frames orbiting around a point with equal distance. We'll assume that the middle of these 100 frames is the Sun, and we'll set some sweep out angle in the Galactic Plane."
   ]
  },
  {
   "cell_type": "code",
   "execution_count": 6,
   "metadata": {},
   "outputs": [],
   "source": [
    "nframes = 9 # 100 frames\n",
    "if arc:\n",
    "    angle_sweep = 45 # half of this CCW and half CW from the sun"
   ]
  },
  {
   "cell_type": "code",
   "execution_count": 7,
   "metadata": {},
   "outputs": [],
   "source": [
    "def sweep(xc, yc, angle_sweep, nframes):\n",
    "    R = np.sqrt(xc**2+ yc**2)\n",
    "    phi =np.arctan2(yc, xc)*180/np.pi\n",
    "    dangs = np.linspace(0, angle_sweep, nframes)\n",
    "    xs = xc - R*np.cos((phi-angle_sweep/2+dangs)*np.pi/180)\n",
    "    ys = yc - R*np.sin((phi-angle_sweep/2+dangs)*np.pi/180)\n",
    "    angs = (dangs-angle_sweep/2+phi)*np.pi/180 ## wait are these in RADIANs??\n",
    "    return xs, ys, angs"
   ]
  },
  {
   "cell_type": "code",
   "execution_count": 8,
   "metadata": {},
   "outputs": [],
   "source": [
    "def plot_ang(x0, y0, xs, ys, run_name):\n",
    "    plt.figure(figsize=[5, 5])\n",
    "    plt.scatter(x0, y0)\n",
    "    plt.scatter(0, 0, c='red')\n",
    "    plt.plot(xs, ys)\n",
    "    plt.xlim([-500, 500])\n",
    "    plt.ylim([-500, 500])\n",
    "    plt.title(run_name)\n",
    "    plt.savefig('{}/{}/arc_{}'.format(os.environ['DROPBOX_ROOT'],run_name,run_name))"
   ]
  },
  {
   "cell_type": "code",
   "execution_count": 9,
   "metadata": {},
   "outputs": [],
   "source": [
    "def plot_track(xts, yts, xc, yc, run_name):\n",
    "    plt.figure(figsize=[5, 5])\n",
    "    plt.scatter(xts, yts)\n",
    "    plt.scatter(0, 0, c='C1')\n",
    "    plt.scatter(xc, yc, c='C2')\n",
    "    plt.xlim([-500, 500])\n",
    "    plt.ylim([-500, 500])\n",
    "    plt.title(run_name)\n",
    "    plt.savefig('{}/{}/arc_{}'.format(os.environ['DROPBOX_ROOT'],run_name,run_name))"
   ]
  },
  {
   "cell_type": "markdown",
   "metadata": {},
   "source": [
    "In track mode we'll move from one point to another while pointing at the cloud and keeping to top of the camera perpindicular to the plane that contains the track and cloud"
   ]
  },
  {
   "cell_type": "markdown",
   "metadata": {},
   "source": [
    "Given the current position of the viewer, the unit direction toward the start of the track, and the cloud position, compute the angles of rotation"
   ]
  },
  {
   "cell_type": "code",
   "execution_count": 10,
   "metadata": {},
   "outputs": [],
   "source": [
    "def determine_angles(v_pos, c_pos, t_hat):\n",
    "    x_hat = np.array([1, 0, 0])\n",
    "    y_hat = np.array([0, 1, 0])\n",
    "    z_hat = np.array([0, 0, 1])\n",
    "    # the vector to the cloud\n",
    "    c_vec = c_pos-v_pos\n",
    "    # the unit vector toward the cloud\n",
    "    c_hat = c_vec/np.sqrt(np.sum(c_vec**2))\n",
    "    \n",
    "    #FIRST\n",
    "    # the unit vector perp to the plane containing the track and the cloud\n",
    "    n_OCT = np.cross(c_hat, t_hat) #CHECK ORDER ####FLIPPED\n",
    "    n_hat_OCT = n_OCT/np.sqrt(np.sum(n_OCT**2))\n",
    "    #print('n_hat_OCT', n_hat_OCT)\n",
    "    #print('c_hat', c_hat)\n",
    "    #print('v_pos', v_pos)\n",
    "    #print('c_vec', c_vec)\n",
    "    #print('c_pos', c_pos)\n",
    "    # find the new orientation of the side of the camera\n",
    "    v_y_prime = np.cross(n_hat_OCT, x_hat) #CHECK ORDER (correct)\n",
    "    v_hat_y_prime = v_y_prime/np.sqrt(np.sum(v_y_prime**2))\n",
    "    # and find the angle to rotate first\n",
    "    theta = np.arccos(np.dot(v_hat_y_prime,y_hat))\n",
    "    #print('theta', theta)\n",
    "    #print('v_hat_y_prime',v_hat_y_prime)\n",
    "    \n",
    "    #SECOND\n",
    "    # the unit vector perp to the plane that contains the rotation \n",
    "    #n_phi = np.cross(v_hat_y_prime, x_hat) #CHECK ORDER ###FLIPPED\n",
    "    #n_hat_phi = n_phi/np.sqrt(np.sum(n_phi**2))\n",
    "    # the vector being rotated to\n",
    "    #v_x_prime_prime = np.cross(n_hat_OCT,n_hat_phi) #CHECK ORDER (correct)\n",
    "    #### OOOPS\n",
    "    v_x_prime_prime = np.cross(v_hat_y_prime, n_hat_OCT)\n",
    "    v_hat_x_prime_prime = v_x_prime_prime/np.sqrt(np.sum(v_x_prime_prime**2))\n",
    "    # and the angle rotated\n",
    "    phi = np.arccos(np.dot(v_hat_x_prime_prime, x_hat)) ###ORIGINAL\n",
    "   \n",
    "    #FINALLY\n",
    "    zeta = np.arccos(np.dot(v_hat_x_prime_prime, c_hat))\n",
    "    print('c hat', c_hat)\n",
    "    internal = np.zeros([3, 4])\n",
    "    internal[:, 0]= c_hat\n",
    "    internal[:, 1]=n_hat_OCT\n",
    "    internal[:, 2]=v_hat_y_prime\n",
    "    internal[:, 3]=v_hat_x_prime_prime\n",
    "    return theta, phi, zeta, internal\n",
    "    "
   ]
  },
  {
   "cell_type": "markdown",
   "metadata": {},
   "source": [
    "given some inputs build a track"
   ]
  },
  {
   "cell_type": "code",
   "execution_count": 11,
   "metadata": {},
   "outputs": [],
   "source": [
    "def track(xt1, yt1, zt1, xt2, yt2, zt2, nframes):\n",
    "    xts = np.linspace(xt1, xt2, nframes)\n",
    "    yts = np.linspace(yt1, yt2, nframes)\n",
    "    zts = np.linspace(zt1, zt2, nframes)\n",
    "    t_vec = np.array([xt2-xt1, yt2-yt1, zt2-zt1])\n",
    "    t_hat = t_vec/np.sqrt(np.sum(t_vec**2))\n",
    "    return xts, yts, zts, t_hat"
   ]
  },
  {
   "cell_type": "code",
   "execution_count": 12,
   "metadata": {},
   "outputs": [],
   "source": [
    "def build_fprops(fprops, cprops, angs, xs, ys, zc):\n",
    "    for i in range(nframes):\n",
    "        fprops.append({\n",
    "          \"xyz\": [xs[i], ys[i], zc],\n",
    "          \"angles\": [angs[i], 0.0, 0.0]\n",
    "        })\n",
    "    allprops = {\"camera_props\": cprops,\"frame_props\":fprops }\n",
    "    return allprops"
   ]
  },
  {
   "cell_type": "code",
   "execution_count": 13,
   "metadata": {},
   "outputs": [],
   "source": [
    "def build_fprops_track(fprops, cprops, theatas, phis, zetas, xs, ys, zs):\n",
    "    for i in range(nframes):\n",
    "        fprops.append({\n",
    "          \"xyz\": [xs[i], ys[i], zs[i]],\n",
    "          \"angles\": [thetas[i], phis[i], zetas[i]]\n",
    "        })\n",
    "    allprops = {\"camera_props\": cprops,\"frame_props\":fprops }\n",
    "    return allprops"
   ]
  },
  {
   "cell_type": "markdown",
   "metadata": {},
   "source": [
    "Let's read in a list of molecular clouds and make movies for each one:"
   ]
  },
  {
   "cell_type": "code",
   "execution_count": 14,
   "metadata": {},
   "outputs": [],
   "source": [
    "clouds = table.Table.read('{}/Holo_Cloud_Targets.csv'.format(os.environ['DROPBOX_ROOT']))\n",
    "#clouds = table.Table.read('{}/Holo_TEST_Targets.csv'.format(os.environ['DROPBOX_ROOT']))"
   ]
  },
  {
   "cell_type": "code",
   "execution_count": 15,
   "metadata": {},
   "outputs": [
    {
     "name": "stdout",
     "output_type": "stream",
     "text": [
      "Chamaeleon\n",
      "c hat [ 0.94248741 -0.26928212 -0.19800156]\n",
      "[  85 -153  -50]\n",
      "c hat [ 0.8900608  -0.39768674 -0.22279369]\n",
      "[  85 -153  -50]\n",
      "c hat [ 0.79961764 -0.54710681 -0.24755964]\n",
      "[  85 -153  -50]\n",
      "c hat [ 0.65834181 -0.70374469 -0.26707578]\n",
      "[  85 -153  -50]\n",
      "c hat [ 0.46696249 -0.84053247 -0.27468381]\n",
      "[  85 -153  -50]\n",
      "c hat [ 0.24971586 -0.93075911 -0.26707578]\n",
      "[  85 -153  -50]\n",
      "c hat [ 0.04208514 -0.96795819 -0.24755964]\n",
      "[  85 -153  -50]\n",
      "c hat [-0.13256225 -0.96581066 -0.22279369]\n",
      "[  85 -153  -50]\n",
      "c hat [-0.26928212 -0.94248741 -0.19800156]\n",
      "[  85 -153  -50]\n",
      "Loaded specifications for 9 images.\n"
     ]
    },
    {
     "name": "stderr",
     "output_type": "stream",
     "text": [
      "100% (9 of 9) |##########################| Elapsed Time: 0:00:02 ETA:  00:00:00"
     ]
    },
    {
     "name": "stdout",
     "output_type": "stream",
     "text": [
      "All workers done.\n",
      "0.397824734759316\n",
      "Loading map ...\n",
      "Ray-casting frames ...\n",
      "frame 0: vmax = 0.005758174758801033\n",
      "frame 1: vmax = 0.0059493759861470605\n",
      "frame 2: vmax = 0.007192619893854499\n",
      "frame 3: vmax = 0.012427704554023877\n",
      "frame 4: vmax = 0.02085637663317175\n",
      "frame 5: vmax = 0.017477075759336002\n",
      "frame 6: vmax = 0.013193035211374082\n",
      "frame 7: vmax = 0.016642361310456183\n",
      "frame 8: vmax = 0.013080349516065326\n",
      "Worker finished.\n"
     ]
    },
    {
     "name": "stderr",
     "output_type": "stream",
     "text": [
      "ffmpeg version 5.0-tessus  https://evermeet.cx/ffmpeg/  Copyright (c) 2000-2022 the FFmpeg developers\n",
      "  built with Apple clang version 11.0.0 (clang-1100.0.33.17)\n",
      "  configuration: --cc=/usr/bin/clang --prefix=/opt/ffmpeg --extra-version=tessus --enable-avisynth --enable-fontconfig --enable-gpl --enable-libaom --enable-libass --enable-libbluray --enable-libdav1d --enable-libfreetype --enable-libgsm --enable-libmodplug --enable-libmp3lame --enable-libmysofa --enable-libopencore-amrnb --enable-libopencore-amrwb --enable-libopenh264 --enable-libopenjpeg --enable-libopus --enable-librubberband --enable-libshine --enable-libsnappy --enable-libsoxr --enable-libspeex --enable-libtheora --enable-libtwolame --enable-libvidstab --enable-libvmaf --enable-libvo-amrwbenc --enable-libvorbis --enable-libvpx --enable-libwebp --enable-libx264 --enable-libx265 --enable-libxavs --enable-libxvid --enable-libzimg --enable-libzmq --enable-libzvbi --enable-version3 --pkg-config-flags=--static --disable-ffplay\n",
      "  libavutil      57. 17.100 / 57. 17.100\n",
      "  libavcodec     59. 18.100 / 59. 18.100\n",
      "  libavformat    59. 16.100 / 59. 16.100\n",
      "  libavdevice    59.  4.100 / 59.  4.100\n",
      "  libavfilter     8. 24.100 /  8. 24.100\n",
      "  libswscale      6.  4.100 /  6.  4.100\n",
      "  libswresample   4.  3.100 /  4.  3.100\n",
      "  libpostproc    56.  3.100 / 56.  3.100\n",
      "Input #0, image2, from '/Users/jegpeek/Dropbox/dust-holograms/Chamaeleon_test_track_3/frames/Chamaeleon_test_track_3_%05d.png':\n",
      "  Duration: 00:00:00.76, start: 0.000000, bitrate: N/A\n",
      "  Stream #0:0: Video: png, gray16be(pc), 60x40, 25 fps, 25 tbr, 25 tbn\n",
      "Stream mapping:\n",
      "  Stream #0:0 -> #0:0 (png (native) -> h264 (libx264))\n",
      "Press [q] to stop, [?] for help\n",
      "[libx264 @ 0x7fd4613050c0] using cpu capabilities: MMX2 SSE2Fast SSSE3 SSE4.2 AVX FMA3 BMI2 AVX2\n",
      "[libx264 @ 0x7fd4613050c0] profile High, level 3.0, 4:2:0, 8-bit\n",
      "[libx264 @ 0x7fd4613050c0] 264 - core 164 r3081 19856cc - H.264/MPEG-4 AVC codec - Copyleft 2003-2021 - http://www.videolan.org/x264.html - options: cabac=1 ref=3 deblock=1:0:0 analyse=0x3:0x113 me=hex subme=7 psy=1 psy_rd=1.00:0.00 mixed_ref=1 me_range=16 chroma_me=1 trellis=1 8x8dct=1 cqm=0 deadzone=21,11 fast_pskip=1 chroma_qp_offset=-2 threads=12 lookahead_threads=2 sliced_threads=0 nr=0 decimate=1 interlaced=0 bluray_compat=0 constrained_intra=0 bframes=3 b_pyramid=2 b_adapt=1 b_bias=0 direct=1 weightb=1 open_gop=0 weightp=2 keyint=250 keyint_min=25 scenecut=40 intra_refresh=0 rc_lookahead=40 rc=crf mbtree=1 crf=23.0 qcomp=0.60 qpmin=0 qpmax=69 qpstep=4 ip_ratio=1.40 aq=1:1.00\n",
      "Output #0, mp4, to '/Users/jegpeek/Dropbox/dust-holograms/Chamaeleon_test_track_3/Chamaeleon_test_track_3.mp4':\n",
      "  Metadata:\n",
      "    encoder         : Lavf59.16.100\n",
      "  Stream #0:0: Video: h264 (avc1 / 0x31637661), yuv420p(tv, progressive), 600x400, q=2-31, 30 fps, 15360 tbn\n",
      "    Metadata:\n",
      "      encoder         : Lavc59.18.100 libx264\n",
      "    Side data:\n",
      "      cpb: bitrate max/min/avg: 0/0/0 buffer size: 0 vbv_delay: N/A\n",
      "frame=    1 fps=0.0 q=0.0 size=       0kB time=00:00:00.00 bitrate=N/A speed=   0x    \r",
      "frame=   19 fps=0.0 q=-1.0 Lsize=      72kB time=00:00:00.53 bitrate=1106.3kbits/s speed=5.02x    \n",
      "video:71kB audio:0kB subtitle:0kB other streams:0kB global headers:0kB muxing overhead: 1.463549%\n",
      "[libx264 @ 0x7fd4613050c0] frame I:2     Avg QP:23.25  size:  3611\n",
      "[libx264 @ 0x7fd4613050c0] frame P:10    Avg QP:24.82  size:  3630\n",
      "[libx264 @ 0x7fd4613050c0] frame B:7     Avg QP:25.39  size:  4070\n",
      "[libx264 @ 0x7fd4613050c0] consecutive B-frames: 36.8% 42.1%  0.0% 21.1%\n",
      "[libx264 @ 0x7fd4613050c0] mb I  I16..4: 17.7% 81.7%  0.6%\n",
      "[libx264 @ 0x7fd4613050c0] mb P  I16..4: 14.1% 53.9%  0.3%  P16..4: 24.7%  3.2%  0.4%  0.0%  0.0%    skip: 3.5%\n",
      "[libx264 @ 0x7fd4613050c0] mb B  I16..4:  7.0% 30.8%  0.2%  B16..8: 32.4% 12.8%  1.1%  direct: 4.0%  skip:11.7%  L0:40.0% L1:57.3% BI: 2.6%\n",
      "[libx264 @ 0x7fd4613050c0] 8x8 transform intra:79.9% inter:98.6%\n",
      "[libx264 @ 0x7fd4613050c0] coded y,uvDC,uvAC intra: 47.8% 0.0% 0.0% inter: 32.9% 0.0% 0.0%\n",
      "[libx264 @ 0x7fd4613050c0] i16 v,h,dc,p: 15% 20% 10% 55%\n",
      "[libx264 @ 0x7fd4613050c0] i8 v,h,dc,ddl,ddr,vr,hd,vl,hu: 20% 22% 19%  6%  8%  6%  7%  5%  7%\n",
      "[libx264 @ 0x7fd4613050c0] i4 v,h,dc,ddl,ddr,vr,hd,vl,hu: 27% 24%  8%  4% 14%  8%  7%  5%  4%\n",
      "[libx264 @ 0x7fd4613050c0] i8c dc,h,v,p: 100%  0%  0%  0%\n",
      "[libx264 @ 0x7fd4613050c0] Weighted P-Frames: Y:10.0% UV:0.0%\n",
      "[libx264 @ 0x7fd4613050c0] ref P L0: 53.6%  6.1% 25.4% 14.1%  0.8%\n",
      "[libx264 @ 0x7fd4613050c0] ref B L0: 72.1% 23.2%  4.7%\n",
      "[libx264 @ 0x7fd4613050c0] ref B L1: 94.5%  5.5%\n",
      "[libx264 @ 0x7fd4613050c0] kb/s:909.60\n"
     ]
    },
    {
     "data": {
      "image/png": "[encoded data removed]",
      "text/plain": [
       "<Figure size 360x360 with 1 Axes>"
      ]
     },
     "metadata": {
      "needs_background": "light"
     },
     "output_type": "display_data"
    }
   ],
   "source": [
    "makeimages = True\n",
    "makemovies = True\n",
    "oldzeta = 0\n",
    "tl=2\n",
    "for c in clouds[0:1]:\n",
    "    print(c['cloud'])\n",
    "    run_name = c['cloud'] + '_test_track_3'\n",
    "    define_paths(run_name)\n",
    "    if arc:\n",
    "        xs, ys, angs = sweep(c['x'], c['y'], angle_sweep, nframes)\n",
    "        print(xs, ys, angs)\n",
    "        plot_ang(c['x'], c['y'], xs, ys, run_name)\n",
    "        # we make an empty list of frames to which we can append frames\n",
    "        fprops = []\n",
    "        allprops = build_fprops(fprops, cprops, angs, xs, ys, np.float(c['z']))\n",
    "    if not arc:\n",
    "        #hardcoding a track\n",
    "        #xts, yts, zts, t_hat = track(c['xt1'], c['yt1'], c['zt1'], c['xt2'], c['yt2'], c['zt2'], nframes)\n",
    "        xts, yts, zts, t_hat = track(c['y']*tl/2, c['x']*(-1)*tl/2, 0, c['y']*(-1)*tl/2, c['x']*(tl/2), 0, nframes)\n",
    "        plot_track(xts, yts, c['x'], c['y'], run_name)\n",
    "        fprops = []\n",
    "        thetas = np.zeros(nframes)\n",
    "        phis = np.zeros(nframes)\n",
    "        zetas = np.zeros(nframes)\n",
    "        internals = np.zeros([nframes, 3, 4])\n",
    "        for j in np.arange(nframes):\n",
    "            v_pos = np.array([xts[j], yts[j], zts[j]])\n",
    "            c_pos = np.array([c['x'], c['y'], c['z']])\n",
    "            thetas[j], phis[j], zetas[j], internals[j, :, :] = determine_angles(v_pos, c_pos, t_hat)\n",
    "            print(c_pos)\n",
    "            #print(thetas[j]*180/np.pi, phis[j]*180/np.pi, zetas[j]*180/np.pi,(zetas[j]-oldzeta)*180/np.pi )\n",
    "            oldzeta = zetas[j]\n",
    "        allprops = build_fprops_track(fprops, cprops, thetas, phis, zetas, xts, yts, zts)\n",
    "\n",
    "    with open('{}/{}/{}.json'.format(os.environ['DROPBOX_ROOT'],run_name,run_name), 'w') as outfile:\n",
    "        json.dump(allprops, outfile,indent=2)\n",
    "    if makeimages:\n",
    "        os.system(\"python3 project_frames.py {}/{}/{}.json {}/leike2020_bayestar19_splice.npy {}/{}/frames/{}_{{:05d}}.png\"\n",
    "          .format(os.environ['DROPBOX_ROOT'],run_name,run_name,os.environ['DROPBOX_ROOT'],os.environ['DROPBOX_ROOT'],run_name, run_name))\n",
    "    if makemovies:\n",
    "        os.system(\"{}/ffmpeg -y -r 30 -start_number 0 -i {}/{}/frames/{}_%05d.png -c:v libx264 -s 600x400 -r 30 -pix_fmt yuv420p {}/{}/{}.mp4\"\n",
    "          .format(os.environ['FFMPEG_ROOT'],os.environ['DROPBOX_ROOT'],run_name,run_name,os.environ['DROPBOX_ROOT'],run_name, run_name))\n"
   ]
  },
  {
   "cell_type": "code",
   "execution_count": 16,
   "metadata": {},
   "outputs": [
    {
     "data": {
      "text/plain": [
       "(-1.0, 1.0)"
      ]
     },
     "execution_count": 16,
     "metadata": {},
     "output_type": "execute_result"
    },
    {
     "data": {
      "image/png": "[encoded data removed]",
      "text/plain": [
       "<Figure size 216x720 with 1 Axes>"
      ]
     },
     "metadata": {
      "needs_background": "light"
     },
     "output_type": "display_data"
    }
   ],
   "source": [
    "plt.figure(figsize=[3, 10])\n",
    "\n",
    "\n",
    "plt.plot(internals[:, 0, 0], color='C0', linestyle='--')\n",
    "plt.plot(internals[:, 1, 0], color='C1', linestyle='-.')\n",
    "plt.plot(internals[:, 2, 0], color='C2', linestyle='-')\n",
    "otherangles=False\n",
    "if otherangles:\n",
    "    plt.plot(internals[:, 0, 1], color='C1', linestyle='--')\n",
    "    plt.plot(internals[:, 1, 1], color='C1', linestyle='-.')\n",
    "    plt.plot(internals[:, 2, 1], color='C1', linestyle='-')\n",
    "\n",
    "    plt.plot(internals[:, 0, 2], color='C2', linestyle='--')\n",
    "    plt.plot(internals[:, 1, 2], color='C2', linestyle='-.')\n",
    "    plt.plot(internals[:, 2, 2], color='C2', linestyle='-')\n",
    "\n",
    "    plt.plot(internals[:, 0, 3], color='C3', linestyle='--')\n",
    "    plt.plot(internals[:, 1, 3], color='C3', linestyle='-.')\n",
    "    plt.plot(internals[:, 2, 3], color='C3', linestyle='-')\n",
    "\n",
    "plt.legend(['x', 'y', 'z'])\n",
    "plt.ylim([-1, 1])"
   ]
  },
  {
   "cell_type": "code",
   "execution_count": null,
   "metadata": {},
   "outputs": [],
   "source": []
  }
 ],
 "metadata": {
  "kernelspec": {
   "display_name": "Python 3 (ipykernel)",
   "language": "python",
   "name": "python3"
  },
  "language_info": {
   "codemirror_mode": {
    "name": "ipython",
    "version": 3
   },
   "file_extension": ".py",
   "mimetype": "text/x-python",
   "name": "python",
   "nbconvert_exporter": "python",
   "pygments_lexer": "ipython3",
   "version": "3.8.3"
  }
 },
 "nbformat": 4,
 "nbformat_minor": 4
}
