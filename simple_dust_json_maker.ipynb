{
 "cells": [
  {
   "cell_type": "markdown",
   "metadata": {},
   "source": [
    "A notebook for making a 100-frame movie from 3D dust for Linnea as a test\n",
    "\n",
    "Two environment variables need to be set in bash: DROPBOX_ROOT, and FFMPEG_ROOT. The DROPBOX_ROOT folder is the path to the top level directory of the dust-holgrams folder shared by Josh. E.g. in bash,\n",
    "\n",
    "export DROPBOX_ROOT='/Users/catherinezucker/Dropbox/dust-holograms/'\n",
    "\n",
    "You can also set the path to the FFMPEG executable:\n",
    "\n",
    "export FFMPEG_PATH='/usr/local/bin'\n",
    "\n",
    "Ideally, you would set these in your bash_profile profile  (now called zprofile in the latest OS operating systems). Alternatively, if you want to set one of these variables locally in this notebook, you can use:\n",
    "\n",
    "```\n",
    "import os\n",
    "os.environ['DROPBOX_ROOT'] = '/Users/catherinezucker/Dropbox/dust-holograms'\n",
    "os.environ['FFMPEG_ROOT'] = '/Usr/local/bin'\n",
    "\n",
    "```"
   ]
  },
  {
   "cell_type": "markdown",
   "metadata": {},
   "source": [
    "First thing we need to do is figure out how to write some json"
   ]
  },
  {
   "cell_type": "code",
   "execution_count": 1,
   "metadata": {},
   "outputs": [],
   "source": [
    "import json\n",
    "import numpy as np\n",
    "import os\n",
    "%matplotlib inline\n",
    "#%matplotlib notebook\n",
    "from matplotlib import pyplot as plt\n",
    "from astropy import table"
   ]
  },
  {
   "cell_type": "markdown",
   "metadata": {},
   "source": [
    "Josh is having some trouble with ```.zprofile``` so:"
   ]
  },
  {
   "cell_type": "code",
   "execution_count": 2,
   "metadata": {},
   "outputs": [],
   "source": [
    "if (os.environ.keys() != 'DROPBOX_HOME'):\n",
    "    os.environ['DROPBOX_ROOT'] = '/Users/jegpeek/Dropbox/dust-holograms'\n",
    "    os.environ['FFMPEG_ROOT'] = '/Users/jegpeek/'"
   ]
  },
  {
   "cell_type": "markdown",
   "metadata": {},
   "source": [
    "Using a variable called ```run_name``` to record everything we need about the run"
   ]
  },
  {
   "cell_type": "code",
   "execution_count": 3,
   "metadata": {},
   "outputs": [],
   "source": [
    "def define_paths(run_name):\n",
    "    if os.path.isdir(\"{}/{}/\".format(os.environ['DROPBOX_ROOT'],run_name)) == False:\n",
    "        os.mkdir(\"{}/{}/\".format(os.environ['DROPBOX_ROOT'],run_name))\n",
    "        os.mkdir(\"{}/{}/frames/\".format(os.environ['DROPBOX_ROOT'],run_name))"
   ]
  },
  {
   "cell_type": "markdown",
   "metadata": {},
   "source": [
    "This is the camera properties, which we will fix."
   ]
  },
  {
   "cell_type": "code",
   "execution_count": 4,
   "metadata": {},
   "outputs": [],
   "source": [
    "arc = False\n",
    "if arc:\n",
    "    ec = \"szyz\"\n",
    "if not arc:\n",
    "    ec = \"rxyz\"\n",
    "\n",
    "t = True\n",
    "cprops ={\n",
    "    \"projection\": \"stereographic\",\n",
    "    \"step_size\": 1,\n",
    "    \"max_dist\": 500.0,\n",
    "    \"fov\": 45.0,\n",
    "    \"x_pix\": 60,\n",
    "    \"y_pix\": 40,\n",
    "    \"vmax\": \"auto\",\n",
    "    \"clip_mode\": \"tanh\",\n",
    "    \"fuzzy\": t,\n",
    "    \"randomize_angles\": t,\n",
    "    \"euler_convention\": ec}"
   ]
  },
  {
   "cell_type": "code",
   "execution_count": 5,
   "metadata": {},
   "outputs": [
    {
     "name": "stdout",
     "output_type": "stream",
     "text": [
      "{'projection': 'stereographic', 'step_size': 1, 'max_dist': 500.0, 'fov': 45.0, 'x_pix': 60, 'y_pix': 40, 'vmax': 'auto', 'clip_mode': 'tanh', 'fuzzy': True, 'randomize_angles': True, 'euler_convention': 'rxyz'}\n"
     ]
    }
   ],
   "source": [
    "print(cprops)"
   ]
  },
  {
   "cell_type": "markdown",
   "metadata": {},
   "source": [
    "_In arc mode_ Linnea asked for 100 frames orbiting around a point with equal distance. We'll assume that the middle of these 100 frames is the Sun, and we'll set some sweep out angle in the Galactic Plane."
   ]
  },
  {
   "cell_type": "code",
   "execution_count": 6,
   "metadata": {},
   "outputs": [],
   "source": [
    "nframes = 10 # 100 frames\n",
    "if arc:\n",
    "    angle_sweep = 45 # half of this CCW and half CW from the sun"
   ]
  },
  {
   "cell_type": "code",
   "execution_count": 7,
   "metadata": {},
   "outputs": [],
   "source": [
    "def sweep(xc, yc, angle_sweep, nframes):\n",
    "    R = np.sqrt(xc**2+ yc**2)\n",
    "    phi =np.arctan2(yc, xc)*180/np.pi\n",
    "    dangs = np.linspace(0, angle_sweep, nframes)\n",
    "    xs = xc - R*np.cos((phi-angle_sweep/2+dangs)*np.pi/180)\n",
    "    ys = yc - R*np.sin((phi-angle_sweep/2+dangs)*np.pi/180)\n",
    "    angs = (dangs-angle_sweep/2+phi)*np.pi/180 ## wait are these in RADIANs??\n",
    "    return xs, ys, angs"
   ]
  },
  {
   "cell_type": "code",
   "execution_count": 8,
   "metadata": {},
   "outputs": [],
   "source": [
    "def plot_ang(x0, y0, xs, ys, run_name):\n",
    "    plt.figure(figsize=[5, 5])\n",
    "    plt.scatter(x0, y0)\n",
    "    plt.scatter(0, 0, c='red')\n",
    "    plt.plot(xs, ys)\n",
    "    plt.xlim([-500, 500])\n",
    "    plt.ylim([-500, 500])\n",
    "    plt.title(run_name)\n",
    "    plt.savefig('{}/{}/arc_{}'.format(os.environ['DROPBOX_ROOT'],run_name,run_name))"
   ]
  },
  {
   "cell_type": "markdown",
   "metadata": {},
   "source": [
    "In track mode we'll move from one point to another while pointing at the cloud and keeping to top of the camera perpindicular to the plane that contains the track and cloud"
   ]
  },
  {
   "cell_type": "markdown",
   "metadata": {},
   "source": [
    "Given the current position of the viewer, the unit direction toward the start of the track, and the cloud position, compute the angles of rotation"
   ]
  },
  {
   "cell_type": "code",
   "execution_count": 9,
   "metadata": {},
   "outputs": [],
   "source": [
    "def determine_angles(v_pos, c_pos, t_hat):\n",
    "    x_hat = np.array([1, 0, 0])\n",
    "    y_hat = np.array([0, 1, 0])\n",
    "    z_hat = np.array([0, 0, 1])\n",
    "    # the vector to the cloud\n",
    "    c_vec = c_pos-v_pos \n",
    "    # the unit vector toward the cloud\n",
    "    c_hat = c_vec/np.sqrt(np.sum(c_vec**2))\n",
    "    \n",
    "    #FIRST\n",
    "    # the unit vector perp to the plane containing the track and the cloud\n",
    "    n_OCT = np.cross(t_hat, c_hat) #CHECK ORDER (checked)\n",
    "    n_hat_OCT = n_OCT/np.sqrt(np.sum(n_OCT**2))\n",
    "    print(n_OCT)\n",
    "    # find the new orientation of the top of the camera\n",
    "    v_y_prime = np.cross(n_hat_OCT, x_hat) #CHECK ORDER (checked)\n",
    "    v_hat_y_prime = v_y_prime/np.sqrt(np.sum(v_y_prime**2))\n",
    "    # and find the angle to rotate first\n",
    "    theta = np.arccos(np.dot(v_hat_y_prime,y_hat))\n",
    "    #print(theta)\n",
    "    \n",
    "    #SECOND\n",
    "    # the unit vector perp to the plane that contains the rotation \n",
    "    n_phi = np.cross(x_hat,v_hat_y_prime) #CHECK ORDER (checked)\n",
    "    n_hat_phi = n_phi/np.sqrt(np.sum(n_phi**2))\n",
    "    # the vector being rotated to\n",
    "    v_x_prime_prime = np.cross(n_hat_OCT, n_hat_phi) #CHECK ORDER (checked)\n",
    "    v_hat_x_prime_prime = v_x_prime_prime/np.sqrt(np.sum(v_x_prime_prime**2))\n",
    "    # and the angle rotated\n",
    "    phi = np.arccos(np.dot(v_hat_x_prime_prime, x_hat))\n",
    "    \n",
    "    #FINALLY\n",
    "    zeta = np.arccos(np.dot(v_hat_x_prime_prime, c_hat))\n",
    "    \n",
    "    return theta, phi, zeta\n",
    "    "
   ]
  },
  {
   "cell_type": "markdown",
   "metadata": {},
   "source": [
    "given some inputs build a track"
   ]
  },
  {
   "cell_type": "code",
   "execution_count": 10,
   "metadata": {},
   "outputs": [],
   "source": [
    "def track(xt1, yt1, zt1, xt2, yt2, zt2, nframes):\n",
    "    xts = np.linspace(xt1, xt2, nframes)\n",
    "    yts = np.linspace(yt1, yt2, nframes)\n",
    "    zts = np.linspace(zt1, zt2, nframes)\n",
    "    t_vec = np.array([xt2-xt1, yt2-yt1, zt2-zt1])\n",
    "    t_hat = t_vec/np.sqrt(np.sum(t_vec**2))\n",
    "    return xts, yts, zts, t_hat"
   ]
  },
  {
   "cell_type": "code",
   "execution_count": 11,
   "metadata": {},
   "outputs": [],
   "source": [
    "def build_fprops(fprops, cprops, angs, xs, ys, zc):\n",
    "    for i in range(nframes):\n",
    "        fprops.append({\n",
    "          \"xyz\": [xs[i], ys[i], zc],\n",
    "          \"angles\": [angs[i], 0.0, 0.0]\n",
    "        })\n",
    "    allprops = {\"camera_props\": cprops,\"frame_props\":fprops }\n",
    "    return allprops"
   ]
  },
  {
   "cell_type": "code",
   "execution_count": 12,
   "metadata": {},
   "outputs": [],
   "source": [
    "def build_fprops_track(fprops, cprops, theatas, phis, zetas, xs, ys, zs):\n",
    "    for i in range(nframes):\n",
    "        fprops.append({\n",
    "          \"xyz\": [xs[i], ys[i], zs[i]],\n",
    "          \"angles\": [thetas[i], phis[i], zetas[i]]\n",
    "        })\n",
    "    allprops = {\"camera_props\": cprops,\"frame_props\":fprops }\n",
    "    return allprops"
   ]
  },
  {
   "cell_type": "markdown",
   "metadata": {},
   "source": [
    "Let's read in a list of molecular clouds and make movies for each one:"
   ]
  },
  {
   "cell_type": "code",
   "execution_count": 13,
   "metadata": {},
   "outputs": [],
   "source": [
    "clouds = table.Table.read('{}/Holo_Cloud_Targets.csv'.format(os.environ['DROPBOX_ROOT']))"
   ]
  },
  {
   "cell_type": "code",
   "execution_count": 14,
   "metadata": {},
   "outputs": [
    {
     "name": "stdout",
     "output_type": "stream",
     "text": [
      "Chamaeleon\n",
      "[-0.49616934 -0.42002155  0.44177806]\n",
      "[-0.49938651 -0.42274498  0.44464256]\n",
      "[-0.50261048 -0.42547416  0.44751311]\n",
      "[-0.50584001 -0.42820805  0.45038861]\n",
      "[-0.50907379 -0.43094553  0.45326789]\n",
      "[-0.51231044 -0.43368545  0.45614974]\n",
      "[-0.51554854 -0.43642659  0.45903286]\n",
      "[-0.51878657 -0.43916768  0.46191594]\n",
      "[-0.52202298 -0.44190739  0.46479756]\n",
      "[-0.52525611 -0.44464433  0.46767627]\n",
      "Loaded specifications for 10 images.\n"
     ]
    },
    {
     "name": "stderr",
     "output_type": "stream",
     "text": [
      "100% (10 of 10) |########################| Elapsed Time: 0:00:02 ETA:  00:00:00"
     ]
    },
    {
     "name": "stdout",
     "output_type": "stream",
     "text": [
      "All workers done.\n",
      "0.397824734759316\n",
      "Loading map ...\n",
      "Ray-casting frames ...\n",
      "frame 0: vmax = 0.0006002974811344756\n",
      "frame 1: vmax = 0.0005883440284233075\n",
      "frame 2: vmax = 0.0005781417014077306\n",
      "frame 3: vmax = 0.0006118517606591923\n",
      "frame 4: vmax = 0.0005808474135628785\n",
      "frame 5: vmax = 0.0006096765809088538\n",
      "frame 6: vmax = 0.0005758763246230956\n",
      "frame 7: vmax = 0.0006976815792259003\n",
      "frame 8: vmax = 0.0009560700988422468\n",
      "frame 9: vmax = 0.0009012382623623125\n",
      "Worker finished.\n"
     ]
    },
    {
     "name": "stderr",
     "output_type": "stream",
     "text": [
      "ffmpeg version 5.0-tessus  https://evermeet.cx/ffmpeg/  Copyright (c) 2000-2022 the FFmpeg developers\n",
      "  built with Apple clang version 11.0.0 (clang-1100.0.33.17)\n",
      "  configuration: --cc=/usr/bin/clang --prefix=/opt/ffmpeg --extra-version=tessus --enable-avisynth --enable-fontconfig --enable-gpl --enable-libaom --enable-libass --enable-libbluray --enable-libdav1d --enable-libfreetype --enable-libgsm --enable-libmodplug --enable-libmp3lame --enable-libmysofa --enable-libopencore-amrnb --enable-libopencore-amrwb --enable-libopenh264 --enable-libopenjpeg --enable-libopus --enable-librubberband --enable-libshine --enable-libsnappy --enable-libsoxr --enable-libspeex --enable-libtheora --enable-libtwolame --enable-libvidstab --enable-libvmaf --enable-libvo-amrwbenc --enable-libvorbis --enable-libvpx --enable-libwebp --enable-libx264 --enable-libx265 --enable-libxavs --enable-libxvid --enable-libzimg --enable-libzmq --enable-libzvbi --enable-version3 --pkg-config-flags=--static --disable-ffplay\n",
      "  libavutil      57. 17.100 / 57. 17.100\n",
      "  libavcodec     59. 18.100 / 59. 18.100\n",
      "  libavformat    59. 16.100 / 59. 16.100\n",
      "  libavdevice    59.  4.100 / 59.  4.100\n",
      "  libavfilter     8. 24.100 /  8. 24.100\n",
      "  libswscale      6.  4.100 /  6.  4.100\n",
      "  libswresample   4.  3.100 /  4.  3.100\n",
      "  libpostproc    56.  3.100 / 56.  3.100\n",
      "Input #0, image2, from '/Users/jegpeek/Dropbox/dust-holograms/Chamaeleon_track_test_1/frames/Chamaeleon_track_test_1_%05d.png':\n",
      "  Duration: 00:00:00.40, start: 0.000000, bitrate: N/A\n",
      "  Stream #0:0: Video: png, gray16be(pc), 60x40, 25 fps, 25 tbr, 25 tbn\n",
      "Stream mapping:\n",
      "  Stream #0:0 -> #0:0 (png (native) -> h264 (libx264))\n",
      "Press [q] to stop, [?] for help\n",
      "[libx264 @ 0x7f78bb707e40] using cpu capabilities: MMX2 SSE2Fast SSSE3 SSE4.2 AVX FMA3 BMI2 AVX2\n",
      "[libx264 @ 0x7f78bb707e40] profile High, level 3.0, 4:2:0, 8-bit\n",
      "[libx264 @ 0x7f78bb707e40] 264 - core 164 r3081 19856cc - H.264/MPEG-4 AVC codec - Copyleft 2003-2021 - http://www.videolan.org/x264.html - options: cabac=1 ref=3 deblock=1:0:0 analyse=0x3:0x113 me=hex subme=7 psy=1 psy_rd=1.00:0.00 mixed_ref=1 me_range=16 chroma_me=1 trellis=1 8x8dct=1 cqm=0 deadzone=21,11 fast_pskip=1 chroma_qp_offset=-2 threads=12 lookahead_threads=2 sliced_threads=0 nr=0 decimate=1 interlaced=0 bluray_compat=0 constrained_intra=0 bframes=3 b_pyramid=2 b_adapt=1 b_bias=0 direct=1 weightb=1 open_gop=0 weightp=2 keyint=250 keyint_min=25 scenecut=40 intra_refresh=0 rc_lookahead=40 rc=crf mbtree=1 crf=23.0 qcomp=0.60 qpmin=0 qpmax=69 qpstep=4 ip_ratio=1.40 aq=1:1.00\n",
      "Output #0, mp4, to '/Users/jegpeek/Dropbox/dust-holograms/Chamaeleon_track_test_1/Chamaeleon_track_test_1.mp4':\n",
      "  Metadata:\n",
      "    encoder         : Lavf59.16.100\n",
      "  Stream #0:0: Video: h264 (avc1 / 0x31637661), yuv420p(tv, progressive), 600x400, q=2-31, 30 fps, 15360 tbn\n",
      "    Metadata:\n",
      "      encoder         : Lavc59.18.100 libx264\n",
      "    Side data:\n",
      "      cpb: bitrate max/min/avg: 0/0/0 buffer size: 0 vbv_delay: N/A\n",
      "frame=    1 fps=0.0 q=0.0 size=       0kB time=00:00:00.00 bitrate=N/A speed=   0x    \r",
      "frame=   10 fps=0.0 q=-1.0 Lsize=      28kB time=00:00:00.23 bitrate= 972.5kbits/s speed=3.47x    \n",
      "video:27kB audio:0kB subtitle:0kB other streams:0kB global headers:0kB muxing overhead: 3.577556%\n",
      "[libx264 @ 0x7f78bb707e40] frame I:1     Avg QP:23.70  size:  2863\n",
      "[libx264 @ 0x7f78bb707e40] frame P:3     Avg QP:24.05  size:  2727\n",
      "[libx264 @ 0x7f78bb707e40] frame B:6     Avg QP:24.67  size:  2610\n",
      "[libx264 @ 0x7f78bb707e40] consecutive B-frames: 20.0%  0.0%  0.0% 80.0%\n",
      "[libx264 @ 0x7f78bb707e40] mb I  I16..4: 29.3% 70.5%  0.2%\n",
      "[libx264 @ 0x7f78bb707e40] mb P  I16..4: 11.3% 23.1%  0.1%  P16..4: 45.2%  6.4%  1.0%  0.0%  0.0%    skip:12.9%\n",
      "[libx264 @ 0x7f78bb707e40] mb B  I16..4:  3.5%  8.5%  0.0%  B16..8: 43.3% 11.5%  1.0%  direct: 5.8%  skip:26.5%  L0:59.6% L1:37.2% BI: 3.2%\n",
      "[libx264 @ 0x7f78bb707e40] 8x8 transform intra:69.1% inter:97.1%\n",
      "[libx264 @ 0x7f78bb707e40] coded y,uvDC,uvAC intra: 37.1% 0.0% 0.0% inter: 23.2% 0.0% 0.0%\n",
      "[libx264 @ 0x7f78bb707e40] i16 v,h,dc,p:  8% 11%  4% 76%\n",
      "[libx264 @ 0x7f78bb707e40] i8 v,h,dc,ddl,ddr,vr,hd,vl,hu: 22% 22% 21%  6%  7%  5%  6%  5%  6%\n",
      "[libx264 @ 0x7f78bb707e40] i4 v,h,dc,ddl,ddr,vr,hd,vl,hu: 36% 11% 19%  8%  6%  3%  5%  7%  3%\n",
      "[libx264 @ 0x7f78bb707e40] i8c dc,h,v,p: 100%  0%  0%  0%\n",
      "[libx264 @ 0x7f78bb707e40] Weighted P-Frames: Y:100.0% UV:0.0%\n",
      "[libx264 @ 0x7f78bb707e40] ref P L0: 83.6%  4.0% 10.3%  0.6%  1.4%\n",
      "[libx264 @ 0x7f78bb707e40] ref B L0: 68.1% 26.6%  5.3%\n",
      "[libx264 @ 0x7f78bb707e40] ref B L1: 92.9%  7.1%\n",
      "[libx264 @ 0x7f78bb707e40] kb/s:640.87\n"
     ]
    },
    {
     "name": "stdout",
     "output_type": "stream",
     "text": [
      "Ophiuchus\n",
      "[-0.22761385 -0.70860914  0.57118191]\n",
      "[-0.22642502 -0.70490807  0.56819863]\n",
      "[-0.22520574 -0.70111221  0.56513894]\n",
      "[-0.22395788 -0.69722736  0.56200751]\n",
      "[-0.22268327 -0.69325925  0.55880897]\n",
      "[-0.22138375 -0.68921357  0.55554791]\n",
      "[-0.22006111 -0.68509592  0.55222883]\n",
      "[-0.21871712 -0.68091179  0.54885617]\n",
      "[-0.21735351 -0.6766666   0.54543429]\n",
      "[-0.21597198 -0.67236561  0.54196743]\n",
      "Loaded specifications for 10 images.\n"
     ]
    },
    {
     "name": "stderr",
     "output_type": "stream",
     "text": [
      "100% (10 of 10) |########################| Elapsed Time: 0:00:02 ETA:  00:00:00"
     ]
    },
    {
     "name": "stdout",
     "output_type": "stream",
     "text": [
      "All workers done.\n",
      "0.397824734759316\n",
      "Loading map ...\n",
      "Ray-casting frames ...\n",
      "frame 0: vmax = 0.011421548102192902\n",
      "frame 1: vmax = 0.009435718197808456\n",
      "frame 2: vmax = 0.012186076281072019\n",
      "frame 3: vmax = 0.010452211918804096\n",
      "frame 4: vmax = 0.011167026291390358\n",
      "frame 5: vmax = 0.009081537233385461\n",
      "frame 6: vmax = 0.011357016950198159\n",
      "frame 7: vmax = 0.01075934776388749\n",
      "frame 8: vmax = 0.008511107890351923\n",
      "frame 9: vmax = 0.011218160102154798\n",
      "Worker finished.\n"
     ]
    },
    {
     "name": "stderr",
     "output_type": "stream",
     "text": [
      "ffmpeg version 5.0-tessus  https://evermeet.cx/ffmpeg/  Copyright (c) 2000-2022 the FFmpeg developers\n",
      "  built with Apple clang version 11.0.0 (clang-1100.0.33.17)\n",
      "  configuration: --cc=/usr/bin/clang --prefix=/opt/ffmpeg --extra-version=tessus --enable-avisynth --enable-fontconfig --enable-gpl --enable-libaom --enable-libass --enable-libbluray --enable-libdav1d --enable-libfreetype --enable-libgsm --enable-libmodplug --enable-libmp3lame --enable-libmysofa --enable-libopencore-amrnb --enable-libopencore-amrwb --enable-libopenh264 --enable-libopenjpeg --enable-libopus --enable-librubberband --enable-libshine --enable-libsnappy --enable-libsoxr --enable-libspeex --enable-libtheora --enable-libtwolame --enable-libvidstab --enable-libvmaf --enable-libvo-amrwbenc --enable-libvorbis --enable-libvpx --enable-libwebp --enable-libx264 --enable-libx265 --enable-libxavs --enable-libxvid --enable-libzimg --enable-libzmq --enable-libzvbi --enable-version3 --pkg-config-flags=--static --disable-ffplay\n",
      "  libavutil      57. 17.100 / 57. 17.100\n",
      "  libavcodec     59. 18.100 / 59. 18.100\n",
      "  libavformat    59. 16.100 / 59. 16.100\n",
      "  libavdevice    59.  4.100 / 59.  4.100\n",
      "  libavfilter     8. 24.100 /  8. 24.100\n",
      "  libswscale      6.  4.100 /  6.  4.100\n",
      "  libswresample   4.  3.100 /  4.  3.100\n",
      "  libpostproc    56.  3.100 / 56.  3.100\n",
      "Input #0, image2, from '/Users/jegpeek/Dropbox/dust-holograms/Ophiuchus_track_test_1/frames/Ophiuchus_track_test_1_%05d.png':\n",
      "  Duration: 00:00:00.40, start: 0.000000, bitrate: N/A\n",
      "  Stream #0:0: Video: png, gray16be(pc), 60x40, 25 fps, 25 tbr, 25 tbn\n",
      "Stream mapping:\n",
      "  Stream #0:0 -> #0:0 (png (native) -> h264 (libx264))\n",
      "Press [q] to stop, [?] for help\n",
      "[libx264 @ 0x7fc9c0f07280] using cpu capabilities: MMX2 SSE2Fast SSSE3 SSE4.2 AVX FMA3 BMI2 AVX2\n",
      "[libx264 @ 0x7fc9c0f07280] profile High, level 3.0, 4:2:0, 8-bit\n",
      "[libx264 @ 0x7fc9c0f07280] 264 - core 164 r3081 19856cc - H.264/MPEG-4 AVC codec - Copyleft 2003-2021 - http://www.videolan.org/x264.html - options: cabac=1 ref=3 deblock=1:0:0 analyse=0x3:0x113 me=hex subme=7 psy=1 psy_rd=1.00:0.00 mixed_ref=1 me_range=16 chroma_me=1 trellis=1 8x8dct=1 cqm=0 deadzone=21,11 fast_pskip=1 chroma_qp_offset=-2 threads=12 lookahead_threads=2 sliced_threads=0 nr=0 decimate=1 interlaced=0 bluray_compat=0 constrained_intra=0 bframes=3 b_pyramid=2 b_adapt=1 b_bias=0 direct=1 weightb=1 open_gop=0 weightp=2 keyint=250 keyint_min=25 scenecut=40 intra_refresh=0 rc_lookahead=40 rc=crf mbtree=1 crf=23.0 qcomp=0.60 qpmin=0 qpmax=69 qpstep=4 ip_ratio=1.40 aq=1:1.00\n",
      "Output #0, mp4, to '/Users/jegpeek/Dropbox/dust-holograms/Ophiuchus_track_test_1/Ophiuchus_track_test_1.mp4':\n",
      "  Metadata:\n",
      "    encoder         : Lavf59.16.100\n",
      "  Stream #0:0: Video: h264 (avc1 / 0x31637661), yuv420p(tv, progressive), 600x400, q=2-31, 30 fps, 15360 tbn\n",
      "    Metadata:\n",
      "      encoder         : Lavc59.18.100 libx264\n",
      "    Side data:\n",
      "      cpb: bitrate max/min/avg: 0/0/0 buffer size: 0 vbv_delay: N/A\n",
      "frame=    1 fps=0.0 q=0.0 size=       0kB time=00:00:00.00 bitrate=N/A speed=   0x    \r",
      "frame=   10 fps=0.0 q=-1.0 Lsize=      24kB time=00:00:00.23 bitrate= 855.0kbits/s speed=3.88x    \n",
      "video:23kB audio:0kB subtitle:0kB other streams:0kB global headers:0kB muxing overhead: 4.089468%\n",
      "[libx264 @ 0x7fc9c0f07280] frame I:1     Avg QP:22.52  size:  2167\n",
      "[libx264 @ 0x7fc9c0f07280] frame P:3     Avg QP:24.36  size:  2532\n",
      "[libx264 @ 0x7fc9c0f07280] frame B:6     Avg QP:25.14  size:  2252\n",
      "[libx264 @ 0x7fc9c0f07280] consecutive B-frames: 20.0%  0.0%  0.0% 80.0%\n",
      "[libx264 @ 0x7fc9c0f07280] mb I  I16..4: 41.7% 58.1%  0.2%\n",
      "[libx264 @ 0x7fc9c0f07280] mb P  I16..4:  5.7% 29.8%  0.2%  P16..4: 26.9%  3.0%  1.2%  0.0%  0.0%    skip:33.2%\n",
      "[libx264 @ 0x7fc9c0f07280] mb B  I16..4:  1.4% 11.1%  0.1%  B16..8: 27.8%  8.4%  1.4%  direct: 1.5%  skip:48.3%  L0:49.3% L1:47.2% BI: 3.5%\n",
      "[libx264 @ 0x7fc9c0f07280] 8x8 transform intra:75.8% inter:99.6%\n",
      "[libx264 @ 0x7fc9c0f07280] coded y,uvDC,uvAC intra: 43.7% 0.0% 0.0% inter: 14.9% 0.0% 0.0%\n",
      "[libx264 @ 0x7fc9c0f07280] i16 v,h,dc,p: 51% 21% 10% 18%\n",
      "[libx264 @ 0x7fc9c0f07280] i8 v,h,dc,ddl,ddr,vr,hd,vl,hu: 18% 18% 27%  6%  7%  6%  5%  6%  6%\n",
      "[libx264 @ 0x7fc9c0f07280] i4 v,h,dc,ddl,ddr,vr,hd,vl,hu: 19% 29%  5%  8%  8% 13%  8%  6%  2%\n",
      "[libx264 @ 0x7fc9c0f07280] i8c dc,h,v,p: 100%  0%  0%  0%\n",
      "[libx264 @ 0x7fc9c0f07280] Weighted P-Frames: Y:0.0% UV:0.0%\n",
      "[libx264 @ 0x7fc9c0f07280] ref P L0: 50.2%  3.2% 32.8% 13.8%\n",
      "[libx264 @ 0x7fc9c0f07280] ref B L0: 73.6% 22.0%  4.5%\n",
      "[libx264 @ 0x7fc9c0f07280] ref B L1: 69.9% 30.1%\n",
      "[libx264 @ 0x7fc9c0f07280] kb/s:558.58\n"
     ]
    },
    {
     "name": "stdout",
     "output_type": "stream",
     "text": [
      "Lupus\n",
      "[-0.29477888 -0.73453097  0.60888752]\n",
      "[-0.29457049 -0.73401172  0.60845708]\n",
      "[-0.29432053 -0.73338886  0.60794076]\n",
      "[-0.2940293  -0.73266318  0.60733922]\n",
      "[-0.29369719 -0.73183561  0.60665321]\n",
      "[-0.2933246  -0.73090719  0.60588359]\n",
      "[-0.292912   -0.72987909  0.60503135]\n",
      "[-0.29245991 -0.72875257  0.60409753]\n",
      "[-0.29196889 -0.72752904  0.60308329]\n",
      "[-0.29143954 -0.72620999  0.60198986]\n",
      "Loaded specifications for 10 images.\n"
     ]
    },
    {
     "name": "stderr",
     "output_type": "stream",
     "text": [
      "100% (10 of 10) |########################| Elapsed Time: 0:00:02 ETA:  00:00:00"
     ]
    },
    {
     "name": "stdout",
     "output_type": "stream",
     "text": [
      "All workers done.\n",
      "0.397824734759316\n",
      "Loading map ...\n",
      "Ray-casting frames ...\n",
      "frame 0: vmax = 0.005990670323877566\n",
      "frame 1: vmax = 0.004953401329265034\n",
      "frame 2: vmax = 0.004017602736872504\n",
      "frame 3: vmax = 0.01187389433872704\n",
      "frame 4: vmax = 0.004944455493910937\n",
      "frame 5: vmax = 0.005142273252507949\n",
      "frame 6: vmax = 0.00411509201892477\n",
      "frame 7: vmax = 0.006026093839225723\n",
      "frame 8: vmax = 0.004062055205567959\n",
      "frame 9: vmax = 0.008548696578425734\n",
      "Worker finished.\n"
     ]
    },
    {
     "name": "stderr",
     "output_type": "stream",
     "text": [
      "ffmpeg version 5.0-tessus  https://evermeet.cx/ffmpeg/  Copyright (c) 2000-2022 the FFmpeg developers\n",
      "  built with Apple clang version 11.0.0 (clang-1100.0.33.17)\n",
      "  configuration: --cc=/usr/bin/clang --prefix=/opt/ffmpeg --extra-version=tessus --enable-avisynth --enable-fontconfig --enable-gpl --enable-libaom --enable-libass --enable-libbluray --enable-libdav1d --enable-libfreetype --enable-libgsm --enable-libmodplug --enable-libmp3lame --enable-libmysofa --enable-libopencore-amrnb --enable-libopencore-amrwb --enable-libopenh264 --enable-libopenjpeg --enable-libopus --enable-librubberband --enable-libshine --enable-libsnappy --enable-libsoxr --enable-libspeex --enable-libtheora --enable-libtwolame --enable-libvidstab --enable-libvmaf --enable-libvo-amrwbenc --enable-libvorbis --enable-libvpx --enable-libwebp --enable-libx264 --enable-libx265 --enable-libxavs --enable-libxvid --enable-libzimg --enable-libzmq --enable-libzvbi --enable-version3 --pkg-config-flags=--static --disable-ffplay\n",
      "  libavutil      57. 17.100 / 57. 17.100\n",
      "  libavcodec     59. 18.100 / 59. 18.100\n",
      "  libavformat    59. 16.100 / 59. 16.100\n",
      "  libavdevice    59.  4.100 / 59.  4.100\n",
      "  libavfilter     8. 24.100 /  8. 24.100\n",
      "  libswscale      6.  4.100 /  6.  4.100\n",
      "  libswresample   4.  3.100 /  4.  3.100\n",
      "  libpostproc    56.  3.100 / 56.  3.100\n",
      "Input #0, image2, from '/Users/jegpeek/Dropbox/dust-holograms/Lupus_track_test_1/frames/Lupus_track_test_1_%05d.png':\n",
      "  Duration: 00:00:00.40, start: 0.000000, bitrate: N/A\n",
      "  Stream #0:0: Video: png, gray16be(pc), 60x40, 25 fps, 25 tbr, 25 tbn\n",
      "Stream mapping:\n",
      "  Stream #0:0 -> #0:0 (png (native) -> h264 (libx264))\n",
      "Press [q] to stop, [?] for help\n",
      "[libx264 @ 0x7ff743f07b00] using cpu capabilities: MMX2 SSE2Fast SSSE3 SSE4.2 AVX FMA3 BMI2 AVX2\n",
      "[libx264 @ 0x7ff743f07b00] profile High, level 3.0, 4:2:0, 8-bit\n",
      "[libx264 @ 0x7ff743f07b00] 264 - core 164 r3081 19856cc - H.264/MPEG-4 AVC codec - Copyleft 2003-2021 - http://www.videolan.org/x264.html - options: cabac=1 ref=3 deblock=1:0:0 analyse=0x3:0x113 me=hex subme=7 psy=1 psy_rd=1.00:0.00 mixed_ref=1 me_range=16 chroma_me=1 trellis=1 8x8dct=1 cqm=0 deadzone=21,11 fast_pskip=1 chroma_qp_offset=-2 threads=12 lookahead_threads=2 sliced_threads=0 nr=0 decimate=1 interlaced=0 bluray_compat=0 constrained_intra=0 bframes=3 b_pyramid=2 b_adapt=1 b_bias=0 direct=1 weightb=1 open_gop=0 weightp=2 keyint=250 keyint_min=25 scenecut=40 intra_refresh=0 rc_lookahead=40 rc=crf mbtree=1 crf=23.0 qcomp=0.60 qpmin=0 qpmax=69 qpstep=4 ip_ratio=1.40 aq=1:1.00\n",
      "Output #0, mp4, to '/Users/jegpeek/Dropbox/dust-holograms/Lupus_track_test_1/Lupus_track_test_1.mp4':\n",
      "  Metadata:\n",
      "    encoder         : Lavf59.16.100\n",
      "  Stream #0:0: Video: h264 (avc1 / 0x31637661), yuv420p(tv, progressive), 600x400, q=2-31, 30 fps, 15360 tbn\n",
      "    Metadata:\n",
      "      encoder         : Lavc59.18.100 libx264\n",
      "    Side data:\n",
      "      cpb: bitrate max/min/avg: 0/0/0 buffer size: 0 vbv_delay: N/A\n",
      "frame=    1 fps=0.0 q=0.0 size=       0kB time=00:00:00.00 bitrate=N/A speed=   0x    \r",
      "frame=   10 fps=0.0 q=-1.0 Lsize=      21kB time=00:00:00.23 bitrate= 753.2kbits/s speed=3.34x    \n",
      "video:21kB audio:0kB subtitle:0kB other streams:0kB global headers:0kB muxing overhead: 4.628351%\n",
      "[libx264 @ 0x7ff743f07b00] frame I:1     Avg QP:22.23  size:  1830\n",
      "[libx264 @ 0x7ff743f07b00] frame P:5     Avg QP:23.19  size:  2076\n",
      "[libx264 @ 0x7ff743f07b00] frame B:4     Avg QP:23.97  size:  2026\n",
      "[libx264 @ 0x7ff743f07b00] consecutive B-frames: 30.0% 40.0% 30.0%  0.0%\n",
      "[libx264 @ 0x7ff743f07b00] mb I  I16..4: 11.3% 88.4%  0.3%\n",
      "[libx264 @ 0x7ff743f07b00] mb P  I16..4: 10.1% 39.1%  0.0%  P16..4: 25.2%  2.0%  0.6%  0.0%  0.0%    skip:23.0%\n",
      "[libx264 @ 0x7ff743f07b00] mb B  I16..4:  4.4% 11.9%  0.0%  B16..8: 26.9%  6.4%  0.8%  direct: 2.2%  skip:47.4%  L0:65.8% L1:30.2% BI: 4.1%\n",
      "[libx264 @ 0x7ff743f07b00] 8x8 transform intra:80.6% inter:99.7%\n",
      "[libx264 @ 0x7ff743f07b00] coded y,uvDC,uvAC intra: 31.5% 0.0% 0.0% inter: 14.8% 0.0% 0.0%\n",
      "[libx264 @ 0x7ff743f07b00] i16 v,h,dc,p: 33% 29% 10% 28%\n",
      "[libx264 @ 0x7ff743f07b00] i8 v,h,dc,ddl,ddr,vr,hd,vl,hu: 33% 19% 29%  3%  4%  3%  3%  3%  3%\n",
      "[libx264 @ 0x7ff743f07b00] i4 v,h,dc,ddl,ddr,vr,hd,vl,hu: 18% 19%  5% 19% 14% 10%  9%  5%  2%\n",
      "[libx264 @ 0x7ff743f07b00] i8c dc,h,v,p: 100%  0%  0%  0%\n",
      "[libx264 @ 0x7ff743f07b00] Weighted P-Frames: Y:80.0% UV:0.0%\n",
      "[libx264 @ 0x7ff743f07b00] ref P L0: 57.3%  4.2%  4.4% 30.6%  3.4%\n",
      "[libx264 @ 0x7ff743f07b00] ref B L0: 55.0% 31.5% 13.5%\n",
      "[libx264 @ 0x7ff743f07b00] kb/s:487.46\n"
     ]
    },
    {
     "name": "stdout",
     "output_type": "stream",
     "text": [
      "Taurus\n",
      "[ 0.24105703  0.68261944 -0.55645875]\n",
      "[ 0.24232603  0.68621297 -0.55938813]\n",
      "[ 0.24357315  0.68974452 -0.56226698]\n",
      "[ 0.24479693  0.69320999 -0.56509197]\n",
      "[ 0.24599593  0.69660529 -0.56785976]\n",
      "[ 0.24716868  0.69992626 -0.57056695]\n",
      "[ 0.24831371  0.70316872 -0.57321015]\n",
      "[ 0.24942954  0.70632851 -0.57578595]\n",
      "[ 0.2505147   0.70940143 -0.57829094]\n",
      "[ 0.25156771  0.71238332 -0.58072172]\n",
      "Loaded specifications for 10 images.\n"
     ]
    },
    {
     "name": "stderr",
     "output_type": "stream",
     "text": [
      "100% (10 of 10) |########################| Elapsed Time: 0:00:02 ETA:  00:00:00"
     ]
    },
    {
     "name": "stdout",
     "output_type": "stream",
     "text": [
      "All workers done.\n",
      "0.397824734759316\n",
      "Loading map ...\n",
      "Ray-casting frames ...\n",
      "frame 0: vmax = 0.0024981274587189545\n",
      "frame 1: vmax = 0.0017329092789786955\n",
      "frame 2: vmax = 0.0017319503609032837\n",
      "frame 3: vmax = 0.0015819420011757756\n",
      "frame 4: vmax = 0.0017589842606867024\n",
      "frame 5: vmax = 0.0017822166530168033\n",
      "frame 6: vmax = 0.0015627234507410322\n",
      "frame 7: vmax = 0.0015290174745678088\n",
      "frame 8: vmax = 0.0014800350137047645\n",
      "frame 9: vmax = 0.0013439259067781677\n",
      "Worker finished.\n"
     ]
    },
    {
     "name": "stderr",
     "output_type": "stream",
     "text": [
      "ffmpeg version 5.0-tessus  https://evermeet.cx/ffmpeg/  Copyright (c) 2000-2022 the FFmpeg developers\n",
      "  built with Apple clang version 11.0.0 (clang-1100.0.33.17)\n",
      "  configuration: --cc=/usr/bin/clang --prefix=/opt/ffmpeg --extra-version=tessus --enable-avisynth --enable-fontconfig --enable-gpl --enable-libaom --enable-libass --enable-libbluray --enable-libdav1d --enable-libfreetype --enable-libgsm --enable-libmodplug --enable-libmp3lame --enable-libmysofa --enable-libopencore-amrnb --enable-libopencore-amrwb --enable-libopenh264 --enable-libopenjpeg --enable-libopus --enable-librubberband --enable-libshine --enable-libsnappy --enable-libsoxr --enable-libspeex --enable-libtheora --enable-libtwolame --enable-libvidstab --enable-libvmaf --enable-libvo-amrwbenc --enable-libvorbis --enable-libvpx --enable-libwebp --enable-libx264 --enable-libx265 --enable-libxavs --enable-libxvid --enable-libzimg --enable-libzmq --enable-libzvbi --enable-version3 --pkg-config-flags=--static --disable-ffplay\n",
      "  libavutil      57. 17.100 / 57. 17.100\n",
      "  libavcodec     59. 18.100 / 59. 18.100\n",
      "  libavformat    59. 16.100 / 59. 16.100\n",
      "  libavdevice    59.  4.100 / 59.  4.100\n",
      "  libavfilter     8. 24.100 /  8. 24.100\n",
      "  libswscale      6.  4.100 /  6.  4.100\n",
      "  libswresample   4.  3.100 /  4.  3.100\n",
      "  libpostproc    56.  3.100 / 56.  3.100\n",
      "Input #0, image2, from '/Users/jegpeek/Dropbox/dust-holograms/Taurus_track_test_1/frames/Taurus_track_test_1_%05d.png':\n",
      "  Duration: 00:00:00.40, start: 0.000000, bitrate: N/A\n",
      "  Stream #0:0: Video: png, gray16be(pc), 60x40, 25 fps, 25 tbr, 25 tbn\n",
      "Stream mapping:\n",
      "  Stream #0:0 -> #0:0 (png (native) -> h264 (libx264))\n",
      "Press [q] to stop, [?] for help\n",
      "[libx264 @ 0x7fa551007640] using cpu capabilities: MMX2 SSE2Fast SSSE3 SSE4.2 AVX FMA3 BMI2 AVX2\n",
      "[libx264 @ 0x7fa551007640] profile High, level 3.0, 4:2:0, 8-bit\n",
      "[libx264 @ 0x7fa551007640] 264 - core 164 r3081 19856cc - H.264/MPEG-4 AVC codec - Copyleft 2003-2021 - http://www.videolan.org/x264.html - options: cabac=1 ref=3 deblock=1:0:0 analyse=0x3:0x113 me=hex subme=7 psy=1 psy_rd=1.00:0.00 mixed_ref=1 me_range=16 chroma_me=1 trellis=1 8x8dct=1 cqm=0 deadzone=21,11 fast_pskip=1 chroma_qp_offset=-2 threads=12 lookahead_threads=2 sliced_threads=0 nr=0 decimate=1 interlaced=0 bluray_compat=0 constrained_intra=0 bframes=3 b_pyramid=2 b_adapt=1 b_bias=0 direct=1 weightb=1 open_gop=0 weightp=2 keyint=250 keyint_min=25 scenecut=40 intra_refresh=0 rc_lookahead=40 rc=crf mbtree=1 crf=23.0 qcomp=0.60 qpmin=0 qpmax=69 qpstep=4 ip_ratio=1.40 aq=1:1.00\n",
      "Output #0, mp4, to '/Users/jegpeek/Dropbox/dust-holograms/Taurus_track_test_1/Taurus_track_test_1.mp4':\n",
      "  Metadata:\n",
      "    encoder         : Lavf59.16.100\n",
      "  Stream #0:0: Video: h264 (avc1 / 0x31637661), yuv420p(tv, progressive), 600x400, q=2-31, 30 fps, 15360 tbn\n",
      "    Metadata:\n",
      "      encoder         : Lavc59.18.100 libx264\n",
      "    Side data:\n",
      "      cpb: bitrate max/min/avg: 0/0/0 buffer size: 0 vbv_delay: N/A\n",
      "frame=   10 fps=0.0 q=-1.0 Lsize=      27kB time=00:00:00.23 bitrate= 945.5kbits/s speed=3.05x    \n",
      "video:26kB audio:0kB subtitle:0kB other streams:0kB global headers:0kB muxing overhead: 3.683657%\n",
      "[libx264 @ 0x7fa551007640] frame I:1     Avg QP:23.27  size:  2734\n",
      "[libx264 @ 0x7fa551007640] frame P:3     Avg QP:24.48  size:  3011\n",
      "[libx264 @ 0x7fa551007640] frame B:6     Avg QP:24.79  size:  2358\n",
      "[libx264 @ 0x7fa551007640] consecutive B-frames: 20.0%  0.0%  0.0% 80.0%\n",
      "[libx264 @ 0x7fa551007640] mb I  I16..4: 27.8% 71.8%  0.4%\n",
      "[libx264 @ 0x7fa551007640] mb P  I16..4: 14.0% 31.4%  0.2%  P16..4: 34.9%  6.4%  1.1%  0.0%  0.0%    skip:12.0%\n",
      "[libx264 @ 0x7fa551007640] mb B  I16..4:  2.5%  8.2%  0.1%  B16..8: 37.2% 10.6%  1.0%  direct: 4.2%  skip:36.3%  L0:38.7% L1:56.3% BI: 5.0%\n",
      "[libx264 @ 0x7fa551007640] 8x8 transform intra:71.4% inter:96.1%\n",
      "[libx264 @ 0x7fa551007640] coded y,uvDC,uvAC intra: 39.3% 0.0% 0.0% inter: 20.5% 0.0% 0.0%\n",
      "[libx264 @ 0x7fa551007640] i16 v,h,dc,p: 16% 21%  6% 57%\n",
      "[libx264 @ 0x7fa551007640] i8 v,h,dc,ddl,ddr,vr,hd,vl,hu: 28% 15% 18%  7%  7%  7%  6%  7%  6%\n",
      "[libx264 @ 0x7fa551007640] i4 v,h,dc,ddl,ddr,vr,hd,vl,hu: 26% 15% 17%  8% 11%  8%  7%  5%  4%\n",
      "[libx264 @ 0x7fa551007640] i8c dc,h,v,p: 100%  0%  0%  0%\n",
      "[libx264 @ 0x7fa551007640] Weighted P-Frames: Y:100.0% UV:0.0%\n",
      "[libx264 @ 0x7fa551007640] ref P L0: 74.6%  4.7% 12.0%  7.2%  1.6%\n",
      "[libx264 @ 0x7fa551007640] ref B L0: 87.0% 12.4%  0.6%\n",
      "[libx264 @ 0x7fa551007640] ref B L1: 90.4%  9.6%\n",
      "[libx264 @ 0x7fa551007640] kb/s:621.94\n"
     ]
    }
   ],
   "source": [
    "for c in clouds[0:4]:\n",
    "    print(c['cloud'])\n",
    "    run_name = c['cloud'] + '_track_test_1'\n",
    "    define_paths(run_name)\n",
    "    if arc:\n",
    "        xs, ys, angs = sweep(c['x'], c['y'], angle_sweep, nframes)\n",
    "        plot_ang(c['x'], c['y'], xs, ys, run_name)\n",
    "        # we make an empty list of frames to which we can append frames\n",
    "        fprops = []\n",
    "        allprops = build_fprops(fprops, cprops, angs, xs, ys, np.float(c['z']))\n",
    "    if not arc:\n",
    "        #hardcoding a track\n",
    "        xts, yts, zts, t_hat = track(2, 5, 7, -2, -5, -7, nframes)\n",
    "        fprops = []\n",
    "        thetas = np.zeros(nframes)\n",
    "        phis = np.zeros(nframes)\n",
    "        zetas = np.zeros(nframes)\n",
    "        for j in np.arange(nframes):\n",
    "            v_pos = np.array([xts[j], yts[j], zts[j]])\n",
    "            c_pos = np.array([c['x'], c['y'], c['z']])\n",
    "            thetas[j], phis[j], zetas[j] = determine_angles(v_pos, c_pos, t_hat)\n",
    "        allprops = build_fprops_track(fprops, cprops, thetas, phis, zetas, xts, yts, zts)\n",
    "\n",
    "    with open('{}/{}/{}.json'.format(os.environ['DROPBOX_ROOT'],run_name,run_name), 'w') as outfile:\n",
    "        json.dump(allprops, outfile,indent=2)\n",
    "    os.system(\"python3 project_frames.py {}/{}/{}.json {}/leike2020_bayestar19_splice.npy {}/{}/frames/{}_{{:05d}}.png\"\n",
    "          .format(os.environ['DROPBOX_ROOT'],run_name,run_name,os.environ['DROPBOX_ROOT'],os.environ['DROPBOX_ROOT'],run_name, run_name))\n",
    "    \n",
    "    os.system(\"{}/ffmpeg -r 30 -start_number 0 -i {}/{}/frames/{}_%05d.png -c:v libx264 -s 600x400 -r 30 -pix_fmt yuv420p {}/{}/{}.mp4\"\n",
    "          .format(os.environ['FFMPEG_ROOT'],os.environ['DROPBOX_ROOT'],run_name,run_name,os.environ['DROPBOX_ROOT'],run_name, run_name))\n"
   ]
  }
 ],
 "metadata": {
  "kernelspec": {
   "display_name": "Python 3 (ipykernel)",
   "language": "python",
   "name": "python3"
  },
  "language_info": {
   "codemirror_mode": {
    "name": "ipython",
    "version": 3
   },
   "file_extension": ".py",
   "mimetype": "text/x-python",
   "name": "python",
   "nbconvert_exporter": "python",
   "pygments_lexer": "ipython3",
   "version": "3.8.3"
  }
 },
 "nbformat": 4,
 "nbformat_minor": 4
}
