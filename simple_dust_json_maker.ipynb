{
 "cells": [
  {
   "cell_type": "markdown",
   "metadata": {},
   "source": [
    "A notebook for making a 100-frame movie from 3D dust for Linnea as a test\n",
    "\n",
    "Two environment variables need to be set in bash: DROPBOX_ROOT, and FFMPEG_ROOT. The DROPBOX_ROOT folder is the path to the top level directory of the dust-holgrams folder shared by Josh. E.g. in bash,\n",
    "\n",
    "export DROPBOX_ROOT='/Users/catherinezucker/Dropbox/dust-holograms/'\n",
    "\n",
    "You can also set the path to the FFMPEG executable:\n",
    "\n",
    "export FFMPEG_PATH='/usr/local/bin'\n",
    "\n",
    "Ideally, you would set these in your bash_profile profile  (now called zprofile in the latest OS operating systems). Alternatively, if you want to set one of these variables locally in this notebook, you can use:\n",
    "\n",
    "```\n",
    "import os\n",
    "os.environ['DROPBOX_ROOT'] = '/Users/catherinezucker/Dropbox/dust-holograms'\n",
    "os.environ['FFMPEG_ROOT'] = '/Usr/local/bin'\n",
    "\n",
    "```"
   ]
  },
  {
   "cell_type": "markdown",
   "metadata": {},
   "source": [
    "First thing we need to do is figure out how to write some json"
   ]
  },
  {
   "cell_type": "code",
   "execution_count": 1,
   "metadata": {},
   "outputs": [],
   "source": [
    "import json\n",
    "import numpy as np\n",
    "import os\n",
    "%matplotlib inline\n",
    "#%matplotlib notebook\n",
    "from matplotlib import pyplot as plt\n",
    "from astropy import table"
   ]
  },
  {
   "cell_type": "markdown",
   "metadata": {},
   "source": [
    "Josh is having some trouble with ```.zprofile``` so:"
   ]
  },
  {
   "cell_type": "code",
   "execution_count": 2,
   "metadata": {},
   "outputs": [],
   "source": [
    "if (os.environ.keys() != 'DROPBOX_HOME'):\n",
    "    os.environ['DROPBOX_ROOT'] = '/Users/jegpeek/Dropbox/dust-holograms'\n",
    "    os.environ['FFMPEG_ROOT'] = '/Users/jegpeek/'"
   ]
  },
  {
   "cell_type": "markdown",
   "metadata": {},
   "source": [
    "Using a variable called ```run_name``` to record everything we need about the run"
   ]
  },
  {
   "cell_type": "code",
   "execution_count": 3,
   "metadata": {},
   "outputs": [],
   "source": [
    "def define_paths(run_name):\n",
    "    if os.path.isdir(\"{}/{}/\".format(os.environ['DROPBOX_ROOT'],run_name)) == False:\n",
    "        os.mkdir(\"{}/{}/\".format(os.environ['DROPBOX_ROOT'],run_name))\n",
    "        os.mkdir(\"{}/{}/frames/\".format(os.environ['DROPBOX_ROOT'],run_name))"
   ]
  },
  {
   "cell_type": "markdown",
   "metadata": {},
   "source": [
    "This is the camera properties, which we will fix."
   ]
  },
  {
   "cell_type": "code",
   "execution_count": 12,
   "metadata": {},
   "outputs": [],
   "source": [
    "arc = True\n",
    "if arc:\n",
    "    ec = \"szyz\"\n",
    "if not arc:\n",
    "    ec = \"rxyz\"\n",
    "\n",
    "t = True\n",
    "cprops ={\n",
    "    \"projection\": \"stereographic\",\n",
    "    \"step_size\": 1,\n",
    "    \"max_dist\": 500.0,\n",
    "    \"fov\": 45.0,\n",
    "    \"x_pix\": 600,\n",
    "    \"y_pix\": 400,\n",
    "    \"vmax\": \"auto\",\n",
    "    \"clip_mode\": \"tanh\",\n",
    "    \"fuzzy\": t,\n",
    "    \"randomize_angles\": t,\n",
    "    \"euler_convention\": ec}"
   ]
  },
  {
   "cell_type": "code",
   "execution_count": 11,
   "metadata": {},
   "outputs": [
    {
     "name": "stdout",
     "output_type": "stream",
     "text": [
      "{'projection': 'stereographic', 'step_size': 1, 'max_dist': 500.0, 'fov': 45.0, 'x_pix': 600, 'y_pix': 400, 'vmax': 'auto', 'clip_mode': 'tanh', 'fuzzy': True, 'randomize_angles': True, 'euler_convention': 'rxyz'}\n"
     ]
    }
   ],
   "source": [
    "print(cprops)"
   ]
  },
  {
   "cell_type": "markdown",
   "metadata": {},
   "source": [
    "_In arc mode_ Linnea asked for 100 frames orbiting around a point with equal distance. We'll assume that the middle of these 100 frames is the Sun, and we'll set some sweep out angle in the Galactic Plane."
   ]
  },
  {
   "cell_type": "code",
   "execution_count": 5,
   "metadata": {},
   "outputs": [],
   "source": [
    "nframes = 10 # 100 frames\n",
    "if arc:\n",
    "    angle_sweep = 45 # half of this CCW and half CW from the sun"
   ]
  },
  {
   "cell_type": "code",
   "execution_count": 6,
   "metadata": {},
   "outputs": [],
   "source": [
    "def sweep(xc, yc, angle_sweep, nframes):\n",
    "    R = np.sqrt(xc**2+ yc**2)\n",
    "    phi =np.arctan2(yc, xc)*180/np.pi\n",
    "    dangs = np.linspace(0, angle_sweep, nframes)\n",
    "    xs = xc - R*np.cos((phi-angle_sweep/2+dangs)*np.pi/180)\n",
    "    ys = yc - R*np.sin((phi-angle_sweep/2+dangs)*np.pi/180)\n",
    "    angs = (dangs-angle_sweep/2+phi)*np.pi/180 ## wait are these in RADIANs??\n",
    "    return xs, ys, angs"
   ]
  },
  {
   "cell_type": "code",
   "execution_count": 7,
   "metadata": {},
   "outputs": [],
   "source": [
    "def plot_ang(x0, y0, xs, ys, run_name):\n",
    "    plt.figure(figsize=[5, 5])\n",
    "    plt.scatter(x0, y0)\n",
    "    plt.scatter(0, 0, c='red')\n",
    "    plt.plot(xs, ys)\n",
    "    plt.xlim([-500, 500])\n",
    "    plt.ylim([-500, 500])\n",
    "    plt.title(run_name)\n",
    "    plt.savefig('{}/{}/arc_{}'.format(os.environ['DROPBOX_ROOT'],run_name,run_name))"
   ]
  },
  {
   "cell_type": "markdown",
   "metadata": {},
   "source": [
    "In track mode we'll move from one "
   ]
  },
  {
   "cell_type": "code",
   "execution_count": 8,
   "metadata": {},
   "outputs": [],
   "source": [
    "def build_fprops(fprops, cprops, angs, xs, ys, zc):\n",
    "    for i in range(nframes):\n",
    "        fprops.append({\n",
    "          \"xyz\": [xs[i], ys[i], zc],\n",
    "          \"angles\": [angs[i], 0.0, 0.0]\n",
    "        })\n",
    "    allprops = {\"camera_props\": cprops,\"frame_props\":fprops }\n",
    "    return allprops"
   ]
  },
  {
   "cell_type": "markdown",
   "metadata": {},
   "source": [
    "Let's read in a list of molecular clouds and make movies for each one:"
   ]
  },
  {
   "cell_type": "code",
   "execution_count": 9,
   "metadata": {},
   "outputs": [],
   "source": [
    "clouds = table.Table.read('{}/Holo_Cloud_Targets.csv'.format(os.environ['DROPBOX_ROOT']))"
   ]
  },
  {
   "cell_type": "code",
   "execution_count": 10,
   "metadata": {},
   "outputs": [
    {
     "name": "stdout",
     "output_type": "stream",
     "text": [
      "Chamaeleon\n"
     ]
    },
    {
     "name": "stderr",
     "output_type": "stream",
     "text": [
      "/var/folders/1m/rp2c1skx01d8zdy8z96bkkr80000gn/T/ipykernel_88654/253866891.py:9: DeprecationWarning: `np.float` is a deprecated alias for the builtin `float`. To silence this warning, use `float` by itself. Doing this will not modify any behavior and is safe. If you specifically wanted the numpy scalar type, use `np.float64` here.\n",
      "Deprecated in NumPy 1.20; for more details and guidance: https://numpy.org/devdocs/release/1.20.0-notes.html#deprecations\n",
      "  allprops = build_fprops(fprops, cprops, angs, xs, ys, np.float(c['z']))\n"
     ]
    },
    {
     "name": "stdout",
     "output_type": "stream",
     "text": [
      "Loaded specifications for 10 images.\n"
     ]
    },
    {
     "name": "stderr",
     "output_type": "stream",
     "text": [
      "100% (10 of 10) |########################| Elapsed Time: 0:04:01 ETA:  00:00:00"
     ]
    },
    {
     "name": "stdout",
     "output_type": "stream",
     "text": [
      "All workers done.\n",
      "0.397824734759316\n",
      "Loading map ...\n",
      "Ray-casting frames ...\n",
      "frame 0: vmax = 0.007006777728471207\n",
      "frame 1: vmax = 0.010721173804678984\n",
      "frame 2: vmax = 0.007423235711663438\n",
      "frame 3: vmax = 0.008859650579344815\n",
      "frame 4: vmax = 0.008231068207263888\n",
      "frame 5: vmax = 0.008720389150446864\n",
      "frame 6: vmax = 0.00974160552014837\n",
      "frame 7: vmax = 0.00743002822213748\n",
      "frame 8: vmax = 0.008864622707089438\n",
      "frame 9: vmax = 0.007148415121360813\n",
      "Worker finished.\n"
     ]
    },
    {
     "name": "stderr",
     "output_type": "stream",
     "text": [
      "ffmpeg version 5.0-tessus  https://evermeet.cx/ffmpeg/  Copyright (c) 2000-2022 the FFmpeg developers\n",
      "  built with Apple clang version 11.0.0 (clang-1100.0.33.17)\n",
      "  configuration: --cc=/usr/bin/clang --prefix=/opt/ffmpeg --extra-version=tessus --enable-avisynth --enable-fontconfig --enable-gpl --enable-libaom --enable-libass --enable-libbluray --enable-libdav1d --enable-libfreetype --enable-libgsm --enable-libmodplug --enable-libmp3lame --enable-libmysofa --enable-libopencore-amrnb --enable-libopencore-amrwb --enable-libopenh264 --enable-libopenjpeg --enable-libopus --enable-librubberband --enable-libshine --enable-libsnappy --enable-libsoxr --enable-libspeex --enable-libtheora --enable-libtwolame --enable-libvidstab --enable-libvmaf --enable-libvo-amrwbenc --enable-libvorbis --enable-libvpx --enable-libwebp --enable-libx264 --enable-libx265 --enable-libxavs --enable-libxvid --enable-libzimg --enable-libzmq --enable-libzvbi --enable-version3 --pkg-config-flags=--static --disable-ffplay\n",
      "  libavutil      57. 17.100 / 57. 17.100\n",
      "  libavcodec     59. 18.100 / 59. 18.100\n",
      "  libavformat    59. 16.100 / 59. 16.100\n",
      "  libavdevice    59.  4.100 / 59.  4.100\n",
      "  libavfilter     8. 24.100 /  8. 24.100\n",
      "  libswscale      6.  4.100 /  6.  4.100\n",
      "  libswresample   4.  3.100 /  4.  3.100\n",
      "  libpostproc    56.  3.100 / 56.  3.100\n",
      "Input #0, image2, from '/Users/jegpeek/Dropbox/dust-holograms/Chamaeleon_z_500/frames/Chamaeleon_z_500_%05d.png':\n",
      "  Duration: 00:00:00.40, start: 0.000000, bitrate: N/A\n",
      "  Stream #0:0: Video: png, gray16be(pc), 600x400, 25 fps, 25 tbr, 25 tbn\n",
      "File '/Users/jegpeek/Dropbox/dust-holograms/Chamaeleon_z_500/Chamaeleon_z_500.mp4' already exists. Overwrite? [y/N] Not overwriting - exiting\n",
      "/var/folders/1m/rp2c1skx01d8zdy8z96bkkr80000gn/T/ipykernel_88654/253866891.py:9: DeprecationWarning: `np.float` is a deprecated alias for the builtin `float`. To silence this warning, use `float` by itself. Doing this will not modify any behavior and is safe. If you specifically wanted the numpy scalar type, use `np.float64` here.\n",
      "Deprecated in NumPy 1.20; for more details and guidance: https://numpy.org/devdocs/release/1.20.0-notes.html#deprecations\n",
      "  allprops = build_fprops(fprops, cprops, angs, xs, ys, np.float(c['z']))\n"
     ]
    },
    {
     "name": "stdout",
     "output_type": "stream",
     "text": [
      "Ophiuchus\n",
      "Loaded specifications for 10 images.\n"
     ]
    },
    {
     "name": "stderr",
     "output_type": "stream",
     "text": [
      "100% (10 of 10) |########################| Elapsed Time: 0:04:02 ETA:  00:00:00"
     ]
    },
    {
     "name": "stdout",
     "output_type": "stream",
     "text": [
      "All workers done.\n",
      "0.397824734759316\n",
      "Loading map ...\n",
      "Ray-casting frames ...\n",
      "frame 0: vmax = 0.010097797380047268\n",
      "frame 1: vmax = 0.00934931649738428\n",
      "frame 2: vmax = 0.03335459617507149\n",
      "frame 3: vmax = 0.034080401101033206\n",
      "frame 4: vmax = 0.03169380455667488\n",
      "frame 5: vmax = 0.029316588775778654\n",
      "frame 6: vmax = 0.031007848660752645\n",
      "frame 7: vmax = 0.028312777351347906\n",
      "frame 8: vmax = 0.02945851305013639\n",
      "frame 9: vmax = 0.026275940321807866\n",
      "Worker finished.\n"
     ]
    },
    {
     "name": "stderr",
     "output_type": "stream",
     "text": [
      "ffmpeg version 5.0-tessus  https://evermeet.cx/ffmpeg/  Copyright (c) 2000-2022 the FFmpeg developers\n",
      "  built with Apple clang version 11.0.0 (clang-1100.0.33.17)\n",
      "  configuration: --cc=/usr/bin/clang --prefix=/opt/ffmpeg --extra-version=tessus --enable-avisynth --enable-fontconfig --enable-gpl --enable-libaom --enable-libass --enable-libbluray --enable-libdav1d --enable-libfreetype --enable-libgsm --enable-libmodplug --enable-libmp3lame --enable-libmysofa --enable-libopencore-amrnb --enable-libopencore-amrwb --enable-libopenh264 --enable-libopenjpeg --enable-libopus --enable-librubberband --enable-libshine --enable-libsnappy --enable-libsoxr --enable-libspeex --enable-libtheora --enable-libtwolame --enable-libvidstab --enable-libvmaf --enable-libvo-amrwbenc --enable-libvorbis --enable-libvpx --enable-libwebp --enable-libx264 --enable-libx265 --enable-libxavs --enable-libxvid --enable-libzimg --enable-libzmq --enable-libzvbi --enable-version3 --pkg-config-flags=--static --disable-ffplay\n",
      "  libavutil      57. 17.100 / 57. 17.100\n",
      "  libavcodec     59. 18.100 / 59. 18.100\n",
      "  libavformat    59. 16.100 / 59. 16.100\n",
      "  libavdevice    59.  4.100 / 59.  4.100\n",
      "  libavfilter     8. 24.100 /  8. 24.100\n",
      "  libswscale      6.  4.100 /  6.  4.100\n",
      "  libswresample   4.  3.100 /  4.  3.100\n",
      "  libpostproc    56.  3.100 / 56.  3.100\n",
      "Input #0, image2, from '/Users/jegpeek/Dropbox/dust-holograms/Ophiuchus_z_500/frames/Ophiuchus_z_500_%05d.png':\n",
      "  Duration: 00:00:00.40, start: 0.000000, bitrate: N/A\n",
      "  Stream #0:0: Video: png, gray16be(pc), 600x400, 25 fps, 25 tbr, 25 tbn\n",
      "File '/Users/jegpeek/Dropbox/dust-holograms/Ophiuchus_z_500/Ophiuchus_z_500.mp4' already exists. Overwrite? [y/N] Not overwriting - exiting\n",
      "/var/folders/1m/rp2c1skx01d8zdy8z96bkkr80000gn/T/ipykernel_88654/253866891.py:9: DeprecationWarning: `np.float` is a deprecated alias for the builtin `float`. To silence this warning, use `float` by itself. Doing this will not modify any behavior and is safe. If you specifically wanted the numpy scalar type, use `np.float64` here.\n",
      "Deprecated in NumPy 1.20; for more details and guidance: https://numpy.org/devdocs/release/1.20.0-notes.html#deprecations\n",
      "  allprops = build_fprops(fprops, cprops, angs, xs, ys, np.float(c['z']))\n"
     ]
    },
    {
     "name": "stdout",
     "output_type": "stream",
     "text": [
      "Lupus\n",
      "Loaded specifications for 10 images.\n"
     ]
    },
    {
     "name": "stderr",
     "output_type": "stream",
     "text": [
      "100% (10 of 10) |########################| Elapsed Time: 0:04:06 ETA:  00:00:00"
     ]
    },
    {
     "name": "stdout",
     "output_type": "stream",
     "text": [
      "All workers done.\n",
      "0.397824734759316\n",
      "Loading map ...\n",
      "Ray-casting frames ...\n",
      "frame 0: vmax = 0.008161211836748408\n",
      "frame 1: vmax = 0.008109396622690838\n",
      "frame 2: vmax = 0.008238850216184802\n",
      "frame 3: vmax = 0.0077405207120100385\n",
      "frame 4: vmax = 0.008927859067807731\n",
      "frame 5: vmax = 0.024781059839064257\n",
      "frame 6: vmax = 0.03120410173009441\n",
      "frame 7: vmax = 0.029902858833858775\n",
      "frame 8: vmax = 0.025807445597478364\n",
      "frame 9: vmax = 0.021551610268950753\n",
      "Worker finished.\n"
     ]
    },
    {
     "name": "stderr",
     "output_type": "stream",
     "text": [
      "ffmpeg version 5.0-tessus  https://evermeet.cx/ffmpeg/  Copyright (c) 2000-2022 the FFmpeg developers\n",
      "  built with Apple clang version 11.0.0 (clang-1100.0.33.17)\n",
      "  configuration: --cc=/usr/bin/clang --prefix=/opt/ffmpeg --extra-version=tessus --enable-avisynth --enable-fontconfig --enable-gpl --enable-libaom --enable-libass --enable-libbluray --enable-libdav1d --enable-libfreetype --enable-libgsm --enable-libmodplug --enable-libmp3lame --enable-libmysofa --enable-libopencore-amrnb --enable-libopencore-amrwb --enable-libopenh264 --enable-libopenjpeg --enable-libopus --enable-librubberband --enable-libshine --enable-libsnappy --enable-libsoxr --enable-libspeex --enable-libtheora --enable-libtwolame --enable-libvidstab --enable-libvmaf --enable-libvo-amrwbenc --enable-libvorbis --enable-libvpx --enable-libwebp --enable-libx264 --enable-libx265 --enable-libxavs --enable-libxvid --enable-libzimg --enable-libzmq --enable-libzvbi --enable-version3 --pkg-config-flags=--static --disable-ffplay\n",
      "  libavutil      57. 17.100 / 57. 17.100\n",
      "  libavcodec     59. 18.100 / 59. 18.100\n",
      "  libavformat    59. 16.100 / 59. 16.100\n",
      "  libavdevice    59.  4.100 / 59.  4.100\n",
      "  libavfilter     8. 24.100 /  8. 24.100\n",
      "  libswscale      6.  4.100 /  6.  4.100\n",
      "  libswresample   4.  3.100 /  4.  3.100\n",
      "  libpostproc    56.  3.100 / 56.  3.100\n",
      "Input #0, image2, from '/Users/jegpeek/Dropbox/dust-holograms/Lupus_z_500/frames/Lupus_z_500_%05d.png':\n",
      "  Duration: 00:00:00.40, start: 0.000000, bitrate: N/A\n",
      "  Stream #0:0: Video: png, gray16be(pc), 600x400, 25 fps, 25 tbr, 25 tbn\n",
      "File '/Users/jegpeek/Dropbox/dust-holograms/Lupus_z_500/Lupus_z_500.mp4' already exists. Overwrite? [y/N] Not overwriting - exiting\n",
      "/var/folders/1m/rp2c1skx01d8zdy8z96bkkr80000gn/T/ipykernel_88654/253866891.py:9: DeprecationWarning: `np.float` is a deprecated alias for the builtin `float`. To silence this warning, use `float` by itself. Doing this will not modify any behavior and is safe. If you specifically wanted the numpy scalar type, use `np.float64` here.\n",
      "Deprecated in NumPy 1.20; for more details and guidance: https://numpy.org/devdocs/release/1.20.0-notes.html#deprecations\n",
      "  allprops = build_fprops(fprops, cprops, angs, xs, ys, np.float(c['z']))\n"
     ]
    },
    {
     "name": "stdout",
     "output_type": "stream",
     "text": [
      "Taurus\n",
      "Loaded specifications for 10 images.\n"
     ]
    },
    {
     "name": "stderr",
     "output_type": "stream",
     "text": [
      "100% (10 of 10) |########################| Elapsed Time: 0:04:14 ETA:  00:00:00"
     ]
    },
    {
     "name": "stdout",
     "output_type": "stream",
     "text": [
      "All workers done.\n",
      "0.397824734759316\n",
      "Loading map ...\n",
      "Ray-casting frames ...\n",
      "frame 0: vmax = 0.015390081657465998\n",
      "frame 1: vmax = 0.014561906639368316\n",
      "frame 2: vmax = 0.01899242977756876\n",
      "frame 3: vmax = 0.022201344537592378\n",
      "frame 4: vmax = 0.02470550941921829\n",
      "frame 5: vmax = 0.026929762141140602\n",
      "frame 6: vmax = 0.028516034915410274\n",
      "frame 7: vmax = 0.027758978646559625\n",
      "frame 8: vmax = 0.024814129023161515\n",
      "frame 9: vmax = 0.02869233264257855\n",
      "Worker finished.\n"
     ]
    },
    {
     "name": "stderr",
     "output_type": "stream",
     "text": [
      "ffmpeg version 5.0-tessus  https://evermeet.cx/ffmpeg/  Copyright (c) 2000-2022 the FFmpeg developers\n",
      "  built with Apple clang version 11.0.0 (clang-1100.0.33.17)\n",
      "  configuration: --cc=/usr/bin/clang --prefix=/opt/ffmpeg --extra-version=tessus --enable-avisynth --enable-fontconfig --enable-gpl --enable-libaom --enable-libass --enable-libbluray --enable-libdav1d --enable-libfreetype --enable-libgsm --enable-libmodplug --enable-libmp3lame --enable-libmysofa --enable-libopencore-amrnb --enable-libopencore-amrwb --enable-libopenh264 --enable-libopenjpeg --enable-libopus --enable-librubberband --enable-libshine --enable-libsnappy --enable-libsoxr --enable-libspeex --enable-libtheora --enable-libtwolame --enable-libvidstab --enable-libvmaf --enable-libvo-amrwbenc --enable-libvorbis --enable-libvpx --enable-libwebp --enable-libx264 --enable-libx265 --enable-libxavs --enable-libxvid --enable-libzimg --enable-libzmq --enable-libzvbi --enable-version3 --pkg-config-flags=--static --disable-ffplay\n",
      "  libavutil      57. 17.100 / 57. 17.100\n",
      "  libavcodec     59. 18.100 / 59. 18.100\n",
      "  libavformat    59. 16.100 / 59. 16.100\n",
      "  libavdevice    59.  4.100 / 59.  4.100\n",
      "  libavfilter     8. 24.100 /  8. 24.100\n",
      "  libswscale      6.  4.100 /  6.  4.100\n",
      "  libswresample   4.  3.100 /  4.  3.100\n",
      "  libpostproc    56.  3.100 / 56.  3.100\n",
      "Input #0, image2, from '/Users/jegpeek/Dropbox/dust-holograms/Taurus_z_500/frames/Taurus_z_500_%05d.png':\n",
      "  Duration: 00:00:00.40, start: 0.000000, bitrate: N/A\n",
      "  Stream #0:0: Video: png, gray16be(pc), 600x400, 25 fps, 25 tbr, 25 tbn\n",
      "File '/Users/jegpeek/Dropbox/dust-holograms/Taurus_z_500/Taurus_z_500.mp4' already exists. Overwrite? [y/N] Not overwriting - exiting\n",
      "/var/folders/1m/rp2c1skx01d8zdy8z96bkkr80000gn/T/ipykernel_88654/253866891.py:9: DeprecationWarning: `np.float` is a deprecated alias for the builtin `float`. To silence this warning, use `float` by itself. Doing this will not modify any behavior and is safe. If you specifically wanted the numpy scalar type, use `np.float64` here.\n",
      "Deprecated in NumPy 1.20; for more details and guidance: https://numpy.org/devdocs/release/1.20.0-notes.html#deprecations\n",
      "  allprops = build_fprops(fprops, cprops, angs, xs, ys, np.float(c['z']))\n"
     ]
    },
    {
     "name": "stdout",
     "output_type": "stream",
     "text": [
      "Perseus\n",
      "Loaded specifications for 10 images.\n"
     ]
    },
    {
     "name": "stderr",
     "output_type": "stream",
     "text": [
      "100% (10 of 10) |########################| Elapsed Time: 0:04:05 ETA:  00:00:00"
     ]
    },
    {
     "name": "stdout",
     "output_type": "stream",
     "text": [
      "All workers done.\n",
      "0.397824734759316\n",
      "Loading map ...\n",
      "Ray-casting frames ...\n",
      "frame 0: vmax = 0.011951624831001028\n",
      "frame 1: vmax = 0.010618990142909752\n",
      "frame 2: vmax = 0.00956918945671896\n",
      "frame 3: vmax = 0.009988071028576087\n",
      "frame 4: vmax = 0.011088911431583255\n",
      "frame 5: vmax = 0.010788525854455656\n",
      "frame 6: vmax = 0.01712884830907933\n",
      "frame 7: vmax = 0.016043622843601044\n",
      "frame 8: vmax = 0.016582236395563086\n",
      "frame 9: vmax = 0.014825944370419166\n",
      "Worker finished.\n"
     ]
    },
    {
     "name": "stderr",
     "output_type": "stream",
     "text": [
      "ffmpeg version 5.0-tessus  https://evermeet.cx/ffmpeg/  Copyright (c) 2000-2022 the FFmpeg developers\n",
      "  built with Apple clang version 11.0.0 (clang-1100.0.33.17)\n",
      "  configuration: --cc=/usr/bin/clang --prefix=/opt/ffmpeg --extra-version=tessus --enable-avisynth --enable-fontconfig --enable-gpl --enable-libaom --enable-libass --enable-libbluray --enable-libdav1d --enable-libfreetype --enable-libgsm --enable-libmodplug --enable-libmp3lame --enable-libmysofa --enable-libopencore-amrnb --enable-libopencore-amrwb --enable-libopenh264 --enable-libopenjpeg --enable-libopus --enable-librubberband --enable-libshine --enable-libsnappy --enable-libsoxr --enable-libspeex --enable-libtheora --enable-libtwolame --enable-libvidstab --enable-libvmaf --enable-libvo-amrwbenc --enable-libvorbis --enable-libvpx --enable-libwebp --enable-libx264 --enable-libx265 --enable-libxavs --enable-libxvid --enable-libzimg --enable-libzmq --enable-libzvbi --enable-version3 --pkg-config-flags=--static --disable-ffplay\n",
      "  libavutil      57. 17.100 / 57. 17.100\n",
      "  libavcodec     59. 18.100 / 59. 18.100\n",
      "  libavformat    59. 16.100 / 59. 16.100\n",
      "  libavdevice    59.  4.100 / 59.  4.100\n",
      "  libavfilter     8. 24.100 /  8. 24.100\n",
      "  libswscale      6.  4.100 /  6.  4.100\n",
      "  libswresample   4.  3.100 /  4.  3.100\n",
      "  libpostproc    56.  3.100 / 56.  3.100\n",
      "Input #0, image2, from '/Users/jegpeek/Dropbox/dust-holograms/Perseus_z_500/frames/Perseus_z_500_%05d.png':\n",
      "  Duration: 00:00:00.40, start: 0.000000, bitrate: N/A\n",
      "  Stream #0:0: Video: png, gray16be(pc), 600x400, 25 fps, 25 tbr, 25 tbn\n",
      "File '/Users/jegpeek/Dropbox/dust-holograms/Perseus_z_500/Perseus_z_500.mp4' already exists. Overwrite? [y/N] Not overwriting - exiting\n",
      "/var/folders/1m/rp2c1skx01d8zdy8z96bkkr80000gn/T/ipykernel_88654/253866891.py:9: DeprecationWarning: `np.float` is a deprecated alias for the builtin `float`. To silence this warning, use `float` by itself. Doing this will not modify any behavior and is safe. If you specifically wanted the numpy scalar type, use `np.float64` here.\n",
      "Deprecated in NumPy 1.20; for more details and guidance: https://numpy.org/devdocs/release/1.20.0-notes.html#deprecations\n",
      "  allprops = build_fprops(fprops, cprops, angs, xs, ys, np.float(c['z']))\n"
     ]
    },
    {
     "name": "stdout",
     "output_type": "stream",
     "text": [
      "Musca\n",
      "Loaded specifications for 10 images.\n"
     ]
    },
    {
     "name": "stderr",
     "output_type": "stream",
     "text": [
      "100% (10 of 10) |########################| Elapsed Time: 0:04:10 ETA:  00:00:00"
     ]
    },
    {
     "name": "stdout",
     "output_type": "stream",
     "text": [
      "All workers done.\n",
      "0.397824734759316\n",
      "Loading map ...\n",
      "Ray-casting frames ...\n",
      "frame 0: vmax = 0.010314328324173403\n",
      "frame 1: vmax = 0.008579605412698584\n",
      "frame 2: vmax = 0.007989148520575327\n",
      "frame 3: vmax = 0.009897480193598313\n",
      "frame 4: vmax = 0.007810224795601244\n",
      "frame 5: vmax = 0.008577845574736785\n",
      "frame 6: vmax = 0.009294057430453905\n",
      "frame 7: vmax = 0.007573938393878052\n",
      "frame 8: vmax = 0.006955241182069585\n",
      "frame 9: vmax = 0.006858945402023892\n",
      "Worker finished.\n"
     ]
    },
    {
     "name": "stderr",
     "output_type": "stream",
     "text": [
      "ffmpeg version 5.0-tessus  https://evermeet.cx/ffmpeg/  Copyright (c) 2000-2022 the FFmpeg developers\n",
      "  built with Apple clang version 11.0.0 (clang-1100.0.33.17)\n",
      "  configuration: --cc=/usr/bin/clang --prefix=/opt/ffmpeg --extra-version=tessus --enable-avisynth --enable-fontconfig --enable-gpl --enable-libaom --enable-libass --enable-libbluray --enable-libdav1d --enable-libfreetype --enable-libgsm --enable-libmodplug --enable-libmp3lame --enable-libmysofa --enable-libopencore-amrnb --enable-libopencore-amrwb --enable-libopenh264 --enable-libopenjpeg --enable-libopus --enable-librubberband --enable-libshine --enable-libsnappy --enable-libsoxr --enable-libspeex --enable-libtheora --enable-libtwolame --enable-libvidstab --enable-libvmaf --enable-libvo-amrwbenc --enable-libvorbis --enable-libvpx --enable-libwebp --enable-libx264 --enable-libx265 --enable-libxavs --enable-libxvid --enable-libzimg --enable-libzmq --enable-libzvbi --enable-version3 --pkg-config-flags=--static --disable-ffplay\n",
      "  libavutil      57. 17.100 / 57. 17.100\n",
      "  libavcodec     59. 18.100 / 59. 18.100\n",
      "  libavformat    59. 16.100 / 59. 16.100\n",
      "  libavdevice    59.  4.100 / 59.  4.100\n",
      "  libavfilter     8. 24.100 /  8. 24.100\n",
      "  libswscale      6.  4.100 /  6.  4.100\n",
      "  libswresample   4.  3.100 /  4.  3.100\n",
      "  libpostproc    56.  3.100 / 56.  3.100\n",
      "Input #0, image2, from '/Users/jegpeek/Dropbox/dust-holograms/Musca_z_500/frames/Musca_z_500_%05d.png':\n",
      "  Duration: 00:00:00.40, start: 0.000000, bitrate: N/A\n",
      "  Stream #0:0: Video: png, gray16be(pc), 600x400, 25 fps, 25 tbr, 25 tbn\n",
      "Stream mapping:\n",
      "  Stream #0:0 -> #0:0 (png (native) -> h264 (libx264))\n",
      "Press [q] to stop, [?] for help\n",
      "[libx264 @ 0x7f7c51005700] using cpu capabilities: MMX2 SSE2Fast SSSE3 SSE4.2 AVX FMA3 BMI2 AVX2\n",
      "[libx264 @ 0x7f7c51005700] profile High, level 3.0, 4:2:0, 8-bit\n",
      "[libx264 @ 0x7f7c51005700] 264 - core 164 r3081 19856cc - H.264/MPEG-4 AVC codec - Copyleft 2003-2021 - http://www.videolan.org/x264.html - options: cabac=1 ref=3 deblock=1:0:0 analyse=0x3:0x113 me=hex subme=7 psy=1 psy_rd=1.00:0.00 mixed_ref=1 me_range=16 chroma_me=1 trellis=1 8x8dct=1 cqm=0 deadzone=21,11 fast_pskip=1 chroma_qp_offset=-2 threads=12 lookahead_threads=2 sliced_threads=0 nr=0 decimate=1 interlaced=0 bluray_compat=0 constrained_intra=0 bframes=3 b_pyramid=2 b_adapt=1 b_bias=0 direct=1 weightb=1 open_gop=0 weightp=2 keyint=250 keyint_min=25 scenecut=40 intra_refresh=0 rc_lookahead=40 rc=crf mbtree=1 crf=23.0 qcomp=0.60 qpmin=0 qpmax=69 qpstep=4 ip_ratio=1.40 aq=1:1.00\n",
      "Output #0, mp4, to '/Users/jegpeek/Dropbox/dust-holograms/Musca_z_500/Musca_z_500.mp4':\n",
      "  Metadata:\n",
      "    encoder         : Lavf59.16.100\n",
      "  Stream #0:0: Video: h264 (avc1 / 0x31637661), yuv420p(tv, progressive), 600x400, q=2-31, 30 fps, 15360 tbn\n",
      "    Metadata:\n",
      "      encoder         : Lavc59.18.100 libx264\n",
      "    Side data:\n",
      "      cpb: bitrate max/min/avg: 0/0/0 buffer size: 0 vbv_delay: N/A\n",
      "frame=    1 fps=0.0 q=0.0 size=       0kB time=00:00:00.00 bitrate=N/A speed=   0x    \r",
      "frame=   10 fps=0.0 q=-1.0 Lsize=      37kB time=00:00:00.23 bitrate=1305.4kbits/s speed=2.66x    \n",
      "video:36kB audio:0kB subtitle:0kB other streams:0kB global headers:0kB muxing overhead: 2.618958%\n",
      "[libx264 @ 0x7f7c51005700] frame I:1     Avg QP:23.89  size:  4406\n",
      "[libx264 @ 0x7f7c51005700] frame P:3     Avg QP:24.59  size:  4408\n",
      "[libx264 @ 0x7f7c51005700] frame B:6     Avg QP:25.55  size:  3132\n",
      "[libx264 @ 0x7f7c51005700] consecutive B-frames: 10.0% 20.0% 30.0% 40.0%\n",
      "[libx264 @ 0x7f7c51005700] mb I  I16..4: 29.3% 66.7%  4.0%\n",
      "[libx264 @ 0x7f7c51005700] mb P  I16..4: 12.7% 21.3%  2.4%  P16..4: 42.4% 11.8%  2.3%  0.0%  0.0%    skip: 7.1%\n",
      "[libx264 @ 0x7f7c51005700] mb B  I16..4:  1.9%  2.9%  0.5%  B16..8: 46.4%  8.1%  0.9%  direct: 5.1%  skip:34.1%  L0:39.3% L1:57.2% BI: 3.5%\n",
      "[libx264 @ 0x7f7c51005700] 8x8 transform intra:61.4% inter:81.7%\n",
      "[libx264 @ 0x7f7c51005700] coded y,uvDC,uvAC intra: 35.5% 0.0% 0.0% inter: 22.3% 0.0% 0.0%\n",
      "[libx264 @ 0x7f7c51005700] i16 v,h,dc,p: 12% 22%  8% 59%\n",
      "[libx264 @ 0x7f7c51005700] i8 v,h,dc,ddl,ddr,vr,hd,vl,hu: 16% 20% 22%  6%  8%  6%  9%  5%  7%\n",
      "[libx264 @ 0x7f7c51005700] i4 v,h,dc,ddl,ddr,vr,hd,vl,hu: 13% 15% 19% 11%  9%  9%  9%  7%  8%\n",
      "[libx264 @ 0x7f7c51005700] i8c dc,h,v,p: 100%  0%  0%  0%\n",
      "[libx264 @ 0x7f7c51005700] Weighted P-Frames: Y:100.0% UV:0.0%\n",
      "[libx264 @ 0x7f7c51005700] ref P L0: 66.1%  5.6% 14.7% 10.8%  2.8%\n",
      "[libx264 @ 0x7f7c51005700] ref B L0: 74.2% 22.4%  3.4%\n",
      "[libx264 @ 0x7f7c51005700] ref B L1: 83.8% 16.2%\n",
      "[libx264 @ 0x7f7c51005700] kb/s:874.18\n"
     ]
    },
    {
     "name": "stdout",
     "output_type": "stream",
     "text": [
      "Pipe\n"
     ]
    },
    {
     "name": "stderr",
     "output_type": "stream",
     "text": [
      "/var/folders/1m/rp2c1skx01d8zdy8z96bkkr80000gn/T/ipykernel_88654/253866891.py:9: DeprecationWarning: `np.float` is a deprecated alias for the builtin `float`. To silence this warning, use `float` by itself. Doing this will not modify any behavior and is safe. If you specifically wanted the numpy scalar type, use `np.float64` here.\n",
      "Deprecated in NumPy 1.20; for more details and guidance: https://numpy.org/devdocs/release/1.20.0-notes.html#deprecations\n",
      "  allprops = build_fprops(fprops, cprops, angs, xs, ys, np.float(c['z']))\n"
     ]
    },
    {
     "name": "stdout",
     "output_type": "stream",
     "text": [
      "Loaded specifications for 10 images.\n"
     ]
    },
    {
     "name": "stderr",
     "output_type": "stream",
     "text": [
      "100% (10 of 10) |########################| Elapsed Time: 0:04:11 ETA:  00:00:00"
     ]
    },
    {
     "name": "stdout",
     "output_type": "stream",
     "text": [
      "All workers done.\n",
      "0.397824734759316\n",
      "Loading map ...\n",
      "Ray-casting frames ...\n",
      "frame 0: vmax = 0.03450770412474231\n",
      "frame 1: vmax = 0.03531254090722359\n",
      "frame 2: vmax = 0.03636389362504997\n",
      "frame 3: vmax = 0.035639650763216194\n",
      "frame 4: vmax = 0.03234576408061548\n",
      "frame 5: vmax = 0.035696492694441986\n",
      "frame 6: vmax = 0.032692104718917106\n",
      "frame 7: vmax = 0.030242040224460653\n",
      "frame 8: vmax = 0.02735930514855136\n",
      "frame 9: vmax = 0.0255170968267048\n",
      "Worker finished.\n"
     ]
    },
    {
     "name": "stderr",
     "output_type": "stream",
     "text": [
      "ffmpeg version 5.0-tessus  https://evermeet.cx/ffmpeg/  Copyright (c) 2000-2022 the FFmpeg developers\n",
      "  built with Apple clang version 11.0.0 (clang-1100.0.33.17)\n",
      "  configuration: --cc=/usr/bin/clang --prefix=/opt/ffmpeg --extra-version=tessus --enable-avisynth --enable-fontconfig --enable-gpl --enable-libaom --enable-libass --enable-libbluray --enable-libdav1d --enable-libfreetype --enable-libgsm --enable-libmodplug --enable-libmp3lame --enable-libmysofa --enable-libopencore-amrnb --enable-libopencore-amrwb --enable-libopenh264 --enable-libopenjpeg --enable-libopus --enable-librubberband --enable-libshine --enable-libsnappy --enable-libsoxr --enable-libspeex --enable-libtheora --enable-libtwolame --enable-libvidstab --enable-libvmaf --enable-libvo-amrwbenc --enable-libvorbis --enable-libvpx --enable-libwebp --enable-libx264 --enable-libx265 --enable-libxavs --enable-libxvid --enable-libzimg --enable-libzmq --enable-libzvbi --enable-version3 --pkg-config-flags=--static --disable-ffplay\n",
      "  libavutil      57. 17.100 / 57. 17.100\n",
      "  libavcodec     59. 18.100 / 59. 18.100\n",
      "  libavformat    59. 16.100 / 59. 16.100\n",
      "  libavdevice    59.  4.100 / 59.  4.100\n",
      "  libavfilter     8. 24.100 /  8. 24.100\n",
      "  libswscale      6.  4.100 /  6.  4.100\n",
      "  libswresample   4.  3.100 /  4.  3.100\n",
      "  libpostproc    56.  3.100 / 56.  3.100\n",
      "Input #0, image2, from '/Users/jegpeek/Dropbox/dust-holograms/Pipe_z_500/frames/Pipe_z_500_%05d.png':\n",
      "  Duration: 00:00:00.40, start: 0.000000, bitrate: N/A\n",
      "  Stream #0:0: Video: png, gray16be(pc), 600x400, 25 fps, 25 tbr, 25 tbn\n",
      "Stream mapping:\n",
      "  Stream #0:0 -> #0:0 (png (native) -> h264 (libx264))\n",
      "Press [q] to stop, [?] for help\n",
      "[libx264 @ 0x7fa6c3005e00] using cpu capabilities: MMX2 SSE2Fast SSSE3 SSE4.2 AVX FMA3 BMI2 AVX2\n",
      "[libx264 @ 0x7fa6c3005e00] profile High, level 3.0, 4:2:0, 8-bit\n",
      "[libx264 @ 0x7fa6c3005e00] 264 - core 164 r3081 19856cc - H.264/MPEG-4 AVC codec - Copyleft 2003-2021 - http://www.videolan.org/x264.html - options: cabac=1 ref=3 deblock=1:0:0 analyse=0x3:0x113 me=hex subme=7 psy=1 psy_rd=1.00:0.00 mixed_ref=1 me_range=16 chroma_me=1 trellis=1 8x8dct=1 cqm=0 deadzone=21,11 fast_pskip=1 chroma_qp_offset=-2 threads=12 lookahead_threads=2 sliced_threads=0 nr=0 decimate=1 interlaced=0 bluray_compat=0 constrained_intra=0 bframes=3 b_pyramid=2 b_adapt=1 b_bias=0 direct=1 weightb=1 open_gop=0 weightp=2 keyint=250 keyint_min=25 scenecut=40 intra_refresh=0 rc_lookahead=40 rc=crf mbtree=1 crf=23.0 qcomp=0.60 qpmin=0 qpmax=69 qpstep=4 ip_ratio=1.40 aq=1:1.00\n",
      "Output #0, mp4, to '/Users/jegpeek/Dropbox/dust-holograms/Pipe_z_500/Pipe_z_500.mp4':\n",
      "  Metadata:\n",
      "    encoder         : Lavf59.16.100\n",
      "  Stream #0:0: Video: h264 (avc1 / 0x31637661), yuv420p(tv, progressive), 600x400, q=2-31, 30 fps, 15360 tbn\n",
      "    Metadata:\n",
      "      encoder         : Lavc59.18.100 libx264\n",
      "    Side data:\n",
      "      cpb: bitrate max/min/avg: 0/0/0 buffer size: 0 vbv_delay: N/A\n",
      "frame=    1 fps=0.0 q=0.0 size=       0kB time=00:00:00.00 bitrate=N/A speed=   0x    \r",
      "frame=   10 fps=0.0 q=-1.0 Lsize=      26kB time=00:00:00.23 bitrate= 901.3kbits/s speed=   3x    \n",
      "video:25kB audio:0kB subtitle:0kB other streams:0kB global headers:0kB muxing overhead: 3.871070%\n",
      "[libx264 @ 0x7fa6c3005e00] frame I:1     Avg QP:22.89  size:  2455\n",
      "[libx264 @ 0x7fa6c3005e00] frame P:3     Avg QP:24.12  size:  3153\n",
      "[libx264 @ 0x7fa6c3005e00] frame B:6     Avg QP:23.83  size:  2119\n",
      "[libx264 @ 0x7fa6c3005e00] consecutive B-frames: 20.0%  0.0%  0.0% 80.0%\n",
      "[libx264 @ 0x7fa6c3005e00] mb I  I16..4: 37.4% 61.7%  0.9%\n",
      "[libx264 @ 0x7fa6c3005e00] mb P  I16..4: 11.0% 23.3%  1.2%  P16..4: 38.5%  6.7%  4.0%  0.0%  0.0%    skip:15.3%\n",
      "[libx264 @ 0x7fa6c3005e00] mb B  I16..4:  2.1%  3.2%  0.2%  B16..8: 49.4%  5.6%  0.4%  direct: 3.1%  skip:36.2%  L0:53.9% L1:44.4% BI: 1.7%\n",
      "[libx264 @ 0x7fa6c3005e00] 8x8 transform intra:63.0% inter:90.6%\n",
      "[libx264 @ 0x7fa6c3005e00] coded y,uvDC,uvAC intra: 31.8% 0.0% 0.0% inter: 18.3% 0.0% 0.0%\n",
      "[libx264 @ 0x7fa6c3005e00] i16 v,h,dc,p: 10% 23% 10% 56%\n",
      "[libx264 @ 0x7fa6c3005e00] i8 v,h,dc,ddl,ddr,vr,hd,vl,hu: 18% 18% 26%  7%  7%  5%  7%  5%  7%\n",
      "[libx264 @ 0x7fa6c3005e00] i4 v,h,dc,ddl,ddr,vr,hd,vl,hu: 12% 20% 22% 10%  8%  6%  9%  5%  7%\n",
      "[libx264 @ 0x7fa6c3005e00] i8c dc,h,v,p: 100%  0%  0%  0%\n",
      "[libx264 @ 0x7fa6c3005e00] Weighted P-Frames: Y:33.3% UV:0.0%\n",
      "[libx264 @ 0x7fa6c3005e00] ref P L0: 61.4%  3.7% 24.1%  9.1%  1.8%\n",
      "[libx264 @ 0x7fa6c3005e00] ref B L0: 89.9%  7.6%  2.6%\n",
      "[libx264 @ 0x7fa6c3005e00] ref B L1: 95.7%  4.3%\n",
      "[libx264 @ 0x7fa6c3005e00] kb/s:591.02\n",
      "/var/folders/1m/rp2c1skx01d8zdy8z96bkkr80000gn/T/ipykernel_88654/253866891.py:9: DeprecationWarning: `np.float` is a deprecated alias for the builtin `float`. To silence this warning, use `float` by itself. Doing this will not modify any behavior and is safe. If you specifically wanted the numpy scalar type, use `np.float64` here.\n",
      "Deprecated in NumPy 1.20; for more details and guidance: https://numpy.org/devdocs/release/1.20.0-notes.html#deprecations\n",
      "  allprops = build_fprops(fprops, cprops, angs, xs, ys, np.float(c['z']))\n"
     ]
    },
    {
     "name": "stdout",
     "output_type": "stream",
     "text": [
      "Cepheus\n",
      "Loaded specifications for 10 images.\n"
     ]
    },
    {
     "name": "stderr",
     "output_type": "stream",
     "text": [
      "100% (10 of 10) |########################| Elapsed Time: 0:04:05 ETA:  00:00:00"
     ]
    },
    {
     "name": "stdout",
     "output_type": "stream",
     "text": [
      "All workers done.\n",
      "0.397824734759316\n",
      "Loading map ...\n",
      "Ray-casting frames ...\n",
      "frame 0: vmax = 0.012121776273834258\n",
      "frame 1: vmax = 0.011025374310041115\n",
      "frame 2: vmax = 0.011274624091978694\n",
      "frame 3: vmax = 0.01192999062481158\n",
      "frame 4: vmax = 0.017348836006006424\n",
      "frame 5: vmax = 0.016636187660698853\n",
      "frame 6: vmax = 0.011870959387910262\n",
      "frame 7: vmax = 0.015438554673939507\n",
      "frame 8: vmax = 0.01310694776281889\n",
      "frame 9: vmax = 0.012977740557234939\n",
      "Worker finished.\n"
     ]
    },
    {
     "name": "stderr",
     "output_type": "stream",
     "text": [
      "ffmpeg version 5.0-tessus  https://evermeet.cx/ffmpeg/  Copyright (c) 2000-2022 the FFmpeg developers\n",
      "  built with Apple clang version 11.0.0 (clang-1100.0.33.17)\n",
      "  configuration: --cc=/usr/bin/clang --prefix=/opt/ffmpeg --extra-version=tessus --enable-avisynth --enable-fontconfig --enable-gpl --enable-libaom --enable-libass --enable-libbluray --enable-libdav1d --enable-libfreetype --enable-libgsm --enable-libmodplug --enable-libmp3lame --enable-libmysofa --enable-libopencore-amrnb --enable-libopencore-amrwb --enable-libopenh264 --enable-libopenjpeg --enable-libopus --enable-librubberband --enable-libshine --enable-libsnappy --enable-libsoxr --enable-libspeex --enable-libtheora --enable-libtwolame --enable-libvidstab --enable-libvmaf --enable-libvo-amrwbenc --enable-libvorbis --enable-libvpx --enable-libwebp --enable-libx264 --enable-libx265 --enable-libxavs --enable-libxvid --enable-libzimg --enable-libzmq --enable-libzvbi --enable-version3 --pkg-config-flags=--static --disable-ffplay\n",
      "  libavutil      57. 17.100 / 57. 17.100\n",
      "  libavcodec     59. 18.100 / 59. 18.100\n",
      "  libavformat    59. 16.100 / 59. 16.100\n",
      "  libavdevice    59.  4.100 / 59.  4.100\n",
      "  libavfilter     8. 24.100 /  8. 24.100\n",
      "  libswscale      6.  4.100 /  6.  4.100\n",
      "  libswresample   4.  3.100 /  4.  3.100\n",
      "  libpostproc    56.  3.100 / 56.  3.100\n",
      "Input #0, image2, from '/Users/jegpeek/Dropbox/dust-holograms/Cepheus_z_500/frames/Cepheus_z_500_%05d.png':\n",
      "  Duration: 00:00:00.40, start: 0.000000, bitrate: N/A\n",
      "  Stream #0:0: Video: png, gray16be(pc), 600x400, 25 fps, 25 tbr, 25 tbn\n",
      "Stream mapping:\n",
      "  Stream #0:0 -> #0:0 (png (native) -> h264 (libx264))\n",
      "Press [q] to stop, [?] for help\n",
      "[libx264 @ 0x7fdc38706c40] using cpu capabilities: MMX2 SSE2Fast SSSE3 SSE4.2 AVX FMA3 BMI2 AVX2\n",
      "[libx264 @ 0x7fdc38706c40] profile High, level 3.0, 4:2:0, 8-bit\n",
      "[libx264 @ 0x7fdc38706c40] 264 - core 164 r3081 19856cc - H.264/MPEG-4 AVC codec - Copyleft 2003-2021 - http://www.videolan.org/x264.html - options: cabac=1 ref=3 deblock=1:0:0 analyse=0x3:0x113 me=hex subme=7 psy=1 psy_rd=1.00:0.00 mixed_ref=1 me_range=16 chroma_me=1 trellis=1 8x8dct=1 cqm=0 deadzone=21,11 fast_pskip=1 chroma_qp_offset=-2 threads=12 lookahead_threads=2 sliced_threads=0 nr=0 decimate=1 interlaced=0 bluray_compat=0 constrained_intra=0 bframes=3 b_pyramid=2 b_adapt=1 b_bias=0 direct=1 weightb=1 open_gop=0 weightp=2 keyint=250 keyint_min=25 scenecut=40 intra_refresh=0 rc_lookahead=40 rc=crf mbtree=1 crf=23.0 qcomp=0.60 qpmin=0 qpmax=69 qpstep=4 ip_ratio=1.40 aq=1:1.00\n",
      "Output #0, mp4, to '/Users/jegpeek/Dropbox/dust-holograms/Cepheus_z_500/Cepheus_z_500.mp4':\n",
      "  Metadata:\n",
      "    encoder         : Lavf59.16.100\n",
      "  Stream #0:0: Video: h264 (avc1 / 0x31637661), yuv420p(tv, progressive), 600x400, q=2-31, 30 fps, 15360 tbn\n",
      "    Metadata:\n",
      "      encoder         : Lavc59.18.100 libx264\n",
      "    Side data:\n",
      "      cpb: bitrate max/min/avg: 0/0/0 buffer size: 0 vbv_delay: N/A\n",
      "frame=    1 fps=0.0 q=0.0 size=       0kB time=00:00:00.00 bitrate=N/A speed=   0x    \r",
      "frame=   10 fps=0.0 q=-1.0 Lsize=      43kB time=00:00:00.23 bitrate=1523.3kbits/s speed=2.94x    \n",
      "video:42kB audio:0kB subtitle:0kB other streams:0kB global headers:0kB muxing overhead: 2.254791%\n",
      "[libx264 @ 0x7fdc38706c40] frame I:1     Avg QP:24.73  size:  4997\n",
      "[libx264 @ 0x7fdc38706c40] frame P:3     Avg QP:25.05  size:  4482\n",
      "[libx264 @ 0x7fdc38706c40] frame B:6     Avg QP:25.71  size:  4055\n",
      "[libx264 @ 0x7fdc38706c40] consecutive B-frames: 20.0%  0.0%  0.0% 80.0%\n",
      "[libx264 @ 0x7fdc38706c40] mb I  I16..4: 13.7% 80.5%  5.8%\n",
      "[libx264 @ 0x7fdc38706c40] mb P  I16..4:  9.0% 28.3%  1.9%  P16..4: 34.0%  8.6%  3.3%  0.0%  0.0%    skip:14.9%\n",
      "[libx264 @ 0x7fdc38706c40] mb B  I16..4:  2.4% 10.0%  0.9%  B16..8: 40.2%  9.3%  1.3%  direct: 5.9%  skip:29.9%  L0:59.8% L1:36.8% BI: 3.3%\n",
      "[libx264 @ 0x7fdc38706c40] 8x8 transform intra:75.8% inter:80.9%\n",
      "[libx264 @ 0x7fdc38706c40] coded y,uvDC,uvAC intra: 48.3% 0.0% 0.0% inter: 29.9% 0.0% 0.0%\n",
      "[libx264 @ 0x7fdc38706c40] i16 v,h,dc,p: 19% 23% 13% 45%\n",
      "[libx264 @ 0x7fdc38706c40] i8 v,h,dc,ddl,ddr,vr,hd,vl,hu: 18% 12% 23%  6% 11%  7% 10%  6%  7%\n",
      "[libx264 @ 0x7fdc38706c40] i4 v,h,dc,ddl,ddr,vr,hd,vl,hu: 15% 13% 17%  9% 12% 11% 10%  6%  6%\n",
      "[libx264 @ 0x7fdc38706c40] i8c dc,h,v,p: 100%  0%  0%  0%\n",
      "[libx264 @ 0x7fdc38706c40] Weighted P-Frames: Y:66.7% UV:0.0%\n",
      "[libx264 @ 0x7fdc38706c40] ref P L0: 65.1% 11.6% 16.1%  4.5%  2.6%\n",
      "[libx264 @ 0x7fdc38706c40] ref B L0: 86.3% 11.7%  2.0%\n",
      "[libx264 @ 0x7fdc38706c40] ref B L1: 95.8%  4.2%\n",
      "[libx264 @ 0x7fdc38706c40] kb/s:1026.55\n"
     ]
    },
    {
     "name": "stdout",
     "output_type": "stream",
     "text": [
      "Corona_Australis\n"
     ]
    },
    {
     "name": "stderr",
     "output_type": "stream",
     "text": [
      "/var/folders/1m/rp2c1skx01d8zdy8z96bkkr80000gn/T/ipykernel_88654/253866891.py:9: DeprecationWarning: `np.float` is a deprecated alias for the builtin `float`. To silence this warning, use `float` by itself. Doing this will not modify any behavior and is safe. If you specifically wanted the numpy scalar type, use `np.float64` here.\n",
      "Deprecated in NumPy 1.20; for more details and guidance: https://numpy.org/devdocs/release/1.20.0-notes.html#deprecations\n",
      "  allprops = build_fprops(fprops, cprops, angs, xs, ys, np.float(c['z']))\n"
     ]
    },
    {
     "name": "stdout",
     "output_type": "stream",
     "text": [
      "Loaded specifications for 10 images.\n"
     ]
    },
    {
     "name": "stderr",
     "output_type": "stream",
     "text": [
      "100% (10 of 10) |########################| Elapsed Time: 0:04:07 ETA:  00:00:00"
     ]
    },
    {
     "name": "stdout",
     "output_type": "stream",
     "text": [
      "All workers done.\n",
      "0.397824734759316\n",
      "Loading map ...\n",
      "Ray-casting frames ...\n",
      "frame 0: vmax = 0.02755006898578722\n",
      "frame 1: vmax = 0.02622274570018999\n",
      "frame 2: vmax = 0.02601020280517696\n",
      "frame 3: vmax = 0.029482591899675753\n",
      "frame 4: vmax = 0.02885763295188008\n",
      "frame 5: vmax = 0.0270371550577911\n",
      "frame 6: vmax = 0.025824218583624315\n",
      "frame 7: vmax = 0.022952467572024033\n",
      "frame 8: vmax = 0.020747470474661897\n",
      "frame 9: vmax = 0.01932309971732866\n",
      "Worker finished.\n"
     ]
    },
    {
     "name": "stderr",
     "output_type": "stream",
     "text": [
      "ffmpeg version 5.0-tessus  https://evermeet.cx/ffmpeg/  Copyright (c) 2000-2022 the FFmpeg developers\n",
      "  built with Apple clang version 11.0.0 (clang-1100.0.33.17)\n",
      "  configuration: --cc=/usr/bin/clang --prefix=/opt/ffmpeg --extra-version=tessus --enable-avisynth --enable-fontconfig --enable-gpl --enable-libaom --enable-libass --enable-libbluray --enable-libdav1d --enable-libfreetype --enable-libgsm --enable-libmodplug --enable-libmp3lame --enable-libmysofa --enable-libopencore-amrnb --enable-libopencore-amrwb --enable-libopenh264 --enable-libopenjpeg --enable-libopus --enable-librubberband --enable-libshine --enable-libsnappy --enable-libsoxr --enable-libspeex --enable-libtheora --enable-libtwolame --enable-libvidstab --enable-libvmaf --enable-libvo-amrwbenc --enable-libvorbis --enable-libvpx --enable-libwebp --enable-libx264 --enable-libx265 --enable-libxavs --enable-libxvid --enable-libzimg --enable-libzmq --enable-libzvbi --enable-version3 --pkg-config-flags=--static --disable-ffplay\n",
      "  libavutil      57. 17.100 / 57. 17.100\n",
      "  libavcodec     59. 18.100 / 59. 18.100\n",
      "  libavformat    59. 16.100 / 59. 16.100\n",
      "  libavdevice    59.  4.100 / 59.  4.100\n",
      "  libavfilter     8. 24.100 /  8. 24.100\n",
      "  libswscale      6.  4.100 /  6.  4.100\n",
      "  libswresample   4.  3.100 /  4.  3.100\n",
      "  libpostproc    56.  3.100 / 56.  3.100\n",
      "Input #0, image2, from '/Users/jegpeek/Dropbox/dust-holograms/Corona_Australis_z_500/frames/Corona_Australis_z_500_%05d.png':\n",
      "  Duration: 00:00:00.40, start: 0.000000, bitrate: N/A\n",
      "  Stream #0:0: Video: png, gray16be(pc), 600x400, 25 fps, 25 tbr, 25 tbn\n",
      "Stream mapping:\n",
      "  Stream #0:0 -> #0:0 (png (native) -> h264 (libx264))\n",
      "Press [q] to stop, [?] for help\n",
      "[libx264 @ 0x7faa8ea051c0] using cpu capabilities: MMX2 SSE2Fast SSSE3 SSE4.2 AVX FMA3 BMI2 AVX2\n",
      "[libx264 @ 0x7faa8ea051c0] profile High, level 3.0, 4:2:0, 8-bit\n",
      "[libx264 @ 0x7faa8ea051c0] 264 - core 164 r3081 19856cc - H.264/MPEG-4 AVC codec - Copyleft 2003-2021 - http://www.videolan.org/x264.html - options: cabac=1 ref=3 deblock=1:0:0 analyse=0x3:0x113 me=hex subme=7 psy=1 psy_rd=1.00:0.00 mixed_ref=1 me_range=16 chroma_me=1 trellis=1 8x8dct=1 cqm=0 deadzone=21,11 fast_pskip=1 chroma_qp_offset=-2 threads=12 lookahead_threads=2 sliced_threads=0 nr=0 decimate=1 interlaced=0 bluray_compat=0 constrained_intra=0 bframes=3 b_pyramid=2 b_adapt=1 b_bias=0 direct=1 weightb=1 open_gop=0 weightp=2 keyint=250 keyint_min=25 scenecut=40 intra_refresh=0 rc_lookahead=40 rc=crf mbtree=1 crf=23.0 qcomp=0.60 qpmin=0 qpmax=69 qpstep=4 ip_ratio=1.40 aq=1:1.00\n",
      "Output #0, mp4, to '/Users/jegpeek/Dropbox/dust-holograms/Corona_Australis_z_500/Corona_Australis_z_500.mp4':\n",
      "  Metadata:\n",
      "    encoder         : Lavf59.16.100\n",
      "  Stream #0:0: Video: h264 (avc1 / 0x31637661), yuv420p(tv, progressive), 600x400, q=2-31, 30 fps, 15360 tbn\n",
      "    Metadata:\n",
      "      encoder         : Lavc59.18.100 libx264\n",
      "    Side data:\n",
      "      cpb: bitrate max/min/avg: 0/0/0 buffer size: 0 vbv_delay: N/A\n",
      "frame=    1 fps=0.0 q=0.0 size=       0kB time=00:00:00.00 bitrate=N/A speed=   0x    \r",
      "frame=   10 fps=0.0 q=-1.0 Lsize=      21kB time=00:00:00.23 bitrate= 749.9kbits/s speed=3.37x    \n",
      "video:20kB audio:0kB subtitle:0kB other streams:0kB global headers:0kB muxing overhead: 4.689219%\n",
      "[libx264 @ 0x7faa8ea051c0] frame I:1     Avg QP:22.54  size:  2411\n",
      "[libx264 @ 0x7faa8ea051c0] frame P:3     Avg QP:23.40  size:  2544\n",
      "[libx264 @ 0x7faa8ea051c0] frame B:6     Avg QP:23.52  size:  1694\n",
      "[libx264 @ 0x7faa8ea051c0] consecutive B-frames: 20.0%  0.0%  0.0% 80.0%\n",
      "[libx264 @ 0x7faa8ea051c0] mb I  I16..4: 21.2% 77.7%  1.2%\n",
      "[libx264 @ 0x7faa8ea051c0] mb P  I16..4:  8.9% 27.3%  1.1%  P16..4: 26.5%  5.4%  2.3%  0.0%  0.0%    skip:28.6%\n",
      "[libx264 @ 0x7faa8ea051c0] mb B  I16..4:  0.9%  2.2%  0.1%  B16..8: 42.0%  4.4%  0.4%  direct: 2.3%  skip:47.7%  L0:45.4% L1:52.8% BI: 1.8%\n",
      "[libx264 @ 0x7faa8ea051c0] 8x8 transform intra:74.7% inter:92.0%\n",
      "[libx264 @ 0x7faa8ea051c0] coded y,uvDC,uvAC intra: 32.3% 0.1% 0.0% inter: 13.1% 0.0% 0.0%\n",
      "[libx264 @ 0x7faa8ea051c0] i16 v,h,dc,p: 10% 29%  8% 53%\n",
      "[libx264 @ 0x7faa8ea051c0] i8 v,h,dc,ddl,ddr,vr,hd,vl,hu: 27% 21% 21%  7%  5%  5%  4%  5%  5%\n",
      "[libx264 @ 0x7faa8ea051c0] i4 v,h,dc,ddl,ddr,vr,hd,vl,hu: 14% 19% 15%  9% 14%  8%  8%  7%  6%\n",
      "[libx264 @ 0x7faa8ea051c0] i8c dc,h,v,p: 100%  0%  0%  0%\n",
      "[libx264 @ 0x7faa8ea051c0] Weighted P-Frames: Y:0.0% UV:0.0%\n",
      "[libx264 @ 0x7faa8ea051c0] ref P L0: 70.8%  2.9% 15.6% 10.7%\n",
      "[libx264 @ 0x7faa8ea051c0] ref B L0: 88.2%  9.5%  2.3%\n",
      "[libx264 @ 0x7faa8ea051c0] ref B L1: 97.9%  2.1%\n",
      "[libx264 @ 0x7faa8ea051c0] kb/s:485.02\n",
      "/var/folders/1m/rp2c1skx01d8zdy8z96bkkr80000gn/T/ipykernel_88654/253866891.py:9: DeprecationWarning: `np.float` is a deprecated alias for the builtin `float`. To silence this warning, use `float` by itself. Doing this will not modify any behavior and is safe. If you specifically wanted the numpy scalar type, use `np.float64` here.\n",
      "Deprecated in NumPy 1.20; for more details and guidance: https://numpy.org/devdocs/release/1.20.0-notes.html#deprecations\n",
      "  allprops = build_fprops(fprops, cprops, angs, xs, ys, np.float(c['z']))\n"
     ]
    },
    {
     "name": "stdout",
     "output_type": "stream",
     "text": [
      "Orion_A\n",
      "Loaded specifications for 10 images.\n"
     ]
    },
    {
     "name": "stderr",
     "output_type": "stream",
     "text": [
      "100% (10 of 10) |########################| Elapsed Time: 0:04:03 ETA:  00:00:00"
     ]
    },
    {
     "name": "stdout",
     "output_type": "stream",
     "text": [
      "All workers done.\n",
      "0.397824734759316\n",
      "Loading map ...\n",
      "Ray-casting frames ...\n",
      "frame 0: vmax = 0.01408960710824249\n",
      "frame 1: vmax = 0.01707591638307713\n",
      "frame 2: vmax = 0.019754948509151292\n",
      "frame 3: vmax = 0.01701472376131096\n",
      "frame 4: vmax = 0.016976411127714527\n",
      "frame 5: vmax = 0.01644404120124091\n",
      "frame 6: vmax = 0.01568672417648486\n",
      "frame 7: vmax = 0.014044504805267935\n",
      "frame 8: vmax = 0.012364566252777877\n",
      "frame 9: vmax = 0.01274722431788905\n",
      "Worker finished.\n"
     ]
    },
    {
     "name": "stderr",
     "output_type": "stream",
     "text": [
      "ffmpeg version 5.0-tessus  https://evermeet.cx/ffmpeg/  Copyright (c) 2000-2022 the FFmpeg developers\n",
      "  built with Apple clang version 11.0.0 (clang-1100.0.33.17)\n",
      "  configuration: --cc=/usr/bin/clang --prefix=/opt/ffmpeg --extra-version=tessus --enable-avisynth --enable-fontconfig --enable-gpl --enable-libaom --enable-libass --enable-libbluray --enable-libdav1d --enable-libfreetype --enable-libgsm --enable-libmodplug --enable-libmp3lame --enable-libmysofa --enable-libopencore-amrnb --enable-libopencore-amrwb --enable-libopenh264 --enable-libopenjpeg --enable-libopus --enable-librubberband --enable-libshine --enable-libsnappy --enable-libsoxr --enable-libspeex --enable-libtheora --enable-libtwolame --enable-libvidstab --enable-libvmaf --enable-libvo-amrwbenc --enable-libvorbis --enable-libvpx --enable-libwebp --enable-libx264 --enable-libx265 --enable-libxavs --enable-libxvid --enable-libzimg --enable-libzmq --enable-libzvbi --enable-version3 --pkg-config-flags=--static --disable-ffplay\n",
      "  libavutil      57. 17.100 / 57. 17.100\n",
      "  libavcodec     59. 18.100 / 59. 18.100\n",
      "  libavformat    59. 16.100 / 59. 16.100\n",
      "  libavdevice    59.  4.100 / 59.  4.100\n",
      "  libavfilter     8. 24.100 /  8. 24.100\n",
      "  libswscale      6.  4.100 /  6.  4.100\n",
      "  libswresample   4.  3.100 /  4.  3.100\n",
      "  libpostproc    56.  3.100 / 56.  3.100\n",
      "Input #0, image2, from '/Users/jegpeek/Dropbox/dust-holograms/Orion_A_z_500/frames/Orion_A_z_500_%05d.png':\n",
      "  Duration: 00:00:00.40, start: 0.000000, bitrate: N/A\n",
      "  Stream #0:0: Video: png, gray16be(pc), 600x400, 25 fps, 25 tbr, 25 tbn\n",
      "Stream mapping:\n",
      "  Stream #0:0 -> #0:0 (png (native) -> h264 (libx264))\n",
      "Press [q] to stop, [?] for help\n",
      "[libx264 @ 0x7fb6e5205100] using cpu capabilities: MMX2 SSE2Fast SSSE3 SSE4.2 AVX FMA3 BMI2 AVX2\n",
      "[libx264 @ 0x7fb6e5205100] profile High, level 3.0, 4:2:0, 8-bit\n",
      "[libx264 @ 0x7fb6e5205100] 264 - core 164 r3081 19856cc - H.264/MPEG-4 AVC codec - Copyleft 2003-2021 - http://www.videolan.org/x264.html - options: cabac=1 ref=3 deblock=1:0:0 analyse=0x3:0x113 me=hex subme=7 psy=1 psy_rd=1.00:0.00 mixed_ref=1 me_range=16 chroma_me=1 trellis=1 8x8dct=1 cqm=0 deadzone=21,11 fast_pskip=1 chroma_qp_offset=-2 threads=12 lookahead_threads=2 sliced_threads=0 nr=0 decimate=1 interlaced=0 bluray_compat=0 constrained_intra=0 bframes=3 b_pyramid=2 b_adapt=1 b_bias=0 direct=1 weightb=1 open_gop=0 weightp=2 keyint=250 keyint_min=25 scenecut=40 intra_refresh=0 rc_lookahead=40 rc=crf mbtree=1 crf=23.0 qcomp=0.60 qpmin=0 qpmax=69 qpstep=4 ip_ratio=1.40 aq=1:1.00\n",
      "Output #0, mp4, to '/Users/jegpeek/Dropbox/dust-holograms/Orion_A_z_500/Orion_A_z_500.mp4':\n",
      "  Metadata:\n",
      "    encoder         : Lavf59.16.100\n",
      "  Stream #0:0: Video: h264 (avc1 / 0x31637661), yuv420p(tv, progressive), 600x400, q=2-31, 30 fps, 15360 tbn\n",
      "    Metadata:\n",
      "      encoder         : Lavc59.18.100 libx264\n",
      "    Side data:\n",
      "      cpb: bitrate max/min/avg: 0/0/0 buffer size: 0 vbv_delay: N/A\n",
      "frame=    1 fps=0.0 q=0.0 size=       0kB time=00:00:00.00 bitrate=N/A speed=   0x    \r",
      "frame=   10 fps=0.0 q=-1.0 Lsize=      30kB time=00:00:00.23 bitrate=1056.5kbits/s speed= 3.1x    \n",
      "video:29kB audio:0kB subtitle:0kB other streams:0kB global headers:0kB muxing overhead: 3.283962%\n",
      "[libx264 @ 0x7fb6e5205100] frame I:1     Avg QP:23.67  size:  3189\n",
      "[libx264 @ 0x7fb6e5205100] frame P:3     Avg QP:24.33  size:  3692\n",
      "[libx264 @ 0x7fb6e5205100] frame B:6     Avg QP:23.97  size:  2481\n",
      "[libx264 @ 0x7fb6e5205100] consecutive B-frames: 20.0%  0.0%  0.0% 80.0%\n",
      "[libx264 @ 0x7fb6e5205100] mb I  I16..4: 17.1% 80.0%  2.9%\n",
      "[libx264 @ 0x7fb6e5205100] mb P  I16..4: 13.5% 42.0%  2.5%  P16..4: 26.3%  5.3%  1.0%  0.0%  0.0%    skip: 9.3%\n",
      "[libx264 @ 0x7fb6e5205100] mb B  I16..4:  4.0%  7.4%  0.4%  B16..8: 38.6%  5.8%  0.8%  direct: 3.5%  skip:39.5%  L0:50.8% L1:46.9% BI: 2.3%\n",
      "[libx264 @ 0x7fb6e5205100] 8x8 transform intra:72.6% inter:88.9%\n",
      "[libx264 @ 0x7fb6e5205100] coded y,uvDC,uvAC intra: 31.7% 0.0% 0.0% inter: 19.0% 0.0% 0.0%\n",
      "[libx264 @ 0x7fb6e5205100] i16 v,h,dc,p: 15% 23%  7% 56%\n",
      "[libx264 @ 0x7fb6e5205100] i8 v,h,dc,ddl,ddr,vr,hd,vl,hu: 23% 16% 26%  6%  8%  7%  5%  5%  4%\n",
      "[libx264 @ 0x7fb6e5205100] i4 v,h,dc,ddl,ddr,vr,hd,vl,hu: 15% 16% 18% 11% 13%  8%  7%  6%  7%\n",
      "[libx264 @ 0x7fb6e5205100] i8c dc,h,v,p: 100%  0%  0%  0%\n",
      "[libx264 @ 0x7fb6e5205100] Weighted P-Frames: Y:0.0% UV:0.0%\n",
      "[libx264 @ 0x7fb6e5205100] ref P L0: 70.5%  3.4% 13.0% 13.1%\n",
      "[libx264 @ 0x7fb6e5205100] ref B L0: 86.5% 10.2%  3.2%\n",
      "[libx264 @ 0x7fb6e5205100] ref B L1: 91.4%  8.6%\n",
      "[libx264 @ 0x7fb6e5205100] kb/s:699.65\n",
      "/var/folders/1m/rp2c1skx01d8zdy8z96bkkr80000gn/T/ipykernel_88654/253866891.py:9: DeprecationWarning: `np.float` is a deprecated alias for the builtin `float`. To silence this warning, use `float` by itself. Doing this will not modify any behavior and is safe. If you specifically wanted the numpy scalar type, use `np.float64` here.\n",
      "Deprecated in NumPy 1.20; for more details and guidance: https://numpy.org/devdocs/release/1.20.0-notes.html#deprecations\n",
      "  allprops = build_fprops(fprops, cprops, angs, xs, ys, np.float(c['z']))\n"
     ]
    },
    {
     "name": "stdout",
     "output_type": "stream",
     "text": [
      "Orion_B\n",
      "Loaded specifications for 10 images.\n"
     ]
    },
    {
     "name": "stderr",
     "output_type": "stream",
     "text": [
      "100% (10 of 10) |########################| Elapsed Time: 0:03:58 ETA:  00:00:00"
     ]
    },
    {
     "name": "stdout",
     "output_type": "stream",
     "text": [
      "All workers done.\n",
      "0.397824734759316\n",
      "Loading map ...\n",
      "Ray-casting frames ...\n",
      "frame 0: vmax = 0.015731882399122696\n",
      "frame 1: vmax = 0.016866145476073142\n",
      "frame 2: vmax = 0.018094129614444683\n",
      "frame 3: vmax = 0.0182753456503342\n",
      "frame 4: vmax = 0.021000926742739467\n",
      "frame 5: vmax = 0.020372064207731456\n",
      "frame 6: vmax = 0.017866341562021264\n",
      "frame 7: vmax = 0.016318146553956466\n",
      "frame 8: vmax = 0.01840936719876845\n",
      "frame 9: vmax = 0.019351714386393725\n",
      "Worker finished.\n"
     ]
    },
    {
     "name": "stderr",
     "output_type": "stream",
     "text": [
      "ffmpeg version 5.0-tessus  https://evermeet.cx/ffmpeg/  Copyright (c) 2000-2022 the FFmpeg developers\n",
      "  built with Apple clang version 11.0.0 (clang-1100.0.33.17)\n",
      "  configuration: --cc=/usr/bin/clang --prefix=/opt/ffmpeg --extra-version=tessus --enable-avisynth --enable-fontconfig --enable-gpl --enable-libaom --enable-libass --enable-libbluray --enable-libdav1d --enable-libfreetype --enable-libgsm --enable-libmodplug --enable-libmp3lame --enable-libmysofa --enable-libopencore-amrnb --enable-libopencore-amrwb --enable-libopenh264 --enable-libopenjpeg --enable-libopus --enable-librubberband --enable-libshine --enable-libsnappy --enable-libsoxr --enable-libspeex --enable-libtheora --enable-libtwolame --enable-libvidstab --enable-libvmaf --enable-libvo-amrwbenc --enable-libvorbis --enable-libvpx --enable-libwebp --enable-libx264 --enable-libx265 --enable-libxavs --enable-libxvid --enable-libzimg --enable-libzmq --enable-libzvbi --enable-version3 --pkg-config-flags=--static --disable-ffplay\n",
      "  libavutil      57. 17.100 / 57. 17.100\n",
      "  libavcodec     59. 18.100 / 59. 18.100\n",
      "  libavformat    59. 16.100 / 59. 16.100\n",
      "  libavdevice    59.  4.100 / 59.  4.100\n",
      "  libavfilter     8. 24.100 /  8. 24.100\n",
      "  libswscale      6.  4.100 /  6.  4.100\n",
      "  libswresample   4.  3.100 /  4.  3.100\n",
      "  libpostproc    56.  3.100 / 56.  3.100\n",
      "Input #0, image2, from '/Users/jegpeek/Dropbox/dust-holograms/Orion_B_z_500/frames/Orion_B_z_500_%05d.png':\n",
      "  Duration: 00:00:00.40, start: 0.000000, bitrate: N/A\n",
      "  Stream #0:0: Video: png, gray16be(pc), 600x400, 25 fps, 25 tbr, 25 tbn\n",
      "Stream mapping:\n",
      "  Stream #0:0 -> #0:0 (png (native) -> h264 (libx264))\n",
      "Press [q] to stop, [?] for help\n",
      "[libx264 @ 0x7fe3c3f08400] using cpu capabilities: MMX2 SSE2Fast SSSE3 SSE4.2 AVX FMA3 BMI2 AVX2\n",
      "[libx264 @ 0x7fe3c3f08400] profile High, level 3.0, 4:2:0, 8-bit\n",
      "[libx264 @ 0x7fe3c3f08400] 264 - core 164 r3081 19856cc - H.264/MPEG-4 AVC codec - Copyleft 2003-2021 - http://www.videolan.org/x264.html - options: cabac=1 ref=3 deblock=1:0:0 analyse=0x3:0x113 me=hex subme=7 psy=1 psy_rd=1.00:0.00 mixed_ref=1 me_range=16 chroma_me=1 trellis=1 8x8dct=1 cqm=0 deadzone=21,11 fast_pskip=1 chroma_qp_offset=-2 threads=12 lookahead_threads=2 sliced_threads=0 nr=0 decimate=1 interlaced=0 bluray_compat=0 constrained_intra=0 bframes=3 b_pyramid=2 b_adapt=1 b_bias=0 direct=1 weightb=1 open_gop=0 weightp=2 keyint=250 keyint_min=25 scenecut=40 intra_refresh=0 rc_lookahead=40 rc=crf mbtree=1 crf=23.0 qcomp=0.60 qpmin=0 qpmax=69 qpstep=4 ip_ratio=1.40 aq=1:1.00\n",
      "Output #0, mp4, to '/Users/jegpeek/Dropbox/dust-holograms/Orion_B_z_500/Orion_B_z_500.mp4':\n",
      "  Metadata:\n",
      "    encoder         : Lavf59.16.100\n",
      "  Stream #0:0: Video: h264 (avc1 / 0x31637661), yuv420p(tv, progressive), 600x400, q=2-31, 30 fps, 15360 tbn\n",
      "    Metadata:\n",
      "      encoder         : Lavc59.18.100 libx264\n",
      "    Side data:\n",
      "      cpb: bitrate max/min/avg: 0/0/0 buffer size: 0 vbv_delay: N/A\n",
      "frame=    1 fps=0.0 q=0.0 size=       0kB time=00:00:00.00 bitrate=N/A speed=   0x    \r",
      "frame=   10 fps=0.0 q=-1.0 Lsize=      31kB time=00:00:00.23 bitrate=1097.1kbits/s speed=   3x    \n",
      "video:30kB audio:0kB subtitle:0kB other streams:0kB global headers:0kB muxing overhead: 3.158539%\n",
      "[libx264 @ 0x7fe3c3f08400] frame I:1     Avg QP:24.00  size:  3432\n",
      "[libx264 @ 0x7fe3c3f08400] frame P:3     Avg QP:24.20  size:  3342\n",
      "[libx264 @ 0x7fe3c3f08400] frame B:6     Avg QP:24.44  size:  2813\n",
      "[libx264 @ 0x7fe3c3f08400] consecutive B-frames: 20.0%  0.0%  0.0% 80.0%\n",
      "[libx264 @ 0x7fe3c3f08400] mb I  I16..4: 23.3% 73.8%  2.9%\n",
      "[libx264 @ 0x7fe3c3f08400] mb P  I16..4: 17.5% 41.8%  1.9%  P16..4: 29.5%  3.5%  1.3%  0.0%  0.0%    skip: 4.5%\n",
      "[libx264 @ 0x7fe3c3f08400] mb B  I16..4:  3.8%  8.1%  0.6%  B16..8: 42.3%  6.7%  1.0%  direct: 3.7%  skip:33.8%  L0:48.8% L1:49.0% BI: 2.2%\n",
      "[libx264 @ 0x7fe3c3f08400] 8x8 transform intra:69.1% inter:88.0%\n",
      "[libx264 @ 0x7fe3c3f08400] coded y,uvDC,uvAC intra: 31.9% 0.0% 0.0% inter: 21.2% 0.0% 0.0%\n",
      "[libx264 @ 0x7fe3c3f08400] i16 v,h,dc,p: 14% 17% 10% 60%\n",
      "[libx264 @ 0x7fe3c3f08400] i8 v,h,dc,ddl,ddr,vr,hd,vl,hu: 25% 16% 22%  7%  7%  6%  6%  5%  6%\n",
      "[libx264 @ 0x7fe3c3f08400] i4 v,h,dc,ddl,ddr,vr,hd,vl,hu: 17% 15% 17% 10% 11%  7%  9%  7%  7%\n",
      "[libx264 @ 0x7fe3c3f08400] i8c dc,h,v,p: 100%  0%  0%  0%\n",
      "[libx264 @ 0x7fe3c3f08400] Weighted P-Frames: Y:66.7% UV:0.0%\n",
      "[libx264 @ 0x7fe3c3f08400] ref P L0: 42.9%  3.0% 28.4% 17.4%  8.3%\n",
      "[libx264 @ 0x7fe3c3f08400] ref B L0: 90.2%  7.9%  1.9%\n",
      "[libx264 @ 0x7fe3c3f08400] ref B L1: 94.1%  5.9%\n",
      "[libx264 @ 0x7fe3c3f08400] kb/s:728.09\n",
      "/var/folders/1m/rp2c1skx01d8zdy8z96bkkr80000gn/T/ipykernel_88654/253866891.py:9: DeprecationWarning: `np.float` is a deprecated alias for the builtin `float`. To silence this warning, use `float` by itself. Doing this will not modify any behavior and is safe. If you specifically wanted the numpy scalar type, use `np.float64` here.\n",
      "Deprecated in NumPy 1.20; for more details and guidance: https://numpy.org/devdocs/release/1.20.0-notes.html#deprecations\n",
      "  allprops = build_fprops(fprops, cprops, angs, xs, ys, np.float(c['z']))\n"
     ]
    },
    {
     "name": "stdout",
     "output_type": "stream",
     "text": [
      "Orion_Lambda\n",
      "Loaded specifications for 10 images.\n"
     ]
    },
    {
     "name": "stderr",
     "output_type": "stream",
     "text": [
      "100% (10 of 10) |########################| Elapsed Time: 0:03:50 ETA:  00:00:00"
     ]
    },
    {
     "name": "stdout",
     "output_type": "stream",
     "text": [
      "All workers done.\n",
      "0.397824734759316\n",
      "Loading map ...\n",
      "Ray-casting frames ...\n",
      "frame 0: vmax = 0.016287759721497423\n",
      "frame 1: vmax = 0.017698155881556887\n",
      "frame 2: vmax = 0.017798184020512055\n",
      "frame 3: vmax = 0.017092601742666375\n",
      "frame 4: vmax = 0.019296181701576643\n",
      "frame 5: vmax = 0.02037532189288686\n",
      "frame 6: vmax = 0.019985673119175772\n",
      "frame 7: vmax = 0.01802416908039959\n",
      "frame 8: vmax = 0.017758845950174875\n",
      "frame 9: vmax = 0.017338056614869857\n",
      "Worker finished.\n"
     ]
    },
    {
     "name": "stderr",
     "output_type": "stream",
     "text": [
      "ffmpeg version 5.0-tessus  https://evermeet.cx/ffmpeg/  Copyright (c) 2000-2022 the FFmpeg developers\n",
      "  built with Apple clang version 11.0.0 (clang-1100.0.33.17)\n",
      "  configuration: --cc=/usr/bin/clang --prefix=/opt/ffmpeg --extra-version=tessus --enable-avisynth --enable-fontconfig --enable-gpl --enable-libaom --enable-libass --enable-libbluray --enable-libdav1d --enable-libfreetype --enable-libgsm --enable-libmodplug --enable-libmp3lame --enable-libmysofa --enable-libopencore-amrnb --enable-libopencore-amrwb --enable-libopenh264 --enable-libopenjpeg --enable-libopus --enable-librubberband --enable-libshine --enable-libsnappy --enable-libsoxr --enable-libspeex --enable-libtheora --enable-libtwolame --enable-libvidstab --enable-libvmaf --enable-libvo-amrwbenc --enable-libvorbis --enable-libvpx --enable-libwebp --enable-libx264 --enable-libx265 --enable-libxavs --enable-libxvid --enable-libzimg --enable-libzmq --enable-libzvbi --enable-version3 --pkg-config-flags=--static --disable-ffplay\n",
      "  libavutil      57. 17.100 / 57. 17.100\n",
      "  libavcodec     59. 18.100 / 59. 18.100\n",
      "  libavformat    59. 16.100 / 59. 16.100\n",
      "  libavdevice    59.  4.100 / 59.  4.100\n",
      "  libavfilter     8. 24.100 /  8. 24.100\n",
      "  libswscale      6.  4.100 /  6.  4.100\n",
      "  libswresample   4.  3.100 /  4.  3.100\n",
      "  libpostproc    56.  3.100 / 56.  3.100\n",
      "Input #0, image2, from '/Users/jegpeek/Dropbox/dust-holograms/Orion_Lambda_z_500/frames/Orion_Lambda_z_500_%05d.png':\n",
      "  Duration: 00:00:00.40, start: 0.000000, bitrate: N/A\n",
      "  Stream #0:0: Video: png, gray16be(pc), 600x400, 25 fps, 25 tbr, 25 tbn\n",
      "Stream mapping:\n",
      "  Stream #0:0 -> #0:0 (png (native) -> h264 (libx264))\n",
      "Press [q] to stop, [?] for help\n",
      "[libx264 @ 0x7fc468f050c0] using cpu capabilities: MMX2 SSE2Fast SSSE3 SSE4.2 AVX FMA3 BMI2 AVX2\n",
      "[libx264 @ 0x7fc468f050c0] profile High, level 3.0, 4:2:0, 8-bit\n",
      "[libx264 @ 0x7fc468f050c0] 264 - core 164 r3081 19856cc - H.264/MPEG-4 AVC codec - Copyleft 2003-2021 - http://www.videolan.org/x264.html - options: cabac=1 ref=3 deblock=1:0:0 analyse=0x3:0x113 me=hex subme=7 psy=1 psy_rd=1.00:0.00 mixed_ref=1 me_range=16 chroma_me=1 trellis=1 8x8dct=1 cqm=0 deadzone=21,11 fast_pskip=1 chroma_qp_offset=-2 threads=12 lookahead_threads=2 sliced_threads=0 nr=0 decimate=1 interlaced=0 bluray_compat=0 constrained_intra=0 bframes=3 b_pyramid=2 b_adapt=1 b_bias=0 direct=1 weightb=1 open_gop=0 weightp=2 keyint=250 keyint_min=25 scenecut=40 intra_refresh=0 rc_lookahead=40 rc=crf mbtree=1 crf=23.0 qcomp=0.60 qpmin=0 qpmax=69 qpstep=4 ip_ratio=1.40 aq=1:1.00\n",
      "Output #0, mp4, to '/Users/jegpeek/Dropbox/dust-holograms/Orion_Lambda_z_500/Orion_Lambda_z_500.mp4':\n",
      "  Metadata:\n",
      "    encoder         : Lavf59.16.100\n",
      "  Stream #0:0: Video: h264 (avc1 / 0x31637661), yuv420p(tv, progressive), 600x400, q=2-31, 30 fps, 15360 tbn\n",
      "    Metadata:\n",
      "      encoder         : Lavc59.18.100 libx264\n",
      "    Side data:\n",
      "      cpb: bitrate max/min/avg: 0/0/0 buffer size: 0 vbv_delay: N/A\n",
      "frame=    1 fps=0.0 q=0.0 size=       0kB time=00:00:00.00 bitrate=N/A speed=   0x    \r",
      "frame=   10 fps=0.0 q=-1.0 Lsize=      35kB time=00:00:00.23 bitrate=1240.0kbits/s speed=3.12x    \n",
      "video:34kB audio:0kB subtitle:0kB other streams:0kB global headers:0kB muxing overhead: 2.784407%\n",
      "[libx264 @ 0x7fc468f050c0] frame I:1     Avg QP:24.33  size:  4128\n",
      "[libx264 @ 0x7fc468f050c0] frame P:3     Avg QP:24.66  size:  3852\n",
      "[libx264 @ 0x7fc468f050c0] frame B:6     Avg QP:24.62  size:  3137\n",
      "[libx264 @ 0x7fc468f050c0] consecutive B-frames: 20.0%  0.0%  0.0% 80.0%\n",
      "[libx264 @ 0x7fc468f050c0] mb I  I16..4: 28.6% 67.6%  3.8%\n",
      "[libx264 @ 0x7fc468f050c0] mb P  I16..4: 13.3% 33.5%  2.6%  P16..4: 30.1%  8.0%  1.9%  0.0%  0.0%    skip:10.7%\n",
      "[libx264 @ 0x7fc468f050c0] mb B  I16..4:  2.9%  6.5%  1.0%  B16..8: 48.7%  7.6%  1.0%  direct: 3.8%  skip:28.6%  L0:50.5% L1:47.1% BI: 2.4%\n",
      "[libx264 @ 0x7fc468f050c0] 8x8 transform intra:66.8% inter:86.3%\n",
      "[libx264 @ 0x7fc468f050c0] coded y,uvDC,uvAC intra: 36.9% 0.0% 0.0% inter: 23.4% 0.0% 0.0%\n",
      "[libx264 @ 0x7fc468f050c0] i16 v,h,dc,p: 13% 16% 10% 61%\n",
      "[libx264 @ 0x7fc468f050c0] i8 v,h,dc,ddl,ddr,vr,hd,vl,hu: 17% 17% 21%  9%  9%  7%  8%  6%  7%\n",
      "[libx264 @ 0x7fc468f050c0] i4 v,h,dc,ddl,ddr,vr,hd,vl,hu: 13% 16% 16% 11% 12%  9% 10%  7%  6%\n",
      "[libx264 @ 0x7fc468f050c0] i8c dc,h,v,p: 100%  0%  0%  0%\n",
      "[libx264 @ 0x7fc468f050c0] Weighted P-Frames: Y:0.0% UV:0.0%\n",
      "[libx264 @ 0x7fc468f050c0] ref P L0: 71.9%  5.4% 14.5%  8.2%\n",
      "[libx264 @ 0x7fc468f050c0] ref B L0: 87.6% 10.1%  2.2%\n",
      "[libx264 @ 0x7fc468f050c0] ref B L1: 94.8%  5.2%\n",
      "[libx264 @ 0x7fc468f050c0] kb/s:828.14\n"
     ]
    },
    {
     "data": {
      "image/png": "[encoded data removed]",
      "text/plain": [
       "<Figure size 360x360 with 1 Axes>"
      ]
     },
     "metadata": {
      "needs_background": "light"
     },
     "output_type": "display_data"
    },
    {
     "data": {
      "image/png": "[encoded data removed]",
      "text/plain": [
       "<Figure size 360x360 with 1 Axes>"
      ]
     },
     "metadata": {
      "needs_background": "light"
     },
     "output_type": "display_data"
    },
    {
     "data": {
      "image/png": "[encoded data removed]",
      "text/plain": [
       "<Figure size 360x360 with 1 Axes>"
      ]
     },
     "metadata": {
      "needs_background": "light"
     },
     "output_type": "display_data"
    },
    {
     "data": {
      "image/png": "[encoded data removed]",
      "text/plain": [
       "<Figure size 360x360 with 1 Axes>"
      ]
     },
     "metadata": {
      "needs_background": "light"
     },
     "output_type": "display_data"
    },
    {
     "data": {
      "image/png": "[encoded data removed]",
      "text/plain": [
       "<Figure size 360x360 with 1 Axes>"
      ]
     },
     "metadata": {
      "needs_background": "light"
     },
     "output_type": "display_data"
    },
    {
     "data": {
      "image/png": "[encoded data removed]",
      "text/plain": [
       "<Figure size 360x360 with 1 Axes>"
      ]
     },
     "metadata": {
      "needs_background": "light"
     },
     "output_type": "display_data"
    },
    {
     "data": {
      "image/png": "[encoded data removed]",
      "text/plain": [
       "<Figure size 360x360 with 1 Axes>"
      ]
     },
     "metadata": {
      "needs_background": "light"
     },
     "output_type": "display_data"
    },
    {
     "data": {
      "image/png": "[encoded data removed]",
      "text/plain": [
       "<Figure size 360x360 with 1 Axes>"
      ]
     },
     "metadata": {
      "needs_background": "light"
     },
     "output_type": "display_data"
    },
    {
     "data": {
      "image/png": "[encoded data removed]",
      "text/plain": [
       "<Figure size 360x360 with 1 Axes>"
      ]
     },
     "metadata": {
      "needs_background": "light"
     },
     "output_type": "display_data"
    },
    {
     "data": {
      "image/png": "[encoded data removed]",
      "text/plain": [
       "<Figure size 360x360 with 1 Axes>"
      ]
     },
     "metadata": {
      "needs_background": "light"
     },
     "output_type": "display_data"
    },
    {
     "data": {
      "image/png": "[encoded data removed]",
      "text/plain": [
       "<Figure size 360x360 with 1 Axes>"
      ]
     },
     "metadata": {
      "needs_background": "light"
     },
     "output_type": "display_data"
    },
    {
     "data": {
      "image/png": "[encoded data removed]",
      "text/plain": [
       "<Figure size 360x360 with 1 Axes>"
      ]
     },
     "metadata": {
      "needs_background": "light"
     },
     "output_type": "display_data"
    }
   ],
   "source": [
    "for c in clouds:\n",
    "    print(c['cloud'])\n",
    "    run_name = c['cloud'] + '_z_500'\n",
    "    define_paths(run_name)\n",
    "    xs, ys, angs = sweep(c['x'], c['y'], angle_sweep, nframes)\n",
    "    plot_ang(c['x'], c['y'], xs, ys, run_name)\n",
    "    # we make an empty list of frames to which we can append frames\n",
    "    fprops = []\n",
    "    allprops = build_fprops(fprops, cprops, angs, xs, ys, np.float(c['z']))\n",
    "    with open('{}/{}/{}.json'.format(os.environ['DROPBOX_ROOT'],run_name,run_name), 'w') as outfile:\n",
    "        json.dump(allprops, outfile,indent=2)\n",
    "    os.system(\"python3 project_frames.py {}/{}/{}.json {}/leike2020_bayestar19_splice.npy {}/{}/frames/{}_{{:05d}}.png\"\n",
    "          .format(os.environ['DROPBOX_ROOT'],run_name,run_name,os.environ['DROPBOX_ROOT'],os.environ['DROPBOX_ROOT'],run_name, run_name))\n",
    "    \n",
    "    os.system(\"{}/ffmpeg -r 30 -start_number 0 -i {}/{}/frames/{}_%05d.png -c:v libx264 -s 600x400 -r 30 -pix_fmt yuv420p {}/{}/{}.mp4\"\n",
    "          .format(os.environ['FFMPEG_ROOT'],os.environ['DROPBOX_ROOT'],run_name,run_name,os.environ['DROPBOX_ROOT'],run_name, run_name))\n"
   ]
  }
 ],
 "metadata": {
  "kernelspec": {
   "display_name": "Python 3 (ipykernel)",
   "language": "python",
   "name": "python3"
  },
  "language_info": {
   "codemirror_mode": {
    "name": "ipython",
    "version": 3
   },
   "file_extension": ".py",
   "mimetype": "text/x-python",
   "name": "python",
   "nbconvert_exporter": "python",
   "pygments_lexer": "ipython3",
   "version": "3.8.3"
  }
 },
 "nbformat": 4,
 "nbformat_minor": 4
}
