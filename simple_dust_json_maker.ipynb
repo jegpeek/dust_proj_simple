{
 "cells": [
  {
   "cell_type": "markdown",
   "metadata": {},
   "source": [
    "A notebook for making a 100-frame movie from 3D dust for Linnea as a test\n",
    "\n",
    "Two environment variables need to be set in bash: DROPBOX_ROOT, and FFMPEG_ROOT. The DROPBOX_ROOT folder is the path to the top level directory of the dust-holgrams folder shared by Josh. E.g. in bash,\n",
    "\n",
    "export DROPBOX_ROOT='/Users/catherinezucker/Dropbox/dust-holograms/'\n",
    "\n",
    "You can also set the path to the FFMPEG executable:\n",
    "\n",
    "export FFMPEG_PATH='/usr/local/bin'\n",
    "\n",
    "Ideally, you would set these in your bash_profile profile  (now called zprofile in the latest OS operating systems). Alternatively, if you want to set one of these variables locally in this notebook, you can use:\n",
    "\n",
    "```\n",
    "import os\n",
    "os.environ['DROPBOX_ROOT'] = '/Users/catherinezucker/Dropbox/dust-holograms'\n",
    "os.environ['FFMPEG_ROOT'] = '/Usr/local/bin'\n",
    "\n",
    "```"
   ]
  },
  {
   "cell_type": "markdown",
   "metadata": {},
   "source": [
    "First thing we need to do is figure out how to write some json"
   ]
  },
  {
   "cell_type": "code",
   "execution_count": 1,
   "metadata": {},
   "outputs": [],
   "source": [
    "import json\n",
    "import numpy as np\n",
    "import os\n",
    "%matplotlib inline\n",
    "#%matplotlib notebook\n",
    "from matplotlib import pyplot as plt\n",
    "from astropy import table"
   ]
  },
  {
   "cell_type": "markdown",
   "metadata": {},
   "source": [
    "Josh is having some trouble with ```.zprofile``` so:"
   ]
  },
  {
   "cell_type": "code",
   "execution_count": 2,
   "metadata": {},
   "outputs": [],
   "source": [
    "if (os.environ.keys() != 'DROPBOX_HOME'):\n",
    "    os.environ['DROPBOX_ROOT'] = '/Users/jegpeek/Dropbox/dust-holograms'\n",
    "    os.environ['FFMPEG_ROOT'] = '/Users/jegpeek/'"
   ]
  },
  {
   "cell_type": "markdown",
   "metadata": {},
   "source": [
    "Using a variable called ```run_name``` to record everything we need about the run"
   ]
  },
  {
   "cell_type": "code",
   "execution_count": 3,
   "metadata": {},
   "outputs": [],
   "source": [
    "def define_paths(run_name):\n",
    "    if os.path.isdir(\"{}/{}/\".format(os.environ['DROPBOX_ROOT'],run_name)) == False:\n",
    "        os.mkdir(\"{}/{}/\".format(os.environ['DROPBOX_ROOT'],run_name))\n",
    "        os.mkdir(\"{}/{}/frames/\".format(os.environ['DROPBOX_ROOT'],run_name))"
   ]
  },
  {
   "cell_type": "markdown",
   "metadata": {},
   "source": [
    "This is the camera properties, which we will fix."
   ]
  },
  {
   "cell_type": "code",
   "execution_count": 4,
   "metadata": {},
   "outputs": [],
   "source": [
    "arc = False\n",
    "if arc:\n",
    "    ec = \"szyz\"\n",
    "if not arc:\n",
    "    ec = \"rxyz\"\n",
    "\n",
    "t = True\n",
    "cprops ={\n",
    "    \"projection\": \"stereographic\",\n",
    "    \"step_size\": 1,\n",
    "    \"max_dist\": 500.0,\n",
    "    \"fov\": 45.0,\n",
    "    \"x_pix\": 60,\n",
    "    \"y_pix\": 40,\n",
    "    \"vmax\": \"auto\",\n",
    "    \"clip_mode\": \"tanh\",\n",
    "    \"fuzzy\": t,\n",
    "    \"randomize_angles\": t,\n",
    "    \"euler_convention\": ec}"
   ]
  },
  {
   "cell_type": "code",
   "execution_count": 5,
   "metadata": {},
   "outputs": [
    {
     "name": "stdout",
     "output_type": "stream",
     "text": [
      "{'projection': 'stereographic', 'step_size': 1, 'max_dist': 500.0, 'fov': 45.0, 'x_pix': 60, 'y_pix': 40, 'vmax': 'auto', 'clip_mode': 'tanh', 'fuzzy': True, 'randomize_angles': True, 'euler_convention': 'rxyz'}\n"
     ]
    }
   ],
   "source": [
    "print(cprops)"
   ]
  },
  {
   "cell_type": "markdown",
   "metadata": {},
   "source": [
    "_In arc mode_ Linnea asked for 100 frames orbiting around a point with equal distance. We'll assume that the middle of these 100 frames is the Sun, and we'll set some sweep out angle in the Galactic Plane."
   ]
  },
  {
   "cell_type": "code",
   "execution_count": 6,
   "metadata": {},
   "outputs": [],
   "source": [
    "nframes = 10 # 100 frames\n",
    "if arc:\n",
    "    angle_sweep = 45 # half of this CCW and half CW from the sun"
   ]
  },
  {
   "cell_type": "code",
   "execution_count": 7,
   "metadata": {},
   "outputs": [],
   "source": [
    "def sweep(xc, yc, angle_sweep, nframes):\n",
    "    R = np.sqrt(xc**2+ yc**2)\n",
    "    phi =np.arctan2(yc, xc)*180/np.pi\n",
    "    dangs = np.linspace(0, angle_sweep, nframes)\n",
    "    xs = xc - R*np.cos((phi-angle_sweep/2+dangs)*np.pi/180)\n",
    "    ys = yc - R*np.sin((phi-angle_sweep/2+dangs)*np.pi/180)\n",
    "    angs = (dangs-angle_sweep/2+phi)*np.pi/180 ## wait are these in RADIANs??\n",
    "    return xs, ys, angs"
   ]
  },
  {
   "cell_type": "code",
   "execution_count": 8,
   "metadata": {},
   "outputs": [],
   "source": [
    "def plot_ang(x0, y0, xs, ys, run_name):\n",
    "    plt.figure(figsize=[5, 5])\n",
    "    plt.scatter(x0, y0)\n",
    "    plt.scatter(0, 0, c='red')\n",
    "    plt.plot(xs, ys)\n",
    "    plt.xlim([-500, 500])\n",
    "    plt.ylim([-500, 500])\n",
    "    plt.title(run_name)\n",
    "    plt.savefig('{}/{}/arc_{}'.format(os.environ['DROPBOX_ROOT'],run_name,run_name))"
   ]
  },
  {
   "cell_type": "markdown",
   "metadata": {},
   "source": [
    "In track mode we'll move from one point to another while pointing at the cloud and keeping to top of the camera perpindicular to the plane that contains the track and cloud"
   ]
  },
  {
   "cell_type": "markdown",
   "metadata": {},
   "source": [
    "Given the current position of the viewer, the unit direction toward the start of the track, and the cloud position, compute the angles of rotation"
   ]
  },
  {
   "cell_type": "code",
   "execution_count": 9,
   "metadata": {},
   "outputs": [],
   "source": [
    "def determine_angles(v_pos, c_pos, t_hat):\n",
    "    x_hat = np.array([1, 0, 0])\n",
    "    y_hat = np.array([0, 1, 0])\n",
    "    z_hat = np.array([0, 0, 1])\n",
    "    # the vector to the cloud\n",
    "    c_vec = c_pos-v_pos \n",
    "    # the unit vector toward the cloud\n",
    "    c_hat = c_vec/np.sqrt(np.sum(c_vec**2))\n",
    "    \n",
    "    #FIRST\n",
    "    # the unit vector perp to the plane containing the track and the cloud\n",
    "    n_OCT = np.cross(t_hat, c_hat) #CHECK ORDER (checked)\n",
    "    n_hat_OCT = n_OCT/np.sqrt(np.sum(n_OCT**2))\n",
    "    \n",
    "    # find the new orientation of the top of the camera\n",
    "    v_y_prime = np.cross(n_hat_OCT,  x_hat) #CHECK ORDER (checked)\n",
    "    v_hat_y_prime = v_y_prime/np.sqrt(np.sum(v_y_prime**2))\n",
    "    # and find the angle to rotate first\n",
    "    theta = np.arccos(np.dot(v_hat_y_prime,y_hat))\n",
    "    #print(theta)\n",
    "    \n",
    "    #SECOND\n",
    "    # the unit vector perp to the plane that contains the rotation \n",
    "    n_phi = np.cross( x_hat,v_hat_y_prime) #CHECK ORDER (checked)\n",
    "    n_hat_phi = n_phi/np.sqrt(np.sum(n_phi**2))\n",
    "    # the vector being rotated to\n",
    "    v_x_prime_prime = np.cross(n_hat_OCT, n_hat_phi) #CHECK ORDER (checked)\n",
    "    v_hat_x_prime_prime = v_x_prime_prime/np.sqrt(np.sum(v_x_prime_prime**2))\n",
    "    # and the angle rotated\n",
    "    phi = np.arccos(np.dot(v_hat_x_prime_prime, x_hat))\n",
    "    \n",
    "    #FINALLY\n",
    "    zeta = np.arccos(np.dot(v_hat_x_prime_prime, c_hat))\n",
    "    \n",
    "    return theta, phi, zeta\n",
    "    "
   ]
  },
  {
   "cell_type": "markdown",
   "metadata": {},
   "source": [
    "given some inputs build a track"
   ]
  },
  {
   "cell_type": "code",
   "execution_count": 10,
   "metadata": {},
   "outputs": [],
   "source": [
    "def track(xt1, yt1, zt1, xt2, yt2, zt2, nframes):\n",
    "    xts = np.linspace(xt1, xt2, nframes)\n",
    "    yts = np.linspace(yt1, yt2, nframes)\n",
    "    zts = np.linspace(zt1, zt2, nframes)\n",
    "    t_vec = np.array([xt2-xt1, yt2-yt1, zt2-zt1])\n",
    "    t_hat = t_vec/np.sqrt(np.sum(t_vec**2))\n",
    "    return xts, yts, zts, t_hat"
   ]
  },
  {
   "cell_type": "code",
   "execution_count": 11,
   "metadata": {},
   "outputs": [],
   "source": [
    "def build_fprops(fprops, cprops, angs, xs, ys, zc):\n",
    "    for i in range(nframes):\n",
    "        fprops.append({\n",
    "          \"xyz\": [xs[i], ys[i], zc],\n",
    "          \"angles\": [angs[i], 0.0, 0.0]\n",
    "        })\n",
    "    allprops = {\"camera_props\": cprops,\"frame_props\":fprops }\n",
    "    return allprops"
   ]
  },
  {
   "cell_type": "code",
   "execution_count": 12,
   "metadata": {},
   "outputs": [],
   "source": [
    "def build_fprops_track(fprops, cprops, theatas, phis, zetas, xs, ys, zs):\n",
    "    for i in range(nframes):\n",
    "        fprops.append({\n",
    "          \"xyz\": [xs[i], ys[i], zs[i]],\n",
    "          \"angles\": [thetas[i], phis[i], zetas[i]]\n",
    "        })\n",
    "    allprops = {\"camera_props\": cprops,\"frame_props\":fprops }\n",
    "    return allprops"
   ]
  },
  {
   "cell_type": "markdown",
   "metadata": {},
   "source": [
    "Let's read in a list of molecular clouds and make movies for each one:"
   ]
  },
  {
   "cell_type": "code",
   "execution_count": 13,
   "metadata": {},
   "outputs": [],
   "source": [
    "#clouds = table.Table.read('{}/Holo_Cloud_Targets.csv'.format(os.environ['DROPBOX_ROOT']))\n",
    "clouds = table.Table.read('{}/Holo_TEST_Targets.csv'.format(os.environ['DROPBOX_ROOT']))"
   ]
  },
  {
   "cell_type": "code",
   "execution_count": 14,
   "metadata": {},
   "outputs": [
    {
     "name": "stdout",
     "output_type": "stream",
     "text": [
      "TEST_C1\n",
      "3.1213850519613806 1.5707963267948963 2.0505306052672836\n",
      "3.1213850519613806 1.5707963267948963 1.958011092656824\n",
      "3.1213850519613806 1.5707963267948963 1.8574941048560265\n",
      "3.1213850519613806 1.5707963267948963 1.750168869079473\n",
      "3.1213850519613806 1.5707963267948963 1.6379982436920946\n",
      "3.1213850519613806 1.5707963267948963 1.5235935553675442\n",
      "3.1213850519613806 1.5707963267948963 1.4098938172709925\n",
      "3.1213850519613806 1.5707963267948963 1.2997326474879558\n",
      "3.1213850519613806 1.5707963267948963 1.195442241318375\n",
      "3.1213850519613806 1.5707963267948963 1.0986212926686372\n",
      "TEST_C2\n",
      "0.00020837674255319512 1.5707963267948966 0.48413623746433254\n",
      "0.00020837674255319512 1.5707963267948966 0.3910245454035025\n",
      "0.00020837674255319512 1.5707963267948966 0.28971618130062726\n",
      "0.00020837674255319512 1.5707963267948966 0.18141119621068671\n",
      "0.00020837674255319512 1.5707963267948966 0.06811621150441105\n",
      "0.00020837674255319512 1.5707963267948966 0.04748246829161268\n",
      "0.00020837674255319512 1.5707963267948966 0.1623540240814273\n",
      "0.00020837674255319512 1.5707963267948966 0.27357851617063933\n",
      "0.00020837674255319512 1.5707963267948966 0.37876256539410647\n",
      "0.00020837674255319512 1.5707963267948966 0.47627986940863676\n"
     ]
    }
   ],
   "source": [
    "makeimages = False\n",
    "makemovies = False\n",
    "for c in clouds[0:4]:\n",
    "    print(c['cloud'])\n",
    "    run_name = c['cloud'] + '_TEST_angs'\n",
    "    define_paths(run_name)\n",
    "    if arc:\n",
    "        xs, ys, angs = sweep(c['x'], c['y'], angle_sweep, nframes)\n",
    "        print(xs, ys, angs)\n",
    "        plot_ang(c['x'], c['y'], xs, ys, run_name)\n",
    "        # we make an empty list of frames to which we can append frames\n",
    "        fprops = []\n",
    "        allprops = build_fprops(fprops, cprops, angs, xs, ys, np.float(c['z']))\n",
    "    if not arc:\n",
    "        #hardcoding a track\n",
    "        xts, yts, zts, t_hat = track(c['xt1'], c['yt1'], c['zt1'], c['xt2'], c['yt2'], c['zt2'], nframes)\n",
    "        fprops = []\n",
    "        thetas = np.zeros(nframes)\n",
    "        phis = np.zeros(nframes)\n",
    "        zetas = np.zeros(nframes)\n",
    "        for j in np.arange(nframes):\n",
    "            v_pos = np.array([xts[j], yts[j], zts[j]])\n",
    "            c_pos = np.array([c['x'], c['y'], c['z']])\n",
    "            thetas[j], phis[j], zetas[j] = determine_angles(v_pos, c_pos, t_hat)\n",
    "            print(thetas[j], phis[j], zetas[j])\n",
    "        allprops = build_fprops_track(fprops, cprops, thetas, phis, zetas, xts, yts, zts)\n",
    "\n",
    "    with open('{}/{}/{}.json'.format(os.environ['DROPBOX_ROOT'],run_name,run_name), 'w') as outfile:\n",
    "        json.dump(allprops, outfile,indent=2)\n",
    "    if makeimages:\n",
    "        os.system(\"python3 project_frames.py {}/{}/{}.json {}/leike2020_bayestar19_splice.npy {}/{}/frames/{}_{{:05d}}.png\"\n",
    "          .format(os.environ['DROPBOX_ROOT'],run_name,run_name,os.environ['DROPBOX_ROOT'],os.environ['DROPBOX_ROOT'],run_name, run_name))\n",
    "    if makemovies:\n",
    "        os.system(\"{}/ffmpeg -r 30 -start_number 0 -i {}/{}/frames/{}_%05d.png -c:v libx264 -s 600x400 -r 30 -pix_fmt yuv420p {}/{}/{}.mp4\"\n",
    "          .format(os.environ['FFMPEG_ROOT'],os.environ['DROPBOX_ROOT'],run_name,run_name,os.environ['DROPBOX_ROOT'],run_name, run_name))\n"
   ]
  },
  {
   "cell_type": "code",
   "execution_count": null,
   "metadata": {},
   "outputs": [],
   "source": []
  }
 ],
 "metadata": {
  "kernelspec": {
   "display_name": "Python 3 (ipykernel)",
   "language": "python",
   "name": "python3"
  },
  "language_info": {
   "codemirror_mode": {
    "name": "ipython",
    "version": 3
   },
   "file_extension": ".py",
   "mimetype": "text/x-python",
   "name": "python",
   "nbconvert_exporter": "python",
   "pygments_lexer": "ipython3",
   "version": "3.8.3"
  }
 },
 "nbformat": 4,
 "nbformat_minor": 4
}
