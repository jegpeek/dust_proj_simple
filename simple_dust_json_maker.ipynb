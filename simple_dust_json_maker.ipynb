{
 "cells": [
  {
   "cell_type": "markdown",
   "metadata": {},
   "source": [
    "A notebook for making a 100-frame movie from 3D dust for Linnea as a test\n",
    "\n",
    "Two environment variables need to be set in bash: DROPBOX_ROOT, and FFMPEG_ROOT. The DROPBOX_ROOT folder is the path to the top level directory of the dust-holgrams folder shared by Josh. E.g. in bash,\n",
    "\n",
    "export DROPBOX_ROOT='/Users/catherinezucker/Dropbox/dust-holograms/'\n",
    "\n",
    "You can also set the path to the FFMPEG executable:\n",
    "\n",
    "export FFMPEG_PATH='/usr/local/bin'\n",
    "\n",
    "Ideally, you would set these in your bash_profile profile  (now called zprofile in the latest OS operating systems). Alternatively, if you want to set one of these variables locally in this notebook, you can use:\n",
    "\n",
    "```\n",
    "import os\n",
    "os.environ['DROPBOX_ROOT'] = '/Users/catherinezucker/Dropbox/dust-holograms'\n",
    "os.environ['FFMPEG_ROOT'] = '/Usr/local/bin'\n",
    "\n",
    "```"
   ]
  },
  {
   "cell_type": "markdown",
   "metadata": {},
   "source": [
    "First thing we need to do is figure out how to write some json"
   ]
  },
  {
   "cell_type": "code",
   "execution_count": 1,
   "metadata": {},
   "outputs": [],
   "source": [
    "import json\n",
    "import numpy as np\n",
    "import os\n",
    "%matplotlib inline\n",
    "#%matplotlib notebook\n",
    "from matplotlib import pyplot as plt"
   ]
  },
  {
   "cell_type": "markdown",
   "metadata": {},
   "source": [
    "This is the camera properties, which we will fix."
   ]
  },
  {
   "cell_type": "code",
   "execution_count": 2,
   "metadata": {},
   "outputs": [],
   "source": [
    "t = True\n",
    "cprops ={\n",
    "    \"projection\": \"stereographic\",\n",
    "    \"step_size\": 1,\n",
    "    \"max_dist\": 3000.0,\n",
    "    \"fov\": 45.0,\n",
    "    \"x_pix\": 300,\n",
    "    \"y_pix\": 200,\n",
    "    \"vmax\": \"auto\",\n",
    "    \"clip_mode\": \"tanh\",\n",
    "    \"fuzzy\": t,\n",
    "    \"randomize_angles\": t,\n",
    "    \"euler_convention\": \"szyz\"}"
   ]
  },
  {
   "cell_type": "markdown",
   "metadata": {},
   "source": [
    "Then we make an empty list of frames to which we can append frames"
   ]
  },
  {
   "cell_type": "code",
   "execution_count": 3,
   "metadata": {},
   "outputs": [],
   "source": [
    "fprops = []"
   ]
  },
  {
   "cell_type": "markdown",
   "metadata": {},
   "source": [
    "Linnea asked for 100 frames orbiting around a point with equal distance. We'll assume that the middle of these 100 frames is the Sun, and we'll set some sweep out angle in the Galactic Plane."
   ]
  },
  {
   "cell_type": "code",
   "execution_count": 4,
   "metadata": {},
   "outputs": [],
   "source": [
    "nframes = 100 # 100 frames\n",
    "# orion is at l = 210, distance of 400 pc\n",
    "x0 = np.cos(210*np.pi/180)*400\n",
    "y0 = np.sin(210*np.pi/180)*400\n",
    "orbit_point = np.array([x0, y0, 0]) # I think this means 500 pc toward Galactic center from the Sun...?\n",
    "angle_sweep = 45 # half of this CCW and half CW from the sun"
   ]
  },
  {
   "cell_type": "code",
   "execution_count": 5,
   "metadata": {},
   "outputs": [],
   "source": [
    "def sweep(xc, yc, angle_sweep, nframes):\n",
    "    R = np.sqrt(xc**2+ yc**2)\n",
    "    phi =np.arctan2(yc, xc)*180/np.pi\n",
    "    dangs = np.linspace(0, angle_sweep, nframes)\n",
    "    xs = xc - R*np.cos((phi-angle_sweep/2+dangs)*np.pi/180)\n",
    "    ys = yc - R*np.sin((phi-angle_sweep/2+dangs)*np.pi/180)\n",
    "    angs = (dangs-angle_sweep/2+phi)*np.pi/180 ## wait are these in RADIANs??\n",
    "    return xs, ys, angs"
   ]
  },
  {
   "cell_type": "code",
   "execution_count": 6,
   "metadata": {},
   "outputs": [],
   "source": [
    "xs, ys, angs = sweep(x0, y0, angle_sweep, nframes)"
   ]
  },
  {
   "cell_type": "code",
   "execution_count": 7,
   "metadata": {},
   "outputs": [
    {
     "data": {
      "text/plain": [
       "array([-3.01069296, -2.2252948 ])"
      ]
     },
     "execution_count": 7,
     "metadata": {},
     "output_type": "execute_result"
    }
   ],
   "source": [
    "angs"
   ]
  },
  {
   "cell_type": "code",
   "execution_count": 8,
   "metadata": {},
   "outputs": [
    {
     "data": {
      "image/png": "[encoded data removed]",
      "text/plain": [
       "<Figure size 360x360 with 1 Axes>"
      ]
     },
     "metadata": {
      "needs_background": "light"
     },
     "output_type": "display_data"
    }
   ],
   "source": [
    "plt.figure(figsize=[5, 5])\n",
    "plt.scatter(x0, y0)\n",
    "plt.scatter(0, 0, c='red')\n",
    "plt.plot(xs, ys)\n",
    "plt.xlim([-500, 500])\n",
    "plt.ylim([-500, 500])\n",
    "plt.savefig('arc')"
   ]
  },
  {
   "cell_type": "code",
   "execution_count": 9,
   "metadata": {},
   "outputs": [],
   "source": [
    "for i in range(nframes):\n",
    "    fprops.append({\n",
    "      \"xyz\": [xs[i], ys[i], 0.0],\n",
    "      \"angles\": [angs[i], 0.0, 0.0]\n",
    "    })"
   ]
  },
  {
   "cell_type": "code",
   "execution_count": 10,
   "metadata": {},
   "outputs": [],
   "source": [
    "allprops = {\"camera_props\": cprops,\"frame_props\":fprops }"
   ]
  },
  {
   "cell_type": "code",
   "execution_count": 11,
   "metadata": {},
   "outputs": [
    {
     "name": "stdout",
     "output_type": "stream",
     "text": [
      "{\n",
      "  \"camera_props\": {\n",
      "    \"projection\": \"stereographic\",\n",
      "    \"step_size\": 1,\n",
      "    \"max_dist\": 3000.0,\n",
      "    \"fov\": 45.0,\n",
      "    \"x_pix\": 300,\n",
      "    \"y_pix\": 200,\n",
      "    \"vmax\": \"auto\",\n",
      "    \"clip_mode\": \"tanh\",\n",
      "    \"fuzzy\": true,\n",
      "    \"randomize_angles\": true,\n",
      "    \"euler_convention\": \"szyz\"\n",
      "  },\n",
      "  \"frame_props\": [\n",
      "    {\n",
      "      \"xyz\": [\n",
      "        50.167783035748755,\n",
      "        -147.78952311197943,\n",
      "        0.0\n",
      "      ],\n",
      "      \"angles\": [\n",
      "        -3.0106929596902186,\n",
      "        0.0,\n",
      "        0.0\n",
      "      ]\n",
      "    },\n",
      "    {\n",
      "      \"xyz\": [\n",
      "        -102.90558991028715,\n",
      "        117.34133611649406,\n",
      "        0.0\n",
      "      ],\n",
      "      \"angles\": [\n",
      "        -2.2252947962927703,\n",
      "        0.0,\n",
      "        0.0\n",
      "      ]\n",
      "    }\n",
      "  ]\n",
      "}\n"
     ]
    }
   ],
   "source": [
    "print(json.dumps(allprops,indent=2))"
   ]
  },
  {
   "cell_type": "markdown",
   "metadata": {},
   "source": [
    "I am setting a variable called run_name which is the name of the subfolder that will write out the current run."
   ]
  },
  {
   "cell_type": "code",
   "execution_count": 12,
   "metadata": {},
   "outputs": [],
   "source": [
    "run_name = 'orion_run'\n",
    "\n",
    "if os.path.isdir(\"{}/{}/\".format(os.environ['DROPBOX_ROOT'],run_name)) == False:\n",
    "    os.mkdir(\"{}/{}/\".format(os.environ['DROPBOX_ROOT'],run_name))"
   ]
  },
  {
   "cell_type": "code",
   "execution_count": 13,
   "metadata": {},
   "outputs": [],
   "source": [
    "with open('{}/{}/test_100.json'.format(os.environ['DROPBOX_ROOT'],run_name), 'w') as outfile:\n",
    "    json.dump(allprops, outfile,indent=2)"
   ]
  },
  {
   "cell_type": "code",
   "execution_count": 14,
   "metadata": {},
   "outputs": [
    {
     "name": "stdout",
     "output_type": "stream",
     "text": [
      "Loaded specifications for 2 images.\n"
     ]
    },
    {
     "name": "stderr",
     "output_type": "stream",
     "text": [
      "100% (2 of 2) |##########################| Elapsed Time: 0:01:31 ETA:  00:00:00"
     ]
    },
    {
     "name": "stdout",
     "output_type": "stream",
     "text": [
      "All workers done.\n",
      "0.397824734759316\n",
      "Loading map ...\n",
      "Ray-casting frames ...\n",
      "frame 0: vmax = 0.08959424003570712\n",
      "frame 1: vmax = 0.07928592212105287\n",
      "Worker finished.\n"
     ]
    },
    {
     "name": "stderr",
     "output_type": "stream",
     "text": [
      "ffmpeg version 4.4.1 Copyright (c) 2000-2021 the FFmpeg developers\n",
      "  built with Apple clang version 13.0.0 (clang-1300.0.29.3)\n",
      "  configuration: --prefix=/usr/local/Cellar/ffmpeg/4.4.1_5 --enable-shared --enable-pthreads --enable-version3 --cc=clang --host-cflags= --host-ldflags= --enable-ffplay --enable-gnutls --enable-gpl --enable-libaom --enable-libbluray --enable-libdav1d --enable-libmp3lame --enable-libopus --enable-librav1e --enable-librist --enable-librubberband --enable-libsnappy --enable-libsrt --enable-libtesseract --enable-libtheora --enable-libvidstab --enable-libvmaf --enable-libvorbis --enable-libvpx --enable-libwebp --enable-libx264 --enable-libx265 --enable-libxml2 --enable-libxvid --enable-lzma --enable-libfontconfig --enable-libfreetype --enable-frei0r --enable-libass --enable-libopencore-amrnb --enable-libopencore-amrwb --enable-libopenjpeg --enable-libspeex --enable-libsoxr --enable-libzmq --enable-libzimg --disable-libjack --disable-indev=jack --enable-avresample --enable-videotoolbox\n",
      "  libavutil      56. 70.100 / 56. 70.100\n",
      "  libavcodec     58.134.100 / 58.134.100\n",
      "  libavformat    58. 76.100 / 58. 76.100\n",
      "  libavdevice    58. 13.100 / 58. 13.100\n",
      "  libavfilter     7.110.100 /  7.110.100\n",
      "  libavresample   4.  0.  0 /  4.  0.  0\n",
      "  libswscale      5.  9.100 /  5.  9.100\n",
      "  libswresample   3.  9.100 /  3.  9.100\n",
      "  libpostproc    55.  9.100 / 55.  9.100\n",
      "Input #0, image2, from '/Users/catherinezucker/Dropbox/dust-holograms/orion_run/test100_%05d.png':\n",
      "  Duration: 00:00:00.08, start: 0.000000, bitrate: N/A\n",
      "  Stream #0:0: Video: png, gray16be(pc), 300x200, 25 fps, 25 tbr, 25 tbn, 25 tbc\n",
      "Stream mapping:\n",
      "  Stream #0:0 -> #0:0 (png (native) -> h264 (libx264))\n",
      "Press [q] to stop, [?] for help\n",
      "[libx264 @ 0x7f8fad008e00] using cpu capabilities: MMX2 SSE2Fast SSSE3 SSE4.2 AVX FMA3 BMI2 AVX2\n",
      "[libx264 @ 0x7f8fad008e00] profile High, level 3.0, 4:2:0, 8-bit\n",
      "[libx264 @ 0x7f8fad008e00] 264 - core 163 r3060 5db6aa6 - H.264/MPEG-4 AVC codec - Copyleft 2003-2021 - http://www.videolan.org/x264.html - options: cabac=1 ref=3 deblock=1:0:0 analyse=0x3:0x113 me=hex subme=7 psy=1 psy_rd=1.00:0.00 mixed_ref=1 me_range=16 chroma_me=1 trellis=1 8x8dct=1 cqm=0 deadzone=21,11 fast_pskip=1 chroma_qp_offset=-2 threads=12 lookahead_threads=2 sliced_threads=0 nr=0 decimate=1 interlaced=0 bluray_compat=0 constrained_intra=0 bframes=3 b_pyramid=2 b_adapt=1 b_bias=0 dire"
     ]
    },
    {
     "data": {
      "text/plain": [
       "0"
      ]
     },
     "execution_count": 14,
     "metadata": {},
     "output_type": "execute_result"
    },
    {
     "name": "stderr",
     "output_type": "stream",
     "text": [
      "ct=1 weightb=1 open_gop=0 weightp=2 keyint=250 keyint_min=25 scenecut=40 intra_refresh=0 rc_lookahead=40 rc=crf mbtree=1 crf=23.0 qcomp=0.60 qpmin=0 qpmax=69 qpstep=4 ip_ratio=1.40 aq=1:1.00\n",
      "Output #0, mp4, to '/Users/catherinezucker/Dropbox/dust-holograms/orion_run/test100_5.mp4':\n",
      "  Metadata:\n",
      "    encoder         : Lavf58.76.100\n",
      "  Stream #0:0: Video: h264 (avc1 / 0x31637661), yuv420p(tv, progressive), 600x400, q=2-31, 30 fps, 15360 tbn\n",
      "    Metadata:\n",
      "      encoder         : Lavc58.134.100 libx264\n",
      "    Side data:\n",
      "      cpb: bitrate max/min/avg: 0/0/0 buffer size: 0 vbv_delay: N/A\n",
      "frame=    1 fps=0.0 q=0.0 size=       0kB time=00:00:00.00 bitrate=N/A speed=   0x    \r",
      "frame=    2 fps=0.0 q=-1.0 Lsize=       8kB time=00:00:00.03 bitrate=1920.4kbits/s speed= 1.6x    \n",
      "video:7kB audio:0kB subtitle:0kB other streams:0kB global headers:0kB muxing overhead: 11.891137%\n",
      "[libx264 @ 0x7f8fad008e00] frame I:1     Avg QP:23.65  size:  3238\n",
      "[libx264 @ 0x7f8fad008e00] frame P:1     Avg QP:23.40  size:  3237\n",
      "[libx264 @ 0x7f8fad008e00] mb I  I16..4: 41.7% 58.2%  0.1%\n",
      "[libx264 @ 0x7f8fad008e00] mb P  I16..4: 18.3% 50.7%  3.1%  P16..4: 12.7%  1.8%  0.2%  0.0%  0.0%    skip:13.2%\n",
      "[libx264 @ 0x7f8fad008e00] 8x8 transform intra:63.3% inter:92.5%\n",
      "[libx264 @ 0x7f8fad008e00] coded y,uvDC,uvAC intra: 32.2% 0.0% 0.0% inter: 18.2% 0.0% 0.0%\n",
      "[libx264 @ 0x7f8fad008e00] i16 v,h,dc,p: 33% 30% 13% 25%\n",
      "[libx264 @ 0x7f8fad008e00] i8 v,h,dc,ddl,ddr,vr,hd,vl,hu: 21% 30% 25%  3%  4%  2%  7%  2%  6%\n",
      "[libx264 @ 0x7f8fad008e00] i4 v,h,dc,ddl,ddr,vr,hd,vl,hu:  8% 33% 12%  9%  7%  7% 10%  5%  9%\n",
      "[libx264 @ 0x7f8fad008e00] i8c dc,h,v,p: 100%  0%  0%  0%\n",
      "[libx264 @ 0x7f8fad008e00] Weighted P-Frames: Y:0.0% UV:0.0%\n",
      "[libx264 @ 0x7f8fad008e00] kb/s:777.00\n"
     ]
    }
   ],
   "source": [
    "os.system(\"python3 project_frames.py {}/{}/test_100.json {}/leike2020_bayestar19_splice.npy {}/{}/test100_{{:05d}}.png\"\n",
    "          .format(os.environ['DROPBOX_ROOT'],run_name,os.environ['DROPBOX_ROOT'],os.environ['DROPBOX_ROOT'],run_name))\n",
    "          \n",
    "\n",
    "os.system(\"{}/ffmpeg -r 30 -start_number 0 -i {}/{}/test100_%05d.png -c:v libx264 -s 600x400 -r 30 -pix_fmt yuv420p {}/{}/test100_5.mp4\"\n",
    "          .format(os.environ['FFMPEG_ROOT'],os.environ['DROPBOX_ROOT'],run_name,os.environ['DROPBOX_ROOT'],run_name))\n",
    "\n"
   ]
  },
  {
   "cell_type": "code",
   "execution_count": null,
   "metadata": {},
   "outputs": [],
   "source": [
    "#python3 project_frames.py test100.json /Users/jegpeek/leike2020_bayestar19_splice.npy \"test100_{:05d}.png\"\n",
    "#/Users/jegpeek/ffmpeg -r 30 -start_number 0 -i pattern_%05d.png -c:v libx264 -s 600x400 -r 30 -pix_fmt yuv420p test3.mp4\n",
    "\n",
    "#/Users/jegpeek/ffmpeg -r 30 -start_number 0 -i test100_%05d.png -c:v libx264 -s 600x400 -r 30 -pix_fmt yuv420p test100.mp4"
   ]
  }
 ],
 "metadata": {
  "kernelspec": {
   "display_name": "Python 3 (ipykernel)",
   "language": "python",
   "name": "python3"
  },
  "language_info": {
   "codemirror_mode": {
    "name": "ipython",
    "version": 3
   },
   "file_extension": ".py",
   "mimetype": "text/x-python",
   "name": "python",
   "nbconvert_exporter": "python",
   "pygments_lexer": "ipython3",
   "version": "3.9.7"
  }
 },
 "nbformat": 4,
 "nbformat_minor": 4
}
