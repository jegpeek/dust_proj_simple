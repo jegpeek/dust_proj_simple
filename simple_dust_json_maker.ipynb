{
 "cells": [
  {
   "cell_type": "markdown",
   "metadata": {},
   "source": [
    "A notebook for making a 100-frame movie from 3D dust for Linnea as a test\n",
    "\n",
    "Two environment variables need to be set in bash: DROPBOX_ROOT, and FFMPEG_ROOT. The DROPBOX_ROOT folder is the path to the top level directory of the dust-holgrams folder shared by Josh. E.g. in bash,\n",
    "\n",
    "export DROPBOX_ROOT='/Users/catherinezucker/Dropbox/dust-holograms/'\n",
    "\n",
    "You can also set the path to the FFMPEG executable:\n",
    "\n",
    "export FFMPEG_PATH='/usr/local/bin'\n",
    "\n",
    "Ideally, you would set these in your bash_profile profile  (now called zprofile in the latest OS operating systems). Alternatively, if you want to set one of these variables locally in this notebook, you can use:\n",
    "\n",
    "```\n",
    "import os\n",
    "os.environ['DROPBOX_ROOT'] = '/Users/catherinezucker/Dropbox/dust-holograms'\n",
    "os.environ['FFMPEG_ROOT'] = '/Usr/local/bin'\n",
    "\n",
    "```"
   ]
  },
  {
   "cell_type": "markdown",
   "metadata": {},
   "source": [
    "First thing we need to do is figure out how to write some json"
   ]
  },
  {
   "cell_type": "code",
   "execution_count": 1,
   "metadata": {},
   "outputs": [],
   "source": [
    "import json\n",
    "import numpy as np\n",
    "import os\n",
    "%matplotlib inline\n",
    "#%matplotlib notebook\n",
    "from matplotlib import pyplot as plt\n",
    "from astropy import table"
   ]
  },
  {
   "cell_type": "markdown",
   "metadata": {},
   "source": [
    "Josh is having some trouble with ```.zprofile``` so:"
   ]
  },
  {
   "cell_type": "code",
   "execution_count": 2,
   "metadata": {},
   "outputs": [],
   "source": [
    "if (os.environ.keys() != 'DROPBOX_HOME'):\n",
    "    os.environ['DROPBOX_ROOT'] = '/Users/jegpeek/Dropbox/dust-holograms'\n",
    "    os.environ['FFMPEG_ROOT'] = '/Users/jegpeek/'"
   ]
  },
  {
   "cell_type": "markdown",
   "metadata": {},
   "source": [
    "Using a variable called ```run_name``` to record everything we need about the run"
   ]
  },
  {
   "cell_type": "code",
   "execution_count": 3,
   "metadata": {},
   "outputs": [],
   "source": [
    "def define_paths(run_name):\n",
    "    if os.path.isdir(\"{}/{}/\".format(os.environ['DROPBOX_ROOT'],run_name)) == False:\n",
    "        os.mkdir(\"{}/{}/\".format(os.environ['DROPBOX_ROOT'],run_name))\n",
    "        os.mkdir(\"{}/{}/frames/\".format(os.environ['DROPBOX_ROOT'],run_name))"
   ]
  },
  {
   "cell_type": "code",
   "execution_count": null,
   "metadata": {},
   "outputs": [],
   "source": [
    "arc = False\n",
    "simpletrack=False"
   ]
  },
  {
   "cell_type": "markdown",
   "metadata": {},
   "source": [
    "This is the camera properties, which we will fix."
   ]
  },
  {
   "cell_type": "code",
   "execution_count": 4,
   "metadata": {},
   "outputs": [],
   "source": [
    "\n",
    "if arc:\n",
    "    ec = \"szyz\"\n",
    "if not arc:\n",
    "    ec = \"rxyz\"\n",
    "\n",
    "t = True\n",
    "cprops ={\n",
    "    \"projection\": \"stereographic\",\n",
    "    \"step_size\": 1,\n",
    "    \"max_dist\": 500.0,\n",
    "    \"fov\": 180/np.pi,\n",
    "    \"x_pix\": 640,\n",
    "    \"y_pix\": 480,\n",
    "    \"vmax\": \"auto\",\n",
    "    \"clip_mode\": \"tanh\",\n",
    "    \"fuzzy\": t,\n",
    "    \"randomize_angles\": t,\n",
    "    \"euler_convention\": ec}"
   ]
  },
  {
   "cell_type": "code",
   "execution_count": 5,
   "metadata": {},
   "outputs": [
    {
     "name": "stdout",
     "output_type": "stream",
     "text": [
      "{'projection': 'stereographic', 'step_size': 1, 'max_dist': 500.0, 'fov': 57.29577951308232, 'x_pix': 640, 'y_pix': 480, 'vmax': 'auto', 'clip_mode': 'tanh', 'fuzzy': True, 'randomize_angles': True, 'euler_convention': 'rxyz'}\n"
     ]
    }
   ],
   "source": [
    "print(cprops)"
   ]
  },
  {
   "cell_type": "markdown",
   "metadata": {},
   "source": [
    "_In arc mode_ Linnea asked for 100 frames orbiting around a point with equal distance. We'll assume that the middle of these 100 frames is the Sun, and we'll set some sweep out angle in the Galactic Plane."
   ]
  },
  {
   "cell_type": "code",
   "execution_count": 6,
   "metadata": {},
   "outputs": [],
   "source": [
    "nframes = 19 # 100 frames\n",
    "if arc:\n",
    "    angle_sweep = 180/np.pi # half of this CCW and half CW from the sun"
   ]
  },
  {
   "cell_type": "code",
   "execution_count": 7,
   "metadata": {},
   "outputs": [],
   "source": [
    "def sweep(xc, yc, angle_sweep, nframes):\n",
    "    R = np.sqrt(xc**2+ yc**2)\n",
    "    phi =np.arctan2(yc, xc)*180/np.pi\n",
    "    dangs = np.linspace(0, angle_sweep, nframes)\n",
    "    xs = xc - R*np.cos((phi-angle_sweep/2+dangs)*np.pi/180)\n",
    "    ys = yc - R*np.sin((phi-angle_sweep/2+dangs)*np.pi/180)\n",
    "    angs = (dangs-angle_sweep/2+phi)*np.pi/180 ## wait are these in RADIANs??\n",
    "    return xs, ys, angs"
   ]
  },
  {
   "cell_type": "code",
   "execution_count": 8,
   "metadata": {},
   "outputs": [],
   "source": [
    "def plot_ang(x0, y0, xs, ys, run_name):\n",
    "    plt.figure(figsize=[5, 5])\n",
    "    plt.scatter(x0, y0)\n",
    "    plt.scatter(0, 0, c='red')\n",
    "    plt.plot(xs, ys)\n",
    "    plt.xlim([-500, 500])\n",
    "    plt.ylim([-500, 500])\n",
    "    plt.title(run_name)\n",
    "    plt.savefig('{}/{}/arc_{}'.format(os.environ['DROPBOX_ROOT'],run_name,run_name))"
   ]
  },
  {
   "cell_type": "code",
   "execution_count": 9,
   "metadata": {},
   "outputs": [],
   "source": [
    "def plot_track(xts, yts, xc, yc, run_name):\n",
    "    plt.figure(figsize=[5, 5])\n",
    "    plt.scatter(xts, yts)\n",
    "    plt.scatter(0, 0, c='C1')\n",
    "    plt.scatter(xc, yc, c='C2')\n",
    "    plt.xlim([-500, 500])\n",
    "    plt.ylim([-500, 500])\n",
    "    plt.title(run_name)\n",
    "    plt.savefig('{}/{}/arc_{}'.format(os.environ['DROPBOX_ROOT'],run_name,run_name))"
   ]
  },
  {
   "cell_type": "markdown",
   "metadata": {},
   "source": [
    "A helper function..."
   ]
  },
  {
   "cell_type": "code",
   "execution_count": 10,
   "metadata": {},
   "outputs": [],
   "source": [
    "def anglebetween(vec1, vec2):\n",
    "    return ang"
   ]
  },
  {
   "cell_type": "markdown",
   "metadata": {},
   "source": [
    "In track mode we'll move from one point to another while pointing at the cloud and keeping to top of the camera perpindicular to the plane that contains the track and cloud"
   ]
  },
  {
   "cell_type": "markdown",
   "metadata": {},
   "source": [
    "Given the current position of the viewer, the unit direction toward the start of the track, and the cloud position, compute the angles of rotation. The code below is for an arbitary track, and **It does not work yet**."
   ]
  },
  {
   "cell_type": "code",
   "execution_count": 11,
   "metadata": {},
   "outputs": [],
   "source": [
    "def determine_angles(v_pos, c_pos, t_hat):\n",
    "    x_hat = np.array([1, 0, 0])\n",
    "    y_hat = np.array([0, 1, 0])\n",
    "    z_hat = np.array([0, 0, 1])\n",
    "    # the vector to the cloud\n",
    "    c_vec = c_pos-v_pos\n",
    "    # the unit vector toward the cloud\n",
    "    c_hat = c_vec/np.sqrt(np.sum(c_vec**2))\n",
    "    \n",
    "    #FIRST\n",
    "    # the unit vector perp to the plane containing the track and the cloud\n",
    "    n_OCT = np.cross(c_hat, t_hat) #CHECK ORDER ####FLIPPED\n",
    "    n_hat_OCT = n_OCT/np.sqrt(np.sum(n_OCT**2))\n",
    "    #print('n_hat_OCT', n_hat_OCT)\n",
    "    #print('c_hat', c_hat)\n",
    "    #print('v_pos', v_pos)\n",
    "    #print('c_vec', c_vec)\n",
    "    #print('c_pos', c_pos)\n",
    "    # find the new orientation of the side of the camera\n",
    "    v_y_prime = np.cross(n_hat_OCT, x_hat) #CHECK ORDER (correct)\n",
    "    v_hat_y_prime = v_y_prime/np.sqrt(np.sum(v_y_prime**2))\n",
    "    # and find the angle to rotate first\n",
    "    theta = np.arccos(np.dot(v_hat_y_prime,y_hat))\n",
    "    #print('theta', theta)\n",
    "    #print('v_hat_y_prime',v_hat_y_prime)\n",
    "    \n",
    "    #SECOND\n",
    "    # the unit vector perp to the plane that contains the rotation \n",
    "    #n_phi = np.cross(v_hat_y_prime, x_hat) #CHECK ORDER ###FLIPPED\n",
    "    #n_hat_phi = n_phi/np.sqrt(np.sum(n_phi**2))\n",
    "    # the vector being rotated to\n",
    "    #v_x_prime_prime = np.cross(n_hat_OCT,n_hat_phi) #CHECK ORDER (correct)\n",
    "    #### OOOPS\n",
    "    v_x_prime_prime = np.cross(v_hat_y_prime, n_hat_OCT)\n",
    "    v_hat_x_prime_prime = v_x_prime_prime/np.sqrt(np.sum(v_x_prime_prime**2))\n",
    "    # and the angle rotated\n",
    "    phi = np.arccos(np.dot(v_hat_x_prime_prime, x_hat)) ###ORIGINAL\n",
    "   \n",
    "    #FINALLY\n",
    "    #zeta = np.arccos(np.dot(v_hat_x_prime_prime, c_hat)) ####WRONG!!\n",
    "    \n",
    "    # This is the fix to deal with the fact that np.arccos(np.dot(x_hat, c_hat)) can never return > 180!! :facepalm:\n",
    "    # I'd like to make this more generic somehow -- we really want to swap when the direction of \"up\" \n",
    "    ## is opposite the direction of the cross product\n",
    "    zeta_min = np.arccos(np.dot(v_hat_x_prime_prime, c_hat))\n",
    "    zeta = zeta_min\n",
    "    if (c_hat[1] < 0):\n",
    "        zeta = np.pi*2 - zeta_min\n",
    "    internal = np.zeros([3, 4])\n",
    "    internal[:, 0]= c_hat\n",
    "    internal[:, 1]=n_hat_OCT\n",
    "    internal[:, 2]=v_hat_y_prime\n",
    "    internal[:, 3]=v_hat_x_prime_prime\n",
    "    return theta, phi, zeta, internal\n",
    "    "
   ]
  },
  {
   "cell_type": "code",
   "execution_count": 12,
   "metadata": {},
   "outputs": [],
   "source": [
    "def determine_angles_simple(v_pos, c_pos, t_hat):\n",
    "    x_hat = np.array([1, 0, 0])\n",
    "    y_hat = np.array([0, 1, 0])\n",
    "    z_hat = np.array([0, 0, 1])\n",
    "    # the vector to the cloud\n",
    "    c_vec = c_pos-v_pos\n",
    "    # the unit vector toward the cloud\n",
    "    c_hat = c_vec/np.sqrt(np.sum(c_vec**2))\n",
    "    #\n",
    "    zeta_min = np.arccos(np.dot(c_hat, x_hat))\n",
    "    zeta = zeta_min\n",
    "    if (c_hat[1] < 0):\n",
    "        zeta = np.pi*2 - zeta_min\n",
    "    return zeta"
   ]
  },
  {
   "cell_type": "markdown",
   "metadata": {},
   "source": [
    "given some inputs build a track"
   ]
  },
  {
   "cell_type": "code",
   "execution_count": 13,
   "metadata": {},
   "outputs": [],
   "source": [
    "def track(xt1, yt1, zt1, xt2, yt2, zt2, nframes):\n",
    "    xts = np.linspace(xt1, xt2, nframes)\n",
    "    yts = np.linspace(yt1, yt2, nframes)\n",
    "    zts = np.linspace(zt1, zt2, nframes)\n",
    "    t_vec = np.array([xt2-xt1, yt2-yt1, zt2-zt1])\n",
    "    t_hat = t_vec/np.sqrt(np.sum(t_vec**2))\n",
    "    return xts, yts, zts, t_hat"
   ]
  },
  {
   "cell_type": "code",
   "execution_count": 14,
   "metadata": {},
   "outputs": [],
   "source": [
    "def build_fprops(fprops, cprops, angs, xs, ys, zc):\n",
    "    for i in range(nframes):\n",
    "        fprops.append({\n",
    "          \"xyz\": [xs[i], ys[i], zc],\n",
    "          \"angles\": [angs[i], 0.0, 0.0]\n",
    "        })\n",
    "    allprops = {\"camera_props\": cprops,\"frame_props\":fprops }\n",
    "    return allprops"
   ]
  },
  {
   "cell_type": "code",
   "execution_count": 15,
   "metadata": {},
   "outputs": [],
   "source": [
    "def build_fprops_track(fprops, cprops, theatas, phis, zetas, xs, ys, zs):\n",
    "    for i in range(nframes):\n",
    "        fprops.append({\n",
    "          \"xyz\": [xs[i], ys[i], zs[i]],\n",
    "          \"angles\": [thetas[i], phis[i], zetas[i]]\n",
    "        })\n",
    "    allprops = {\"camera_props\": cprops,\"frame_props\":fprops }\n",
    "    return allprops"
   ]
  },
  {
   "cell_type": "markdown",
   "metadata": {},
   "source": [
    "Let's read in a list of molecular clouds and make movies for each one:"
   ]
  },
  {
   "cell_type": "code",
   "execution_count": 16,
   "metadata": {},
   "outputs": [],
   "source": [
    "clouds = table.Table.read('{}/Holo_Cloud_Targets.csv'.format(os.environ['DROPBOX_ROOT']))\n",
    "#clouds = table.Table.read('{}/Holo_TEST_Targets.csv'.format(os.environ['DROPBOX_ROOT']))"
   ]
  },
  {
   "cell_type": "code",
   "execution_count": null,
   "metadata": {},
   "outputs": [
    {
     "name": "stdout",
     "output_type": "stream",
     "text": [
      "Chamaeleon\n",
      "Loaded specifications for 19 images.\n"
     ]
    },
    {
     "name": "stderr",
     "output_type": "stream",
     "text": [
      "100% (19 of 19) |########################| Elapsed Time: 0:09:34 ETA:  00:00:00"
     ]
    },
    {
     "name": "stdout",
     "output_type": "stream",
     "text": [
      "All workers done.\n",
      "0.5106838424420725\n",
      "Loading map ...\n",
      "Ray-casting frames ...\n",
      "frame 0: vmax = 0.007774628117222165\n",
      "frame 1: vmax = 0.007533695844565955\n",
      "frame 2: vmax = 0.00825817354517858\n",
      "frame 3: vmax = 0.007388696284237085\n",
      "frame 4: vmax = 0.00719197255742256\n",
      "frame 5: vmax = 0.007780349362605193\n",
      "frame 6: vmax = 0.008017498441317002\n",
      "frame 7: vmax = 0.008055286612710915\n",
      "frame 8: vmax = 0.007619323908413207\n",
      "frame 9: vmax = 0.007008404297353991\n",
      "frame 10: vmax = 0.008985140355522163\n",
      "frame 11: vmax = 0.007833898243698059\n",
      "frame 12: vmax = 0.008006307721443591\n",
      "frame 13: vmax = 0.0076154952201177364\n",
      "frame 14: vmax = 0.007025130389563856\n",
      "frame 15: vmax = 0.0078811982471816\n",
      "frame 16: vmax = 0.00702656978018058\n",
      "frame 17: vmax = 0.007077435990489903\n",
      "frame 18: vmax = 0.0071199188425380274\n",
      "Worker finished.\n"
     ]
    },
    {
     "name": "stderr",
     "output_type": "stream",
     "text": [
      "ffmpeg version 5.0-tessus  https://evermeet.cx/ffmpeg/  Copyright (c) 2000-2022 the FFmpeg developers\n",
      "  built with Apple clang version 11.0.0 (clang-1100.0.33.17)\n",
      "  configuration: --cc=/usr/bin/clang --prefix=/opt/ffmpeg --extra-version=tessus --enable-avisynth --enable-fontconfig --enable-gpl --enable-libaom --enable-libass --enable-libbluray --enable-libdav1d --enable-libfreetype --enable-libgsm --enable-libmodplug --enable-libmp3lame --enable-libmysofa --enable-libopencore-amrnb --enable-libopencore-amrwb --enable-libopenh264 --enable-libopenjpeg --enable-libopus --enable-librubberband --enable-libshine --enable-libsnappy --enable-libsoxr --enable-libspeex --enable-libtheora --enable-libtwolame --enable-libvidstab --enable-libvmaf --enable-libvo-amrwbenc --enable-libvorbis --enable-libvpx --enable-libwebp --enable-libx264 --enable-libx265 --enable-libxavs --enable-libxvid --enable-libzimg --enable-libzmq --enable-libzvbi --enable-version3 --pkg-config-flags=--static --disable-ffplay\n",
      "  libavutil      57. 17.100 / 57. 17.100\n",
      "  libavcodec     59. 18.100 / 59. 18.100\n",
      "  libavformat    59. 16.100 / 59. 16.100\n",
      "  libavdevice    59.  4.100 / 59.  4.100\n",
      "  libavfilter     8. 24.100 /  8. 24.100\n",
      "  libswscale      6.  4.100 /  6.  4.100\n",
      "  libswresample   4.  3.100 /  4.  3.100\n",
      "  libpostproc    56.  3.100 / 56.  3.100\n",
      "Input #0, image2, from '/Users/jegpeek/Dropbox/dust-holograms/Chamaeleonz=0_Track_640x480/frames/Chamaeleonz=0_Track_640x480_%05d.png':\n",
      "  Duration: 00:00:00.76, start: 0.000000, bitrate: N/A\n",
      "  Stream #0:0: Video: png, gray16be(pc), 640x480, 25 fps, 25 tbr, 25 tbn\n",
      "Stream mapping:\n",
      "  Stream #0:0 -> #0:0 (png (native) -> h264 (libx264))\n",
      "Press [q] to stop, [?] for help\n",
      "[libx264 @ 0x7fd399707f40] using cpu capabilities: MMX2 SSE2Fast SSSE3 SSE4.2 AVX FMA3 BMI2 AVX2\n",
      "[libx264 @ 0x7fd399707f40] profile High, level 3.0, 4:2:0, 8-bit\n",
      "[libx264 @ 0x7fd399707f40] 264 - core 164 r3081 19856cc - H.264/MPEG-4 AVC codec - Copyleft 2003-2021 - http://www.videolan.org/x264.html - options: cabac=1 ref=3 deblock=1:0:0 analyse=0x3:0x113 me=hex subme=7 psy=1 psy_rd=1.00:0.00 mixed_ref=1 me_range=16 chroma_me=1 trellis=1 8x8dct=1 cqm=0 deadzone=21,11 fast_pskip=1 chroma_qp_offset=-2 threads=12 lookahead_threads=2 sliced_threads=0 nr=0 decimate=1 interlaced=0 bluray_compat=0 constrained_intra=0 bframes=3 b_pyramid=2 b_adapt=1 b_bias=0 direct=1 weightb=1 open_gop=0 weightp=2 keyint=250 keyint_min=25 scenecut=40 intra_refresh=0 rc_lookahead=40 rc=crf mbtree=1 crf=23.0 qcomp=0.60 qpmin=0 qpmax=69 qpstep=4 ip_ratio=1.40 aq=1:1.00\n",
      "Output #0, mp4, to '/Users/jegpeek/Dropbox/dust-holograms/Chamaeleonz=0_Track_640x480/Chamaeleonz=0_Track_640x480.mp4':\n",
      "  Metadata:\n",
      "    encoder         : Lavf59.16.100\n",
      "  Stream #0:0: Video: h264 (avc1 / 0x31637661), yuv420p(tv, progressive), 600x400, q=2-31, 30 fps, 15360 tbn\n",
      "    Metadata:\n",
      "      encoder         : Lavc59.18.100 libx264\n",
      "    Side data:\n",
      "      cpb: bitrate max/min/avg: 0/0/0 buffer size: 0 vbv_delay: N/A\n",
      "frame=    1 fps=0.0 q=0.0 size=       0kB time=00:00:00.00 bitrate=N/A speed=   0x    \r",
      "frame=   19 fps=0.0 q=-1.0 Lsize=      55kB time=00:00:00.53 bitrate= 844.4kbits/s speed=4.21x    \n",
      "video:54kB audio:0kB subtitle:0kB other streams:0kB global headers:0kB muxing overhead: 1.940974%\n",
      "[libx264 @ 0x7fd399707f40] frame I:1     Avg QP:23.12  size:  4253\n",
      "[libx264 @ 0x7fd399707f40] frame P:5     Avg QP:24.13  size:  4109\n",
      "[libx264 @ 0x7fd399707f40] frame B:13    Avg QP:25.18  size:  2288\n",
      "[libx264 @ 0x7fd399707f40] consecutive B-frames:  5.3%  0.0% 31.6% 63.2%\n",
      "[libx264 @ 0x7fd399707f40] mb I  I16..4: 25.7% 69.1%  5.3%\n",
      "[libx264 @ 0x7fd399707f40] mb P  I16..4: 10.2% 22.8%  2.0%  P16..4: 41.0% 10.3%  2.7%  0.0%  0.0%    skip:11.0%\n",
      "[libx264 @ 0x7fd399707f40] mb B  I16..4:  0.9%  1.8%  0.1%  B16..8: 45.6%  6.8%  0.8%  direct: 4.4%  skip:39.6%  L0:56.1% L1:40.2% BI: 3.8%\n",
      "[libx264 @ 0x7fd399707f40] 8x8 transform intra:66.3% inter:82.4%\n",
      "[libx264 @ 0x7fd399707f40] coded y,uvDC,uvAC intra: 40.8% 0.0% 0.0% inter: 21.1% 0.0% 0.0%\n",
      "[libx264 @ 0x7fd399707f40] i16 v,h,dc,p: 13% 28%  7% 53%\n",
      "[libx264 @ 0x7fd399707f40] i8 v,h,dc,ddl,ddr,vr,hd,vl,hu: 16% 24% 20%  6%  8%  5% 10%  5%  8%\n",
      "[libx264 @ 0x7fd399707f40] i4 v,h,dc,ddl,ddr,vr,hd,vl,hu: 11% 25% 15%  8% 10%  7% 11%  5%  8%\n",
      "[libx264 @ 0x7fd399707f40] i8c dc,h,v,p: 100%  0%  0%  0%\n",
      "[libx264 @ 0x7fd399707f40] Weighted P-Frames: Y:40.0% UV:0.0%\n",
      "[libx264 @ 0x7fd399707f40] ref P L0: 60.5%  7.1% 22.6%  7.7%  2.1%\n",
      "[libx264 @ 0x7fd399707f40] ref B L0: 77.3% 20.0%  2.8%\n",
      "[libx264 @ 0x7fd399707f40] ref B L1: 97.5%  2.5%\n",
      "[libx264 @ 0x7fd399707f40] kb/s:688.93\n"
     ]
    },
    {
     "name": "stdout",
     "output_type": "stream",
     "text": [
      "Ophiuchus\n",
      "Loaded specifications for 19 images.\n"
     ]
    },
    {
     "name": "stderr",
     "output_type": "stream",
     "text": [
      "100% (19 of 19) |########################| Elapsed Time: 0:09:39 ETA:  00:00:00"
     ]
    },
    {
     "name": "stdout",
     "output_type": "stream",
     "text": [
      "All workers done.\n",
      "0.5106838424420725\n",
      "Loading map ...\n",
      "Ray-casting frames ...\n",
      "frame 0: vmax = 0.024074650651047705\n",
      "frame 1: vmax = 0.023004555788822472\n",
      "frame 2: vmax = 0.02651148240371549\n",
      "frame 3: vmax = 0.02797835275203397\n",
      "frame 4: vmax = 0.027497368022974117\n",
      "frame 5: vmax = 0.031032311282644515\n",
      "frame 6: vmax = 0.03195950402594463\n",
      "frame 7: vmax = 0.03451139484600572\n",
      "frame 8: vmax = 0.036882224102271724\n",
      "frame 9: vmax = 0.032813118618338195\n",
      "frame 10: vmax = 0.030980025036231384\n",
      "frame 11: vmax = 0.03322945708359475\n",
      "frame 12: vmax = 0.034630108457655295\n",
      "frame 13: vmax = 0.03461150947843271\n",
      "frame 14: vmax = 0.034854859534811114\n",
      "frame 15: vmax = 0.034701993852853774\n",
      "frame 16: vmax = 0.035119365919716074\n",
      "frame 17: vmax = 0.03496315164869884\n",
      "frame 18: vmax = 0.03519419707004272\n",
      "Worker finished.\n"
     ]
    },
    {
     "name": "stderr",
     "output_type": "stream",
     "text": [
      "ffmpeg version 5.0-tessus  https://evermeet.cx/ffmpeg/  Copyright (c) 2000-2022 the FFmpeg developers\n",
      "  built with Apple clang version 11.0.0 (clang-1100.0.33.17)\n",
      "  configuration: --cc=/usr/bin/clang --prefix=/opt/ffmpeg --extra-version=tessus --enable-avisynth --enable-fontconfig --enable-gpl --enable-libaom --enable-libass --enable-libbluray --enable-libdav1d --enable-libfreetype --enable-libgsm --enable-libmodplug --enable-libmp3lame --enable-libmysofa --enable-libopencore-amrnb --enable-libopencore-amrwb --enable-libopenh264 --enable-libopenjpeg --enable-libopus --enable-librubberband --enable-libshine --enable-libsnappy --enable-libsoxr --enable-libspeex --enable-libtheora --enable-libtwolame --enable-libvidstab --enable-libvmaf --enable-libvo-amrwbenc --enable-libvorbis --enable-libvpx --enable-libwebp --enable-libx264 --enable-libx265 --enable-libxavs --enable-libxvid --enable-libzimg --enable-libzmq --enable-libzvbi --enable-version3 --pkg-config-flags=--static --disable-ffplay\n",
      "  libavutil      57. 17.100 / 57. 17.100\n",
      "  libavcodec     59. 18.100 / 59. 18.100\n",
      "  libavformat    59. 16.100 / 59. 16.100\n",
      "  libavdevice    59.  4.100 / 59.  4.100\n",
      "  libavfilter     8. 24.100 /  8. 24.100\n",
      "  libswscale      6.  4.100 /  6.  4.100\n",
      "  libswresample   4.  3.100 /  4.  3.100\n",
      "  libpostproc    56.  3.100 / 56.  3.100\n",
      "Input #0, image2, from '/Users/jegpeek/Dropbox/dust-holograms/Ophiuchusz=0_Track_640x480/frames/Ophiuchusz=0_Track_640x480_%05d.png':\n",
      "  Duration: 00:00:00.76, start: 0.000000, bitrate: N/A\n",
      "  Stream #0:0: Video: png, gray16be(pc), 640x480, 25 fps, 25 tbr, 25 tbn\n",
      "Stream mapping:\n",
      "  Stream #0:0 -> #0:0 (png (native) -> h264 (libx264))\n",
      "Press [q] to stop, [?] for help\n",
      "[libx264 @ 0x7fe379005ac0] using cpu capabilities: MMX2 SSE2Fast SSSE3 SSE4.2 AVX FMA3 BMI2 AVX2\n",
      "[libx264 @ 0x7fe379005ac0] profile High, level 3.0, 4:2:0, 8-bit\n",
      "[libx264 @ 0x7fe379005ac0] 264 - core 164 r3081 19856cc - H.264/MPEG-4 AVC codec - Copyleft 2003-2021 - http://www.videolan.org/x264.html - options: cabac=1 ref=3 deblock=1:0:0 analyse=0x3:0x113 me=hex subme=7 psy=1 psy_rd=1.00:0.00 mixed_ref=1 me_range=16 chroma_me=1 trellis=1 8x8dct=1 cqm=0 deadzone=21,11 fast_pskip=1 chroma_qp_offset=-2 threads=12 lookahead_threads=2 sliced_threads=0 nr=0 decimate=1 interlaced=0 bluray_compat=0 constrained_intra=0 bframes=3 b_pyramid=2 b_adapt=1 b_bias=0 direct=1 weightb=1 open_gop=0 weightp=2 keyint=250 keyint_min=25 scenecut=40 intra_refresh=0 rc_lookahead=40 rc=crf mbtree=1 crf=23.0 qcomp=0.60 qpmin=0 qpmax=69 qpstep=4 ip_ratio=1.40 aq=1:1.00\n",
      "Output #0, mp4, to '/Users/jegpeek/Dropbox/dust-holograms/Ophiuchusz=0_Track_640x480/Ophiuchusz=0_Track_640x480.mp4':\n",
      "  Metadata:\n",
      "    encoder         : Lavf59.16.100\n",
      "  Stream #0:0: Video: h264 (avc1 / 0x31637661), yuv420p(tv, progressive), 600x400, q=2-31, 30 fps, 15360 tbn\n",
      "    Metadata:\n",
      "      encoder         : Lavc59.18.100 libx264\n",
      "    Side data:\n",
      "      cpb: bitrate max/min/avg: 0/0/0 buffer size: 0 vbv_delay: N/A\n",
      "frame=    1 fps=0.0 q=0.0 size=       0kB time=00:00:00.00 bitrate=N/A speed=   0x    \r",
      "frame=   19 fps=0.0 q=-1.0 Lsize=      32kB time=00:00:00.53 bitrate= 498.7kbits/s speed=5.04x    \n",
      "video:31kB audio:0kB subtitle:0kB other streams:0kB global headers:0kB muxing overhead: 3.382559%\n",
      "[libx264 @ 0x7fe379005ac0] frame I:1     Avg QP:22.65  size:  2954\n",
      "[libx264 @ 0x7fe379005ac0] frame P:6     Avg QP:22.78  size:  2314\n",
      "[libx264 @ 0x7fe379005ac0] frame B:12    Avg QP:23.56  size:  1220\n",
      "[libx264 @ 0x7fe379005ac0] consecutive B-frames: 15.8%  0.0%  0.0% 84.2%\n",
      "[libx264 @ 0x7fe379005ac0] mb I  I16..4: 24.4% 75.1%  0.5%\n",
      "[libx264 @ 0x7fe379005ac0] mb P  I16..4:  4.2% 13.1%  0.4%  P16..4: 38.6%  8.0%  3.3%  0.0%  0.0%    skip:32.5%\n",
      "[libx264 @ 0x7fe379005ac0] mb B  I16..4:  0.2%  0.4%  0.0%  B16..8: 43.6%  2.8%  0.3%  direct: 1.1%  skip:51.7%  L0:42.8% L1:55.3% BI: 1.9%\n",
      "[libx264 @ 0x7fe379005ac0] 8x8 transform intra:74.4% inter:91.3%\n",
      "[libx264 @ 0x7fe379005ac0] coded y,uvDC,uvAC intra: 34.9% 0.0% 0.0% inter: 11.3% 0.0% 0.0%\n",
      "[libx264 @ 0x7fe379005ac0] i16 v,h,dc,p: 10% 27% 10% 52%\n",
      "[libx264 @ 0x7fe379005ac0] i8 v,h,dc,ddl,ddr,vr,hd,vl,hu: 21% 20% 28%  5%  6%  4%  6%  4%  6%\n",
      "[libx264 @ 0x7fe379005ac0] i4 v,h,dc,ddl,ddr,vr,hd,vl,hu: 10% 23% 21% 10% 10%  5%  8%  4%  8%\n",
      "[libx264 @ 0x7fe379005ac0] i8c dc,h,v,p: 100%  0%  0%  0%\n",
      "[libx264 @ 0x7fe379005ac0] Weighted P-Frames: Y:16.7% UV:0.0%\n",
      "[libx264 @ 0x7fe379005ac0] ref P L0: 67.5%  9.7% 15.7%  6.9%  0.2%\n",
      "[libx264 @ 0x7fe379005ac0] ref B L0: 94.2%  4.4%  1.5%\n",
      "[libx264 @ 0x7fe379005ac0] ref B L1: 97.6%  2.4%\n",
      "[libx264 @ 0x7fe379005ac0] kb/s:397.58\n"
     ]
    },
    {
     "name": "stdout",
     "output_type": "stream",
     "text": [
      "Lupus\n",
      "Loaded specifications for 19 images.\n"
     ]
    },
    {
     "name": "stderr",
     "output_type": "stream",
     "text": [
      "100% (19 of 19) |########################| Elapsed Time: 0:09:36 ETA:  00:00:00"
     ]
    },
    {
     "name": "stdout",
     "output_type": "stream",
     "text": [
      "All workers done.\n",
      "0.5106838424420725\n",
      "Loading map ...\n",
      "Ray-casting frames ...\n",
      "frame 0: vmax = 0.01926858712806279\n",
      "frame 1: vmax = 0.02033023923455767\n",
      "frame 2: vmax = 0.022523712526526653\n",
      "frame 3: vmax = 0.02213665629629395\n",
      "frame 4: vmax = 0.02425707956856786\n",
      "frame 5: vmax = 0.02670064909964276\n",
      "frame 6: vmax = 0.030082030215125996\n",
      "frame 7: vmax = 0.03133995616407628\n",
      "frame 8: vmax = 0.03666380250439397\n",
      "frame 9: vmax = 0.034376618153430176\n",
      "frame 10: vmax = 0.034194363186310514\n",
      "frame 11: vmax = 0.035662916840985416\n",
      "frame 12: vmax = 0.035297360707394546\n",
      "frame 13: vmax = 0.01606357511364331\n",
      "frame 14: vmax = 0.007948300713222126\n",
      "frame 15: vmax = 0.008050046792195644\n",
      "frame 16: vmax = 0.008041206616413547\n",
      "frame 17: vmax = 0.00877997169169248\n",
      "frame 18: vmax = 0.008147005028826242\n",
      "Worker finished.\n"
     ]
    },
    {
     "name": "stderr",
     "output_type": "stream",
     "text": [
      "ffmpeg version 5.0-tessus  https://evermeet.cx/ffmpeg/  Copyright (c) 2000-2022 the FFmpeg developers\n",
      "  built with Apple clang version 11.0.0 (clang-1100.0.33.17)\n",
      "  configuration: --cc=/usr/bin/clang --prefix=/opt/ffmpeg --extra-version=tessus --enable-avisynth --enable-fontconfig --enable-gpl --enable-libaom --enable-libass --enable-libbluray --enable-libdav1d --enable-libfreetype --enable-libgsm --enable-libmodplug --enable-libmp3lame --enable-libmysofa --enable-libopencore-amrnb --enable-libopencore-amrwb --enable-libopenh264 --enable-libopenjpeg --enable-libopus --enable-librubberband --enable-libshine --enable-libsnappy --enable-libsoxr --enable-libspeex --enable-libtheora --enable-libtwolame --enable-libvidstab --enable-libvmaf --enable-libvo-amrwbenc --enable-libvorbis --enable-libvpx --enable-libwebp --enable-libx264 --enable-libx265 --enable-libxavs --enable-libxvid --enable-libzimg --enable-libzmq --enable-libzvbi --enable-version3 --pkg-config-flags=--static --disable-ffplay\n",
      "  libavutil      57. 17.100 / 57. 17.100\n",
      "  libavcodec     59. 18.100 / 59. 18.100\n",
      "  libavformat    59. 16.100 / 59. 16.100\n",
      "  libavdevice    59.  4.100 / 59.  4.100\n",
      "  libavfilter     8. 24.100 /  8. 24.100\n",
      "  libswscale      6.  4.100 /  6.  4.100\n",
      "  libswresample   4.  3.100 /  4.  3.100\n",
      "  libpostproc    56.  3.100 / 56.  3.100\n",
      "Input #0, image2, from '/Users/jegpeek/Dropbox/dust-holograms/Lupusz=0_Track_640x480/frames/Lupusz=0_Track_640x480_%05d.png':\n",
      "  Duration: 00:00:00.76, start: 0.000000, bitrate: N/A\n",
      "  Stream #0:0: Video: png, gray16be(pc), 640x480, 25 fps, 25 tbr, 25 tbn\n",
      "Stream mapping:\n",
      "  Stream #0:0 -> #0:0 (png (native) -> h264 (libx264))\n",
      "Press [q] to stop, [?] for help\n",
      "[libx264 @ 0x7fc951f07540] using cpu capabilities: MMX2 SSE2Fast SSSE3 SSE4.2 AVX FMA3 BMI2 AVX2\n",
      "[libx264 @ 0x7fc951f07540] profile High, level 3.0, 4:2:0, 8-bit\n",
      "[libx264 @ 0x7fc951f07540] 264 - core 164 r3081 19856cc - H.264/MPEG-4 AVC codec - Copyleft 2003-2021 - http://www.videolan.org/x264.html - options: cabac=1 ref=3 deblock=1:0:0 analyse=0x3:0x113 me=hex subme=7 psy=1 psy_rd=1.00:0.00 mixed_ref=1 me_range=16 chroma_me=1 trellis=1 8x8dct=1 cqm=0 deadzone=21,11 fast_pskip=1 chroma_qp_offset=-2 threads=12 lookahead_threads=2 sliced_threads=0 nr=0 decimate=1 interlaced=0 bluray_compat=0 constrained_intra=0 bframes=3 b_pyramid=2 b_adapt=1 b_bias=0 direct=1 weightb=1 open_gop=0 weightp=2 keyint=250 keyint_min=25 scenecut=40 intra_refresh=0 rc_lookahead=40 rc=crf mbtree=1 crf=23.0 qcomp=0.60 qpmin=0 qpmax=69 qpstep=4 ip_ratio=1.40 aq=1:1.00\n",
      "Output #0, mp4, to '/Users/jegpeek/Dropbox/dust-holograms/Lupusz=0_Track_640x480/Lupusz=0_Track_640x480.mp4':\n",
      "  Metadata:\n",
      "    encoder         : Lavf59.16.100\n",
      "  Stream #0:0: Video: h264 (avc1 / 0x31637661), yuv420p(tv, progressive), 600x400, q=2-31, 30 fps, 15360 tbn\n",
      "    Metadata:\n",
      "      encoder         : Lavc59.18.100 libx264\n",
      "    Side data:\n",
      "      cpb: bitrate max/min/avg: 0/0/0 buffer size: 0 vbv_delay: N/A\n",
      "frame=    1 fps=0.0 q=0.0 size=       0kB time=00:00:00.00 bitrate=N/A speed=   0x    \r",
      "frame=   19 fps=0.0 q=-1.0 Lsize=      46kB time=00:00:00.53 bitrate= 700.3kbits/s speed=4.28x    \n",
      "video:45kB audio:0kB subtitle:0kB other streams:0kB global headers:0kB muxing overhead: 2.385860%\n",
      "[libx264 @ 0x7fc951f07540] frame I:1     Avg QP:23.23  size:  3445\n",
      "[libx264 @ 0x7fc951f07540] frame P:7     Avg QP:23.90  size:  3086\n",
      "[libx264 @ 0x7fc951f07540] frame B:11    Avg QP:24.89  size:  1806\n",
      "[libx264 @ 0x7fc951f07540] consecutive B-frames: 15.8% 21.1%  0.0% 63.2%\n",
      "[libx264 @ 0x7fc951f07540] mb I  I16..4: 23.8% 74.0%  2.2%\n",
      "[libx264 @ 0x7fc951f07540] mb P  I16..4:  7.2% 15.7%  0.5%  P16..4: 44.4%  9.3%  2.9%  0.0%  0.0%    skip:19.9%\n",
      "[libx264 @ 0x7fc951f07540] mb B  I16..4:  0.3%  1.5%  0.1%  B16..8: 39.2%  5.1%  0.7%  direct: 3.1%  skip:50.0%  L0:42.5% L1:54.6% BI: 3.0%\n",
      "[libx264 @ 0x7fc951f07540] 8x8 transform intra:70.6% inter:86.2%\n",
      "[libx264 @ 0x7fc951f07540] coded y,uvDC,uvAC intra: 36.7% 0.0% 0.0% inter: 17.4% 0.0% 0.0%\n",
      "[libx264 @ 0x7fc951f07540] i16 v,h,dc,p: 10% 25% 10% 55%\n",
      "[libx264 @ 0x7fc951f07540] i8 v,h,dc,ddl,ddr,vr,hd,vl,hu: 17% 20% 25%  6%  7%  5%  8%  4%  8%\n",
      "[libx264 @ 0x7fc951f07540] i4 v,h,dc,ddl,ddr,vr,hd,vl,hu: 14% 25% 13%  8% 10%  9% 11%  5%  6%\n",
      "[libx264 @ 0x7fc951f07540] i8c dc,h,v,p: 100%  0%  0%  0%\n",
      "[libx264 @ 0x7fc951f07540] Weighted P-Frames: Y:57.1% UV:0.0%\n",
      "[libx264 @ 0x7fc951f07540] ref P L0: 68.8% 11.7% 14.8%  3.8%  0.8%\n",
      "[libx264 @ 0x7fc951f07540] ref B L0: 94.2%  4.9%  0.9%\n",
      "[libx264 @ 0x7fc951f07540] ref B L1: 97.7%  2.3%\n",
      "[libx264 @ 0x7fc951f07540] kb/s:567.31\n"
     ]
    },
    {
     "name": "stdout",
     "output_type": "stream",
     "text": [
      "Taurus\n",
      "Loaded specifications for 19 images.\n"
     ]
    },
    {
     "name": "stderr",
     "output_type": "stream",
     "text": [
      " 10% (2 of 19) |##                       | Elapsed Time: 0:01:02 ETA:   0:08:53Traceback (most recent call last):\n",
      "  File \"project_frames.py\", line 270, in <module>\n",
      "    main()\n",
      "  File \"project_frames.py\", line 264, in main\n",
      "    make_frames_parallel(args.n_processes, args.dustmap, args.output, spec)\n",
      "  File \"project_frames.py\", line 136, in make_frames_parallel\n",
      "    frame_q.join()\n",
      "  File \"/Users/jegpeek/opt/anaconda3/lib/python3.8/multiprocessing/queues.py\", line 326, in join\n",
      "    self._cond.wait()\n",
      "  File \"/Users/jegpeek/opt/anaconda3/lib/python3.8/multiprocessing/synchronize.py\", line 261, in wait\n",
      "    return self._wait_semaphore.acquire(True, timeout)\n",
      "KeyboardInterrupt\n"
     ]
    },
    {
     "name": "stdout",
     "output_type": "stream",
     "text": [
      "0.5106838424420725\n",
      "Loading map ...\n",
      "Ray-casting frames ...\n",
      "frame 0: vmax = 0.023357480484826738\n",
      "frame 1: vmax = 0.022253698703361805\n"
     ]
    },
    {
     "name": "stderr",
     "output_type": "stream",
     "text": [
      "Process Process-1:\n",
      "Traceback (most recent call last):\n",
      "  File \"/Users/jegpeek/opt/anaconda3/lib/python3.8/multiprocessing/process.py\", line 315, in _bootstrap\n",
      "    self.run()\n",
      "  File \"/Users/jegpeek/opt/anaconda3/lib/python3.8/multiprocessing/process.py\", line 108, in run\n",
      "    self._target(*self._args, **self._kwargs)\n",
      "  File \"/Users/jegpeek/GitHub/dust_proj_simple/project_frames.py\", line 188, in make_frames\n",
      "    img = project_map(\n",
      "  File \"/Users/jegpeek/GitHub/dust_proj_simple/project_frames.py\", line 79, in project_map\n",
      "    v += fuzzy * step_size * np.random.normal(size=v.shape)\n",
      "KeyboardInterrupt\n",
      "ffmpeg version 5.0-tessus  https://evermeet.cx/ffmpeg/  Copyright (c) 2000-2022 the FFmpeg developers\n",
      "  built with Apple clang version 11.0.0 (clang-1100.0.33.17)\n",
      "  configuration: --cc=/usr/bin/clang --prefix=/opt/ffmpeg --extra-version=tessus --enable-avisynth --enable-fontconfig --enable-gpl --enable-libaom --enable-libass --enable-libbluray --enable-libdav1d --enable-libfreetype --enable-libgsm --enable-libmodplug --enable-libmp3lame --enable-libmysofa --enable-libopencore-amrnb --enable-libopencore-amrwb --enable-libopenh264 --enable-libopenjpeg --enable-libopus --enable-librubberband --enable-libshine --enable-libsnappy --enable-libsoxr --enable-libspeex --enable-libtheora --enable-libtwolame --enable-libvidstab --enable-libvmaf --enable-libvo-amrwbenc --enable-libvorbis --enable-libvpx --enable-libwebp --enable-libx264 --enable-libx265 --enable-libxavs --enable-libxvid --enable-libzimg --enable-libzmq --enable-libzvbi --enable-version3 --pkg-config-flags=--static --disable-ffplay\n",
      "  libavutil      57. 17.100 / 57. 17.100\n",
      "  libavcodec     59. 18.100 / 59. 18.100\n",
      "  libavformat    59. 16.100 / 59. 16.100\n",
      "  libavdevice    59.  4.100 / 59.  4.100\n",
      "  libavfilter     8. 24.100 /  8. 24.100\n",
      "  libswscale      6.  4.100 /  6.  4.100\n",
      "  libswresample   4.  3.100 /  4.  3.100\n",
      "  libpostproc    56.  3.100 / 56.  3.100\n",
      "Input #0, image2, from '/Users/jegpeek/Dropbox/dust-holograms/Taurusz=0_Track_640x480/frames/Taurusz=0_Track_640x480_%05d.png':\n",
      "  Duration: 00:00:00.08, start: 0.000000, bitrate: N/A\n",
      "  Stream #0:0: Video: png, gray16be(pc), 640x480, 25 fps, 25 tbr, 25 tbn\n",
      "Stream mapping:\n",
      "  Stream #0:0 -> #0:0 (png (native) -> h264 (libx264))\n",
      "Press [q] to stop, [?] for help\n",
      "[libx264 @ 0x7f8a54f06ac0] using cpu capabilities: MMX2 SSE2Fast SSSE3 SSE4.2 AVX FMA3 BMI2 AVX2\n",
      "[libx264 @ 0x7f8a54f06ac0] profile High, level 3.0, 4:2:0, 8-bit\n",
      "[libx264 @ 0x7f8a54f06ac0] 264 - core 164 r3081 19856cc - H.264/MPEG-4 AVC codec - Copyleft 2003-2021 - http://www.videolan.org/x264.html - options: cabac=1 ref=3 deblock=1:0:0 analyse=0x3:0x113 me=hex subme=7 psy=1 psy_rd=1.00:0.00 mixed_ref=1 me_range=16 chroma_me=1 trellis=1 8x8dct=1 cqm=0 deadzone=21,11 fast_pskip=1 chroma_qp_offset=-2 threads=12 lookahead_threads=2 sliced_threads=0 nr=0 decimate=1 interlaced=0 bluray_compat=0 constrained_intra=0 bframes=3 b_pyramid=2 b_adapt=1 b_bias=0 direct=1 weightb=1 open_gop=0 weightp=2 keyint=250 keyint_min=25 scenecut=40 intra_refresh=0 rc_lookahead=40 rc=crf mbtree=1 crf=23.0 qcomp=0.60 qpmin=0 qpmax=69 qpstep=4 ip_ratio=1.40 aq=1:1.00\n",
      "Output #0, mp4, to '/Users/jegpeek/Dropbox/dust-holograms/Taurusz=0_Track_640x480/Taurusz=0_Track_640x480.mp4':\n",
      "  Metadata:\n",
      "    encoder         : Lavf59.16.100\n",
      "  Stream #0:0: Video: h264 (avc1 / 0x31637661), yuv420p(tv, progressive), 600x400, q=2-31, 30 fps, 15360 tbn\n",
      "    Metadata:\n",
      "      encoder         : Lavc59.18.100 libx264\n",
      "    Side data:\n",
      "      cpb: bitrate max/min/avg: 0/0/0 buffer size: 0 vbv_delay: N/A\n",
      "frame=    2 fps=0.0 q=-1.0 Lsize=       6kB time=00:00:00.03 bitrate=1372.8kbits/s speed=0.727x    \n",
      "video:5kB audio:0kB subtitle:0kB other streams:0kB global headers:0kB muxing overhead: 17.462595%\n",
      "[libx264 @ 0x7f8a54f06ac0] frame I:1     Avg QP:22.89  size:  2896\n",
      "[libx264 @ 0x7f8a54f06ac0] frame P:1     Avg QP:24.81  size:  1293\n",
      "[libx264 @ 0x7f8a54f06ac0] mb I  I16..4: 29.9% 68.4%  1.7%\n",
      "[libx264 @ 0x7f8a54f06ac0] mb P  I16..4:  1.1%  1.9%  0.0%  P16..4: 28.2%  7.9%  3.4%  0.0%  0.0%    skip:57.6%\n",
      "[libx264 @ 0x7f8a54f06ac0] 8x8 transform intra:68.3% inter:85.4%\n",
      "[libx264 @ 0x7f8a54f06ac0] coded y,uvDC,uvAC intra: 32.2% 0.0% 0.0% inter: 9.5% 0.0% 0.0%\n",
      "[libx264 @ 0x7f8a54f06ac0] i16 v,h,dc,p: 43% 21% 14% 22%\n",
      "[libx264 @ 0x7f8a54f06ac0] i8 v,h,dc,ddl,ddr,vr,hd,vl,hu: 37% 22% 15%  4%  4%  3%  7%  2%  5%\n",
      "[libx264 @ 0x7f8a54f06ac0] i4 v,h,dc,ddl,ddr,vr,hd,vl,hu: 16% 33%  9%  8%  9%  5% 11%  2%  7%\n",
      "[libx264 @ 0x7f8a54f06ac0] i8c dc,h,v,p: 100%  0%  0%  0%\n",
      "[libx264 @ 0x7f8a54f06ac0] Weighted P-Frames: Y:0.0% UV:0.0%\n",
      "[libx264 @ 0x7f8a54f06ac0] kb/s:502.68\n"
     ]
    },
    {
     "name": "stdout",
     "output_type": "stream",
     "text": [
      "Perseus\n",
      "Loaded specifications for 19 images.\n"
     ]
    },
    {
     "name": "stderr",
     "output_type": "stream",
     "text": [
      "N/A% (0 of 19) |                         | Elapsed Time: 0:00:00 ETA:  --:--:--Traceback (most recent call last):\n",
      "  File \"project_frames.py\", line 270, in <module>\n",
      "    main()\n",
      "  File \"project_frames.py\", line 264, in main\n",
      "    make_frames_parallel(args.n_processes, args.dustmap, args.output, spec)\n",
      "  File \"project_frames.py\", line 136, in make_frames_parallel\n",
      "    frame_q.join()\n",
      "  File \"/Users/jegpeek/opt/anaconda3/lib/python3.8/multiprocessing/queues.py\", line 326, in join\n",
      "    self._cond.wait()\n",
      "  File \"/Users/jegpeek/opt/anaconda3/lib/python3.8/multiprocessing/synchronize.py\", line 261, in wait\n",
      "    return self._wait_semaphore.acquire(True, timeout)\n",
      "KeyboardInterrupt\n",
      "Process Process-1:\n",
      "Traceback (most recent call last):\n",
      "  File \"/Users/jegpeek/opt/anaconda3/lib/python3.8/multiprocessing/process.py\", line 315, in _bootstrap\n",
      "    self.run()\n",
      "  File \"/Users/jegpeek/opt/anaconda3/lib/python3.8/multiprocessing/process.py\", line 108, in run\n",
      "    self._target(*self._args, **self._kwargs)\n",
      "  File \"/Users/jegpeek/GitHub/dust_proj_simple/project_frames.py\", line 188, in make_frames\n",
      "    img = project_map(\n",
      "  File \"/Users/jegpeek/GitHub/dust_proj_simple/project_frames.py\", line 81, in project_map\n",
      "    img += density_map.get_pix_val(v, outer_fill=0.)\n",
      "  File \"/Users/jegpeek/GitHub/dust_proj_simple/project_frames.py\", line 46, in get_pix_val\n",
      "    dist_idx = np.ceil(dist_idx).astype('i4')\n",
      "KeyboardInterrupt\n"
     ]
    },
    {
     "name": "stdout",
     "output_type": "stream",
     "text": [
      "0.5106838424420725\n",
      "Loading map ...\n",
      "Ray-casting frames ...\n"
     ]
    },
    {
     "name": "stderr",
     "output_type": "stream",
     "text": [
      "ffmpeg version 5.0-tessus  https://evermeet.cx/ffmpeg/  Copyright (c) 2000-2022 the FFmpeg developers\n",
      "  built with Apple clang version 11.0.0 (clang-1100.0.33.17)\n",
      "  configuration: --cc=/usr/bin/clang --prefix=/opt/ffmpeg --extra-version=tessus --enable-avisynth --enable-fontconfig --enable-gpl --enable-libaom --enable-libass --enable-libbluray --enable-libdav1d --enable-libfreetype --enable-libgsm --enable-libmodplug --enable-libmp3lame --enable-libmysofa --enable-libopencore-amrnb --enable-libopencore-amrwb --enable-libopenh264 --enable-libopenjpeg --enable-libopus --enable-librubberband --enable-libshine --enable-libsnappy --enable-libsoxr --enable-libspeex --enable-libtheora --enable-libtwolame --enable-libvidstab --enable-libvmaf --enable-libvo-amrwbenc --enable-libvorbis --enable-libvpx --enable-libwebp --enable-libx264 --enable-libx265 --enable-libxavs --enable-libxvid --enable-libzimg --enable-libzmq --enable-libzvbi --enable-version3 --pkg-config-flags=--static --disable-ffplay\n",
      "  libavutil      57. 17.100 / 57. 17.100\n",
      "  libavcodec     59. 18.100 / 59. 18.100\n",
      "  libavformat    59. 16.100 / 59. 16.100\n",
      "  libavdevice    59.  4.100 / 59.  4.100\n",
      "  libavfilter     8. 24.100 /  8. 24.100\n",
      "  libswscale      6.  4.100 /  6.  4.100\n",
      "  libswresample   4.  3.100 /  4.  3.100\n",
      "  libpostproc    56.  3.100 / 56.  3.100\n",
      "[image2 @ 0x7fa36f8042c0] Could find no file with path '/Users/jegpeek/Dropbox/dust-holograms/Perseusz=0_Track_640x480/frames/Perseusz=0_Track_640x480_%05d.png' and index in the range 0-4\n",
      "/Users/jegpeek/Dropbox/dust-holograms/Perseusz=0_Track_640x480/frames/Perseusz=0_Track_640x480_%05d.png: No such file or directory\n"
     ]
    },
    {
     "name": "stdout",
     "output_type": "stream",
     "text": [
      "Musca\n",
      "Loaded specifications for 19 images.\n"
     ]
    }
   ],
   "source": [
    "makeimages = True\n",
    "makemovies = True\n",
    "oldzeta = 0\n",
    "tl=1\n",
    "for c in clouds:\n",
    "    print(c['cloud'])\n",
    "    run_name = c['cloud'] + 'z=0_Track_640x480'\n",
    "    define_paths(run_name)\n",
    "    if arc:\n",
    "        xs, ys, angs = sweep(c['x'], c['y'], angle_sweep, nframes)\n",
    "        print(xs, ys, angs)\n",
    "        plot_ang(c['x'], c['y'], xs, ys, run_name)\n",
    "        # we make an empty list of frames to which we can append frames\n",
    "        fprops = []\n",
    "        allprops = build_fprops(fprops, cprops, angs, xs, ys, np.float(c['z']))\n",
    "    if (not arc) and (simpletrack):\n",
    "        xts, yts, zts, t_hat = track(c['y']*tl/2, c['x']*(-1)*tl/2, c['z'], c['y']*(-1)*tl/2, c['x']*(tl/2), c['z'], nframes)\n",
    "        plot_track(xts, yts, c['x'], c['y'], run_name)\n",
    "        fprops = []\n",
    "        thetas = np.zeros(nframes)\n",
    "        phis = np.zeros(nframes)\n",
    "        zetas = np.zeros(nframes)\n",
    "        for j in np.arange(nframes):\n",
    "            v_pos = np.array([xts[j], yts[j], zts[j]])\n",
    "            c_pos = np.array([c['x'], c['y'], c['z']])\n",
    "            zetas[j] = determine_angles_simple(v_pos, c_pos, t_hat)\n",
    "        allprops = build_fprops_track(fprops, cprops, thetas, phis, zetas, xts, yts, zts)\n",
    "    if (not arc) and (not simpletrack) :\n",
    "        #hardcoding a track\n",
    "        #xts, yts, zts, t_hat = track(c['xt1'], c['yt1'], c['zt1'], c['xt2'], c['yt2'], c['zt2'], nframes)\n",
    "        xts, yts, zts, t_hat = track(c['y']*tl/2, c['x']*(-1)*tl/2, 0, c['y']*(-1)*tl/2, c['x']*(tl/2), 0, nframes)\n",
    "        plot_track(xts, yts, c['x'], c['y'], run_name)\n",
    "        fprops = []\n",
    "        thetas = np.zeros(nframes)\n",
    "        phis = np.zeros(nframes)\n",
    "        zetas = np.zeros(nframes)\n",
    "        internals = np.zeros([nframes, 3, 4])\n",
    "        for j in np.arange(nframes):\n",
    "            v_pos = np.array([xts[j], yts[j], zts[j]])\n",
    "            c_pos = np.array([c['x'], c['y'], c['z']])\n",
    "            thetas[j], phis[j], zetas[j], internals[j, :, :] = determine_angles(v_pos, c_pos, t_hat)\n",
    "            #print(thetas[j]*180/np.pi, phis[j]*180/np.pi, zetas[j]*180/np.pi,(zetas[j]-oldzeta)*180/np.pi )\n",
    "            oldzeta = zetas[j]\n",
    "        allprops = build_fprops_track(fprops, cprops, thetas, phis, zetas, xts, yts, zts)\n",
    "\n",
    "    with open('{}/{}/{}.json'.format(os.environ['DROPBOX_ROOT'],run_name,run_name), 'w') as outfile:\n",
    "        json.dump(allprops, outfile,indent=2)\n",
    "    if makeimages:\n",
    "        os.system(\"python3 project_frames.py {}/{}/{}.json {}/leike2020_bayestar19_splice.npy {}/{}/frames/{}_{{:05d}}.png\"\n",
    "          .format(os.environ['DROPBOX_ROOT'],run_name,run_name,os.environ['DROPBOX_ROOT'],os.environ['DROPBOX_ROOT'],run_name, run_name))\n",
    "    if makemovies:\n",
    "        os.system(\"{}/ffmpeg -y -r 30 -start_number 0 -i {}/{}/frames/{}_%05d.png -c:v libx264 -s 600x400 -r 30 -pix_fmt yuv420p {}/{}/{}.mp4\"\n",
    "          .format(os.environ['FFMPEG_ROOT'],os.environ['DROPBOX_ROOT'],run_name,run_name,os.environ['DROPBOX_ROOT'],run_name, run_name))\n"
   ]
  },
  {
   "cell_type": "code",
   "execution_count": null,
   "metadata": {},
   "outputs": [],
   "source": []
  }
 ],
 "metadata": {
  "kernelspec": {
   "display_name": "Python 3 (ipykernel)",
   "language": "python",
   "name": "python3"
  },
  "language_info": {
   "codemirror_mode": {
    "name": "ipython",
    "version": 3
   },
   "file_extension": ".py",
   "mimetype": "text/x-python",
   "name": "python",
   "nbconvert_exporter": "python",
   "pygments_lexer": "ipython3",
   "version": "3.8.3"
  }
 },
 "nbformat": 4,
 "nbformat_minor": 4
}
